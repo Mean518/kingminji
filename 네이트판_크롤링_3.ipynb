{
 "cells": [
  {
   "cell_type": "code",
   "execution_count": 4,
   "metadata": {},
   "outputs": [],
   "source": [
    "import pandas as pd\n",
    "import requests\n",
    "from bs4 import BeautifulSoup\n",
    "from selenium import webdriver\n",
    "import time\n",
    "from selenium.webdriver.common.keys import Keys"
   ]
  },
  {
   "cell_type": "code",
   "execution_count": 13,
   "metadata": {},
   "outputs": [],
   "source": [
    "data = {'글제목':[0],'내용':[0],'베댓':[0]}"
   ]
  },
  {
   "cell_type": "code",
   "execution_count": 14,
   "metadata": {
    "scrolled": true
   },
   "outputs": [
    {
     "data": {
      "text/html": [
       "<div>\n",
       "<style scoped>\n",
       "    .dataframe tbody tr th:only-of-type {\n",
       "        vertical-align: middle;\n",
       "    }\n",
       "\n",
       "    .dataframe tbody tr th {\n",
       "        vertical-align: top;\n",
       "    }\n",
       "\n",
       "    .dataframe thead th {\n",
       "        text-align: right;\n",
       "    }\n",
       "</style>\n",
       "<table border=\"1\" class=\"dataframe\">\n",
       "  <thead>\n",
       "    <tr style=\"text-align: right;\">\n",
       "      <th></th>\n",
       "      <th>글제목</th>\n",
       "      <th>내용</th>\n",
       "      <th>베댓</th>\n",
       "    </tr>\n",
       "  </thead>\n",
       "  <tbody>\n",
       "    <tr>\n",
       "      <th>0</th>\n",
       "      <td>0</td>\n",
       "      <td>0</td>\n",
       "      <td>0</td>\n",
       "    </tr>\n",
       "  </tbody>\n",
       "</table>\n",
       "</div>"
      ],
      "text/plain": [
       "   글제목  내용  베댓\n",
       "0    0   0   0"
      ]
     },
     "execution_count": 14,
     "metadata": {},
     "output_type": "execute_result"
    }
   ],
   "source": [
    "table = pd.DataFrame(data)\n",
    "table"
   ]
  },
  {
   "cell_type": "code",
   "execution_count": 23,
   "metadata": {},
   "outputs": [
    {
     "ename": "IndexError",
     "evalue": "list index out of range",
     "output_type": "error",
     "traceback": [
      "\u001b[1;31m---------------------------------------------------------------------------\u001b[0m",
      "\u001b[1;31mIndexError\u001b[0m                                Traceback (most recent call last)",
      "\u001b[1;32m<ipython-input-23-5d874f632010>\u001b[0m in \u001b[0;36m<module>\u001b[1;34m\u001b[0m\n\u001b[0;32m      8\u001b[0m     \u001b[1;32mfor\u001b[0m \u001b[0mi\u001b[0m \u001b[1;32min\u001b[0m \u001b[0mrange\u001b[0m\u001b[1;33m(\u001b[0m\u001b[1;36m1\u001b[0m\u001b[1;33m,\u001b[0m\u001b[1;36m11\u001b[0m\u001b[1;33m)\u001b[0m \u001b[1;33m:\u001b[0m\u001b[1;33m\u001b[0m\u001b[1;33m\u001b[0m\u001b[0m\n\u001b[0;32m      9\u001b[0m \u001b[1;31m#         try:\u001b[0m\u001b[1;33m\u001b[0m\u001b[1;33m\u001b[0m\u001b[1;33m\u001b[0m\u001b[0m\n\u001b[1;32m---> 10\u001b[1;33m         \u001b[0mdriver\u001b[0m\u001b[1;33m.\u001b[0m\u001b[0mfind_elements_by_xpath\u001b[0m\u001b[1;33m(\u001b[0m\u001b[1;34m\"//*[@id='ppl_area']/ul/li[\"\u001b[0m\u001b[1;33m+\u001b[0m\u001b[0mstr\u001b[0m\u001b[1;33m(\u001b[0m\u001b[0mi\u001b[0m\u001b[1;33m)\u001b[0m\u001b[1;33m+\u001b[0m\u001b[1;34m\"]/a\"\u001b[0m\u001b[1;33m)\u001b[0m\u001b[1;33m[\u001b[0m\u001b[1;36m0\u001b[0m\u001b[1;33m]\u001b[0m\u001b[1;33m.\u001b[0m\u001b[0mclick\u001b[0m\u001b[1;33m(\u001b[0m\u001b[1;33m)\u001b[0m\u001b[1;33m\u001b[0m\u001b[1;33m\u001b[0m\u001b[0m\n\u001b[0m\u001b[0;32m     11\u001b[0m         \u001b[0mtime\u001b[0m\u001b[1;33m.\u001b[0m\u001b[0msleep\u001b[0m\u001b[1;33m(\u001b[0m\u001b[1;36m2\u001b[0m\u001b[1;33m)\u001b[0m\u001b[1;33m\u001b[0m\u001b[1;33m\u001b[0m\u001b[0m\n\u001b[0;32m     12\u001b[0m         \u001b[0mhtml\u001b[0m \u001b[1;33m=\u001b[0m \u001b[0mdriver\u001b[0m\u001b[1;33m.\u001b[0m\u001b[0mpage_source\u001b[0m\u001b[1;33m\u001b[0m\u001b[1;33m\u001b[0m\u001b[0m\n",
      "\u001b[1;31mIndexError\u001b[0m: list index out of range"
     ]
    }
   ],
   "source": [
    "driver = webdriver.Chrome(\"chromedriver83.exe\")\n",
    "\n",
    "month = ['01','02','03','04','05','06','07','08','09','10','11','12']\n",
    "\n",
    "# 19년\n",
    "for i in month :\n",
    "    driver.get('https://pann.nate.com/talk/c20002#M|1|2019'+i)\n",
    "    for i in range(1,11) :\n",
    "        try: \n",
    "            driver.find_elements_by_xpath(\"//*[@id='ppl_area']/ul/li[\"+str(i)+\"]/a\")[0].click()\n",
    "            time.sleep(2)\n",
    "            html = driver.page_source\n",
    "            soup = BeautifulSoup(html)\n",
    "            # 제목\n",
    "            title = soup.find(\"meta\",{\"property\":\"og:title\"})\n",
    "            title = title.get('content')\n",
    "            # 내용\n",
    "            content = soup.find(\"meta\",{\"property\":\"og:description\"})\n",
    "            content = content.get('content')\n",
    "            # 베댓\n",
    "            best_coments = ''\n",
    "            best_coment = soup.find(\"div\",{\"class\":\"cmt_best\"})\n",
    "            for i in [2,5,8] :\n",
    "                try:\n",
    "                    best_coments+=best_coment.find_all('span')[i].text\n",
    "                except: continue\n",
    "            data = {'글제목':[title],'내용':[content],'베댓':[best_coments]}\n",
    "            table = table.append(pd.DataFrame(data))\n",
    "        except: continue"
   ]
  },
  {
   "cell_type": "code",
   "execution_count": 22,
   "metadata": {},
   "outputs": [
    {
     "data": {
      "text/plain": [
       "<selenium.webdriver.remote.webelement.WebElement (session=\"77d3fa3b4cb03ecaecc7e7a41463d90f\", element=\"042aef51-170e-4f8e-b19e-8ff9301a207e\")>"
      ]
     },
     "execution_count": 22,
     "metadata": {},
     "output_type": "execute_result"
    }
   ],
   "source": [
    "driver.find_elements_by_xpath(\"//*[@id='ppl_area']/ul/li[\"+str(i)+\"]/a\")[0]"
   ]
  },
  {
   "cell_type": "code",
   "execution_count": 17,
   "metadata": {},
   "outputs": [
    {
     "data": {
      "text/html": [
       "<div>\n",
       "<style scoped>\n",
       "    .dataframe tbody tr th:only-of-type {\n",
       "        vertical-align: middle;\n",
       "    }\n",
       "\n",
       "    .dataframe tbody tr th {\n",
       "        vertical-align: top;\n",
       "    }\n",
       "\n",
       "    .dataframe thead th {\n",
       "        text-align: right;\n",
       "    }\n",
       "</style>\n",
       "<table border=\"1\" class=\"dataframe\">\n",
       "  <thead>\n",
       "    <tr style=\"text-align: right;\">\n",
       "      <th></th>\n",
       "      <th>글제목</th>\n",
       "      <th>내용</th>\n",
       "      <th>베댓</th>\n",
       "    </tr>\n",
       "  </thead>\n",
       "  <tbody>\n",
       "    <tr>\n",
       "      <th>0</th>\n",
       "      <td>0</td>\n",
       "      <td>0</td>\n",
       "      <td>0</td>\n",
       "    </tr>\n",
       "    <tr>\n",
       "      <th>0</th>\n",
       "      <td>조정석 여자버전外 연예인들 이미지써봄</td>\n",
       "      <td>전교 10등안에들고 지각,결석 한번도 없고 학급회장을 하는 이미지  혹은 애니덕후,...</td>\n",
       "      <td>조정석 이게 더 이쁨정승환 개적절하네 진짜 ㅋㅋㅋㅋㅋ이런 글 좋음</td>\n",
       "    </tr>\n",
       "    <tr>\n",
       "      <th>0</th>\n",
       "      <td>조정석 여자버전外 연예인들 이미지써봄</td>\n",
       "      <td>전교 10등안에들고 지각,결석 한번도 없고 학급회장을 하는 이미지  혹은 애니덕후,...</td>\n",
       "      <td>조정석 이게 더 이쁨정승환 개적절하네 진짜 ㅋㅋㅋㅋㅋ이런 글 좋음</td>\n",
       "    </tr>\n",
       "    <tr>\n",
       "      <th>0</th>\n",
       "      <td>남자여우짓 어디까지 봤어?</td>\n",
       "      <td>내가 봤던 남자여우짓 중엔 이런거 있었어   1. 옆자리 앉아 내 의자 등밪이에 팔...</td>\n",
       "      <td>꼬맹이 ㅇㅈㄹ1. 모닝콜해달라함 전화하면 급자고일어난척 목소리잠긴척 씹오짐\\n2. ...</td>\n",
       "    </tr>\n",
       "    <tr>\n",
       "      <th>0</th>\n",
       "      <td>조정석 여자버전外 연예인들 이미지써봄</td>\n",
       "      <td>전교 10등안에들고 지각,결석 한번도 없고 학급회장을 하는 이미지  혹은 애니덕후,...</td>\n",
       "      <td>조정석 이게 더 이쁨정승환 개적절하네 진짜 ㅋㅋㅋㅋㅋ이런 글 좋음</td>\n",
       "    </tr>\n",
       "    <tr>\n",
       "      <th>0</th>\n",
       "      <td>조정석 여자버전外 연예인들 이미지써봄</td>\n",
       "      <td>전교 10등안에들고 지각,결석 한번도 없고 학급회장을 하는 이미지  혹은 애니덕후,...</td>\n",
       "      <td>조정석 이게 더 이쁨정승환 개적절하네 진짜 ㅋㅋㅋㅋㅋ이런 글 좋음</td>\n",
       "    </tr>\n",
       "    <tr>\n",
       "      <th>0</th>\n",
       "      <td>조정석 여자버전外 연예인들 이미지써봄</td>\n",
       "      <td>전교 10등안에들고 지각,결석 한번도 없고 학급회장을 하는 이미지  혹은 애니덕후,...</td>\n",
       "      <td>조정석 이게 더 이쁨정승환 개적절하네 진짜 ㅋㅋㅋㅋㅋ이런 글 좋음</td>\n",
       "    </tr>\n",
       "    <tr>\n",
       "      <th>0</th>\n",
       "      <td>조정석 여자버전外 연예인들 이미지써봄</td>\n",
       "      <td>전교 10등안에들고 지각,결석 한번도 없고 학급회장을 하는 이미지  혹은 애니덕후,...</td>\n",
       "      <td>조정석 이게 더 이쁨정승환 개적절하네 진짜 ㅋㅋㅋㅋㅋ이런 글 좋음</td>\n",
       "    </tr>\n",
       "    <tr>\n",
       "      <th>0</th>\n",
       "      <td>조정석 여자버전外 연예인들 이미지써봄</td>\n",
       "      <td>전교 10등안에들고 지각,결석 한번도 없고 학급회장을 하는 이미지  혹은 애니덕후,...</td>\n",
       "      <td>조정석 이게 더 이쁨정승환 개적절하네 진짜 ㅋㅋㅋㅋㅋ이런 글 좋음</td>\n",
       "    </tr>\n",
       "    <tr>\n",
       "      <th>0</th>\n",
       "      <td>조정석 여자버전外 연예인들 이미지써봄</td>\n",
       "      <td>전교 10등안에들고 지각,결석 한번도 없고 학급회장을 하는 이미지  혹은 애니덕후,...</td>\n",
       "      <td>조정석 이게 더 이쁨정승환 개적절하네 진짜 ㅋㅋㅋㅋㅋ이런 글 좋음</td>\n",
       "    </tr>\n",
       "    <tr>\n",
       "      <th>0</th>\n",
       "      <td>조정석 여자버전外 연예인들 이미지써봄</td>\n",
       "      <td>전교 10등안에들고 지각,결석 한번도 없고 학급회장을 하는 이미지  혹은 애니덕후,...</td>\n",
       "      <td>조정석 이게 더 이쁨정승환 개적절하네 진짜 ㅋㅋㅋㅋㅋ이런 글 좋음</td>\n",
       "    </tr>\n",
       "    <tr>\n",
       "      <th>0</th>\n",
       "      <td>남자친구 카톡 읽다가 충격 받았어 어떡해..</td>\n",
       "      <td>남친 노트북쓰다가 다른 남자애랑 카톡하는거 읽었는데남친 친구가 \"여자친구 이쁘냐?\"...</td>\n",
       "      <td>근데 저렇게 얘기할정도면 누가봐도 못생긴거고\\n본인도 인지하고있는 혹은 인지해야하는...</td>\n",
       "    </tr>\n",
       "  </tbody>\n",
       "</table>\n",
       "</div>"
      ],
      "text/plain": [
       "                        글제목  \\\n",
       "0                         0   \n",
       "0      조정석 여자버전外 연예인들 이미지써봄   \n",
       "0      조정석 여자버전外 연예인들 이미지써봄   \n",
       "0            남자여우짓 어디까지 봤어?   \n",
       "0      조정석 여자버전外 연예인들 이미지써봄   \n",
       "0      조정석 여자버전外 연예인들 이미지써봄   \n",
       "0      조정석 여자버전外 연예인들 이미지써봄   \n",
       "0      조정석 여자버전外 연예인들 이미지써봄   \n",
       "0      조정석 여자버전外 연예인들 이미지써봄   \n",
       "0      조정석 여자버전外 연예인들 이미지써봄   \n",
       "0      조정석 여자버전外 연예인들 이미지써봄   \n",
       "0  남자친구 카톡 읽다가 충격 받았어 어떡해..   \n",
       "\n",
       "                                                  내용  \\\n",
       "0                                                  0   \n",
       "0  전교 10등안에들고 지각,결석 한번도 없고 학급회장을 하는 이미지  혹은 애니덕후,...   \n",
       "0  전교 10등안에들고 지각,결석 한번도 없고 학급회장을 하는 이미지  혹은 애니덕후,...   \n",
       "0  내가 봤던 남자여우짓 중엔 이런거 있었어   1. 옆자리 앉아 내 의자 등밪이에 팔...   \n",
       "0  전교 10등안에들고 지각,결석 한번도 없고 학급회장을 하는 이미지  혹은 애니덕후,...   \n",
       "0  전교 10등안에들고 지각,결석 한번도 없고 학급회장을 하는 이미지  혹은 애니덕후,...   \n",
       "0  전교 10등안에들고 지각,결석 한번도 없고 학급회장을 하는 이미지  혹은 애니덕후,...   \n",
       "0  전교 10등안에들고 지각,결석 한번도 없고 학급회장을 하는 이미지  혹은 애니덕후,...   \n",
       "0  전교 10등안에들고 지각,결석 한번도 없고 학급회장을 하는 이미지  혹은 애니덕후,...   \n",
       "0  전교 10등안에들고 지각,결석 한번도 없고 학급회장을 하는 이미지  혹은 애니덕후,...   \n",
       "0  전교 10등안에들고 지각,결석 한번도 없고 학급회장을 하는 이미지  혹은 애니덕후,...   \n",
       "0  남친 노트북쓰다가 다른 남자애랑 카톡하는거 읽었는데남친 친구가 \"여자친구 이쁘냐?\"...   \n",
       "\n",
       "                                                  베댓  \n",
       "0                                                  0  \n",
       "0               조정석 이게 더 이쁨정승환 개적절하네 진짜 ㅋㅋㅋㅋㅋ이런 글 좋음  \n",
       "0               조정석 이게 더 이쁨정승환 개적절하네 진짜 ㅋㅋㅋㅋㅋ이런 글 좋음  \n",
       "0  꼬맹이 ㅇㅈㄹ1. 모닝콜해달라함 전화하면 급자고일어난척 목소리잠긴척 씹오짐\\n2. ...  \n",
       "0               조정석 이게 더 이쁨정승환 개적절하네 진짜 ㅋㅋㅋㅋㅋ이런 글 좋음  \n",
       "0               조정석 이게 더 이쁨정승환 개적절하네 진짜 ㅋㅋㅋㅋㅋ이런 글 좋음  \n",
       "0               조정석 이게 더 이쁨정승환 개적절하네 진짜 ㅋㅋㅋㅋㅋ이런 글 좋음  \n",
       "0               조정석 이게 더 이쁨정승환 개적절하네 진짜 ㅋㅋㅋㅋㅋ이런 글 좋음  \n",
       "0               조정석 이게 더 이쁨정승환 개적절하네 진짜 ㅋㅋㅋㅋㅋ이런 글 좋음  \n",
       "0               조정석 이게 더 이쁨정승환 개적절하네 진짜 ㅋㅋㅋㅋㅋ이런 글 좋음  \n",
       "0               조정석 이게 더 이쁨정승환 개적절하네 진짜 ㅋㅋㅋㅋㅋ이런 글 좋음  \n",
       "0  근데 저렇게 얘기할정도면 누가봐도 못생긴거고\\n본인도 인지하고있는 혹은 인지해야하는...  "
      ]
     },
     "execution_count": 17,
     "metadata": {},
     "output_type": "execute_result"
    }
   ],
   "source": [
    "table"
   ]
  },
  {
   "cell_type": "code",
   "execution_count": null,
   "metadata": {},
   "outputs": [],
   "source": []
  }
 ],
 "metadata": {
  "kernelspec": {
   "display_name": "Python 3",
   "language": "python",
   "name": "python3"
  },
  "language_info": {
   "codemirror_mode": {
    "name": "ipython",
    "version": 3
   },
   "file_extension": ".py",
   "mimetype": "text/x-python",
   "name": "python",
   "nbconvert_exporter": "python",
   "pygments_lexer": "ipython3",
   "version": "3.7.6"
  }
 },
 "nbformat": 4,
 "nbformat_minor": 4
}
