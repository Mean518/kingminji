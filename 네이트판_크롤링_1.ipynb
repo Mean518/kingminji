{
 "cells": [
  {
   "cell_type": "code",
   "execution_count": 2,
   "metadata": {},
   "outputs": [],
   "source": [
    "import pandas as pd\n",
    "import requests\n",
    "from bs4 import BeautifulSoup\n",
    "from selenium import webdriver\n",
    "import time\n",
    "from selenium.webdriver.common.keys import Keys"
   ]
  },
  {
   "cell_type": "code",
   "execution_count": 128,
   "metadata": {},
   "outputs": [],
   "source": [
    "driver=webdriver.Chrome(\"chromedriver.exe\")\n",
    "driver.get('https://pann.nate.com/talk/352929865')"
   ]
  },
  {
   "cell_type": "code",
   "execution_count": 131,
   "metadata": {},
   "outputs": [],
   "source": [
    "html = driver.page_source\n",
    "soup = BeautifulSoup(html)"
   ]
  },
  {
   "cell_type": "raw",
   "metadata": {},
   "source": [
    "# 제목"
   ]
  },
  {
   "cell_type": "code",
   "execution_count": 132,
   "metadata": {},
   "outputs": [],
   "source": [
    "title = soup.find(\"meta\",{\"property\":\"og:title\"})"
   ]
  },
  {
   "cell_type": "code",
   "execution_count": 133,
   "metadata": {},
   "outputs": [],
   "source": [
    "title = title.get('content')"
   ]
  },
  {
   "cell_type": "code",
   "execution_count": 134,
   "metadata": {},
   "outputs": [
    {
     "data": {
      "text/plain": [
       "'나하은, 추사랑 진짜 너무 이쁘게 잘 컷지않음 ?'"
      ]
     },
     "execution_count": 134,
     "metadata": {},
     "output_type": "execute_result"
    }
   ],
   "source": [
    "title"
   ]
  },
  {
   "cell_type": "raw",
   "metadata": {},
   "source": [
    "# 내용"
   ]
  },
  {
   "cell_type": "code",
   "execution_count": 135,
   "metadata": {},
   "outputs": [],
   "source": [
    "content = soup.find(\"meta\",{\"property\":\"og:description\"})"
   ]
  },
  {
   "cell_type": "code",
   "execution_count": 136,
   "metadata": {},
   "outputs": [],
   "source": [
    "content = content.get('content')"
   ]
  },
  {
   "cell_type": "code",
   "execution_count": 137,
   "metadata": {},
   "outputs": [
    {
     "data": {
      "text/plain": [
       "'과거     현재  나하은, 추사랑 두 명 다 정말 너무 이쁘게 잘 컷구 정말 많이 자랐지 않냐 ㅜ 하은이는 스타킹 사랑이는 슈돌 출면 했을적에 완전 아기엿는데  ㅜㅜ 크면서 더 귀여워짐 ㅜ'"
      ]
     },
     "execution_count": 137,
     "metadata": {},
     "output_type": "execute_result"
    }
   ],
   "source": [
    "content"
   ]
  },
  {
   "cell_type": "code",
   "execution_count": 138,
   "metadata": {},
   "outputs": [],
   "source": [
    "# ver 2"
   ]
  },
  {
   "cell_type": "code",
   "execution_count": 144,
   "metadata": {},
   "outputs": [],
   "source": [
    "contents = soup.find(\"div\",{\"id\":\"contentArea\"})"
   ]
  },
  {
   "cell_type": "code",
   "execution_count": 149,
   "metadata": {},
   "outputs": [
    {
     "data": {
      "text/plain": [
       "<div id=\"contentArea\">\n",
       "<br/>\n",
       "<p class=\"mweb_img\"><a href=\"https://fimg5.pann.com/new/download.jsp?FileID=55064727\" target=\"_blank\"><img id=\"\" name=\"image\" src=\"https://fimg5.pann.com/new/download.jsp?FileID=55064727\" style=\"border: none; width: 610px; height: 399px;\" swaf:cywrite:file_seq=\"\" swaf:cywrite:info=\"image|20200714_005949.jpg|http://fimg5.pann.com/new/download.jsp?FileID=55064727|224386|54490382\" swaf:cywrite:object_id=\"54490382\"/></a></p><br/>\n",
       "<br/>\n",
       "<p class=\"mweb_img\"><a href=\"https://fimg5.pann.com/new/download.jsp?FileID=55064728\" target=\"_blank\"><img id=\"\" name=\"image\" src=\"https://fimg5.pann.com/new/download.jsp?FileID=55064728\" style=\"border: none; width: 610px; height: 497px;\" swaf:cywrite:file_seq=\"\" swaf:cywrite:info=\"image|20200714_010102.jpg|http://fimg5.pann.com/new/download.jsp?FileID=55064728|300040|54490386\" swaf:cywrite:object_id=\"54490386\"/></a></p><br/>\n",
       "과거<br/>\n",
       "<br/>\n",
       "<p class=\"mweb_img\"><a href=\"https://fimg5.pann.com/new/download.jsp?FileID=55064729\" target=\"_blank\"><img id=\"\" name=\"image\" src=\"https://fimg5.pann.com/new/download.jsp?FileID=55064729\" style=\"border: none;\" swaf:cywrite:file_seq=\"\" swaf:cywrite:info=\"image|picsart_07-14-12.59.31.jpg|http://fimg5.pann.com/new/download.jsp?FileID=55064729|123627|54490398\" swaf:cywrite:object_id=\"54490398\"/></a></p><br/>\n",
       "<br/>\n",
       "<p class=\"mweb_img\"><a href=\"https://fimg5.pann.com/new/download.jsp?FileID=55064730\" target=\"_blank\"><img id=\"\" name=\"image\" src=\"https://fimg5.pann.com/new/download.jsp?FileID=55064730\" style=\"border: none; width: 610px; height: 735px;\" swaf:cywrite:file_seq=\"\" swaf:cywrite:info=\"image|20200714_010046.jpg|http://fimg5.pann.com/new/download.jsp?FileID=55064730|603671|54490403\" swaf:cywrite:object_id=\"54490403\"/></a></p><br/>\n",
       "현재<br/>\n",
       "<br/>\n",
       "나하은, 추사랑 두 명 다 정말 너무 이쁘게 잘 컷구<br/>\n",
       "정말 많이 자랐지 않냐 ㅜ<br/>\n",
       "하은이는 스타킹 사랑이는 슈돌 출면 했을적에 완전<br/>\n",
       "아기엿는데  ㅜㅜ<br/>\n",
       "크면서 더 귀여워짐 ㅜ\t\t\t\t\t\t\t\t\t</div>"
      ]
     },
     "execution_count": 149,
     "metadata": {},
     "output_type": "execute_result"
    }
   ],
   "source": [
    "contents"
   ]
  },
  {
   "cell_type": "code",
   "execution_count": 146,
   "metadata": {},
   "outputs": [
    {
     "data": {
      "text/plain": [
       "[]"
      ]
     },
     "execution_count": 146,
     "metadata": {},
     "output_type": "execute_result"
    }
   ],
   "source": [
    "contents.find_all('br/')"
   ]
  },
  {
   "cell_type": "code",
   "execution_count": 142,
   "metadata": {},
   "outputs": [],
   "source": [
    "str = ''\n",
    "count = 0\n",
    "for i in contents.find_all('div')[1:] :\n",
    "    print(i.text)\n",
    "    str += i.text\n",
    "    count += 1\n",
    "    if count == 50 : break"
   ]
  },
  {
   "cell_type": "code",
   "execution_count": 150,
   "metadata": {},
   "outputs": [],
   "source": [
    "if len(str) == 0 :\n",
    "    content = soup.find(\"meta\",{\"property\":\"og:description\"})\n",
    "    content = content.get('content')"
   ]
  },
  {
   "cell_type": "code",
   "execution_count": 151,
   "metadata": {},
   "outputs": [
    {
     "data": {
      "text/plain": [
       "'과거     현재  나하은, 추사랑 두 명 다 정말 너무 이쁘게 잘 컷구 정말 많이 자랐지 않냐 ㅜ 하은이는 스타킹 사랑이는 슈돌 출면 했을적에 완전 아기엿는데  ㅜㅜ 크면서 더 귀여워짐 ㅜ'"
      ]
     },
     "execution_count": 151,
     "metadata": {},
     "output_type": "execute_result"
    }
   ],
   "source": [
    "content"
   ]
  },
  {
   "cell_type": "raw",
   "metadata": {},
   "source": [
    "# best 댓글"
   ]
  },
  {
   "cell_type": "code",
   "execution_count": 77,
   "metadata": {},
   "outputs": [],
   "source": [
    "best_coment = soup.find(\"div\",{\"class\":\"cmt_best\"})"
   ]
  },
  {
   "cell_type": "code",
   "execution_count": 82,
   "metadata": {},
   "outputs": [
    {
     "data": {
      "text/plain": [
       "'사랑이는 진짜 엄마 닮아서 모델감이더라ㅠㅠ'"
      ]
     },
     "execution_count": 82,
     "metadata": {},
     "output_type": "execute_result"
    }
   ],
   "source": [
    "# 댓글 1\n",
    "best_coment.find_all('span')[2].text"
   ]
  },
  {
   "cell_type": "code",
   "execution_count": 83,
   "metadata": {},
   "outputs": [
    {
     "data": {
      "text/plain": [
       "'하은이 실물 진짜 이쁨'"
      ]
     },
     "execution_count": 83,
     "metadata": {},
     "output_type": "execute_result"
    }
   ],
   "source": [
    "# 댓글 2\n",
    "best_coment.find_all('span')[5].text"
   ]
  },
  {
   "cell_type": "code",
   "execution_count": 84,
   "metadata": {},
   "outputs": [
    {
     "data": {
      "text/plain": [
       "'나하은 애긴데도 청순함이 보인다..'"
      ]
     },
     "execution_count": 84,
     "metadata": {},
     "output_type": "execute_result"
    }
   ],
   "source": [
    "# 댓글 3\n",
    "best_coment.find_all('span')[8].text"
   ]
  },
  {
   "cell_type": "code",
   "execution_count": null,
   "metadata": {},
   "outputs": [],
   "source": [
    "# 글 2"
   ]
  },
  {
   "cell_type": "code",
   "execution_count": 102,
   "metadata": {},
   "outputs": [],
   "source": [
    "driver.get('https://pann.nate.com/talk/352807253')"
   ]
  },
  {
   "cell_type": "code",
   "execution_count": 103,
   "metadata": {},
   "outputs": [],
   "source": [
    "html = driver.page_source\n",
    "soup = BeautifulSoup(html)"
   ]
  },
  {
   "cell_type": "code",
   "execution_count": 104,
   "metadata": {},
   "outputs": [
    {
     "data": {
      "text/plain": [
       "'선생님을 짝사랑하는 남고생이 쓴 글'"
      ]
     },
     "execution_count": 104,
     "metadata": {},
     "output_type": "execute_result"
    }
   ],
   "source": [
    "title = soup.find(\"meta\",{\"property\":\"og:title\"})\n",
    "title = title.get('content')\n",
    "title"
   ]
  },
  {
   "cell_type": "code",
   "execution_count": 105,
   "metadata": {},
   "outputs": [
    {
     "data": {
      "text/plain": [
       "\"이거 갠적으로 판 ㄹㅈㄷ필력임..처음 봤을때 중3이었는데 벌써 20살됐다ㅠㅠ그때 읽을 때는 20살 되게 어른같았는데 내가 20살되고보니 아니었어..이 글 마지막에 '피는 꽃의 열정보다 지는 꽃의 단아함이 더 아름답다'라는 문장이 그당시에 되게 감명깊게 다가와서 그...\""
      ]
     },
     "execution_count": 105,
     "metadata": {},
     "output_type": "execute_result"
    }
   ],
   "source": [
    "content = soup.find(\"meta\",{\"property\":\"og:description\"})\n",
    "content = content.get('content')\n",
    "content"
   ]
  },
  {
   "cell_type": "code",
   "execution_count": 106,
   "metadata": {},
   "outputs": [],
   "source": [
    "# ver2"
   ]
  },
  {
   "cell_type": "code",
   "execution_count": 110,
   "metadata": {},
   "outputs": [],
   "source": [
    "contents = soup.find(\"div\",{\"id\":\"contentArea\"})"
   ]
  },
  {
   "cell_type": "code",
   "execution_count": 122,
   "metadata": {},
   "outputs": [
    {
     "data": {
      "text/plain": [
       "'2년 동안 혼자 생각했는데 이제 벌써 20살이고, 이런 카페까지 찾게 됐네요'"
      ]
     },
     "execution_count": 122,
     "metadata": {},
     "output_type": "execute_result"
    }
   ],
   "source": [
    "contents.find_all('div')[3].text"
   ]
  },
  {
   "cell_type": "code",
   "execution_count": 126,
   "metadata": {},
   "outputs": [
    {
     "name": "stdout",
     "output_type": "stream",
     "text": [
      "올해 20살 남자입니다.\n",
      "\n",
      "2년 동안 혼자 생각했는데 이제 벌써 20살이고, 이런 카페까지 찾게 됐네요\n",
      "\n",
      "재작년 이맘 때 아직 1학년이지만 18살이었던 겨울방학이였습니다\n",
      "\n",
      "혼자 학교 안 벤치에서 친구가 나오기를 기다리고 있는데\n",
      "\n",
      "너무 추워서 기둥에 머리를 기대고 숙이고 있었더니\n",
      "\n",
      "마치 제가 자고 있는 듯이 보였나 봅니다.\n",
      "\n",
      "누군가 부르는 소리에 고개를 들어보니 한 여자분이 서 계셨고\n",
      "\n",
      "저와 눈이 마주치자 환하게 웃으며 추운데 잠이 든 줄 알고 깨우려했다 하시는데\n",
      "\n",
      "정말..과장하지 않고 그 때 그 첫만남이 잊혀지지 않아요\n",
      "\n",
      "살면서 미소가 그렇게 아름다운 분은 처음 봤거든요\n",
      "\n",
      "그 때 기다리던 친구가 달려오니까 그 분도 말 없이 학교로 들어가셨는데\n",
      "\n",
      "그 날 밤에 그 분이 계속 생각이 나고\n",
      "예의없이 내가 왜 인사를 안 했지, 왜 대답을 안 했지? 하면서 계속 신경이 쓰였어요\n",
      "\n",
      "예의없이 내가 왜 인사를 안 했지, 왜 대답을 안 했지? 하면서 계속 신경이 쓰였어요\n",
      "\n",
      "그렇게 개학을 하고 봄방학을 하고 2학년 새학기가 되어 동아리 배정을 하는데\n",
      "\n",
      "도서관 책 옮기는 일이 봉사활동으로 남자한테 정말 꿀이어서\n",
      "\n",
      "학교 마치자마자 봉사 신청을 하기 위해 친구랑 도서관으로 뛰어내려갔더니\n",
      "\n",
      "그 분이 계시더라고요. 새로 오신 사서 선생님이셨어요\n",
      "\n",
      "그런데 이상한건 제가 낯을 가리는 성격이 아닌데\n",
      "\n",
      "선생님 지시에 따라 반, 이름 쓰고 내는 내내 눈을 못 마주치겠고 긴장이 되더라고요\n",
      "\n",
      "왜 이러는지 제 스스로도 답답해서\n",
      "\n",
      "'오늘은 선생님 눈 피하지 말자 \" 속으로 다짐하고 도서관에 들어가곤 했는데\n",
      "\n",
      "어느날 선생님이 봉사 끝나고 나가는 도중 제 손에 사탕하나를 쥐어주시더니\n",
      "\n",
      "쉿 하는 시늉을 하시면서 카운터로 돌아가셨어요\n",
      "\n",
      "처음엔 그냥 소심하게 감사하다는 인사만 하고 나왔는데\n",
      "\n",
      "다음 날도 주시고 그 뒤부터 봉사끝나고 나가기 전에 매일 먹을 것을 쥐어주시다가\n"
     ]
    }
   ],
   "source": [
    "str = ''\n",
    "count = 0\n",
    "for i in contents.find_all('div')[1:] :\n",
    "    print(i.text)\n",
    "    str += i.text\n",
    "    count += 1\n",
    "    if count == 50 : break"
   ]
  },
  {
   "cell_type": "code",
   "execution_count": 127,
   "metadata": {},
   "outputs": [
    {
     "data": {
      "text/plain": [
       "'올해 20살 남자입니다.2년 동안 혼자 생각했는데 이제 벌써 20살이고, 이런 카페까지 찾게 됐네요재작년 이맘 때 아직 1학년이지만 18살이었던 겨울방학이였습니다혼자 학교 안 벤치에서 친구가 나오기를 기다리고 있는데너무 추워서 기둥에 머리를 기대고 숙이고 있었더니마치 제가 자고 있는 듯이 보였나 봅니다.누군가 부르는 소리에 고개를 들어보니 한 여자분이 서 계셨고저와 눈이 마주치자 환하게 웃으며 추운데 잠이 든 줄 알고 깨우려했다 하시는데정말..과장하지 않고 그 때 그 첫만남이 잊혀지지 않아요살면서 미소가 그렇게 아름다운 분은 처음 봤거든요그 때 기다리던 친구가 달려오니까 그 분도 말 없이 학교로 들어가셨는데그 날 밤에 그 분이 계속 생각이 나고예의없이 내가 왜 인사를 안 했지, 왜 대답을 안 했지? 하면서 계속 신경이 쓰였어요예의없이 내가 왜 인사를 안 했지, 왜 대답을 안 했지? 하면서 계속 신경이 쓰였어요그렇게 개학을 하고 봄방학을 하고 2학년 새학기가 되어 동아리 배정을 하는데도서관 책 옮기는 일이 봉사활동으로 남자한테 정말 꿀이어서학교 마치자마자 봉사 신청을 하기 위해 친구랑 도서관으로 뛰어내려갔더니그 분이 계시더라고요.\\xa0새로 오신 사서 선생님이셨어요그런데 이상한건\\xa0제가 낯을 가리는 성격이 아닌데선생님 지시에 따라 반, 이름 쓰고 내는 내내 눈을 못 마주치겠고 긴장이 되더라고요왜 이러는지 제 스스로도 답답해서\\'오늘은 선생님 눈 피하지 말자 \" 속으로 다짐하고 도서관에 들어가곤 했는데어느날 선생님이 봉사 끝나고 나가는 도중 제 손에 사탕하나를 쥐어주시더니쉿 하는 시늉을 하시면서 카운터로 돌아가셨어요처음엔 그냥 소심하게 감사하다는 인사만 하고 나왔는데다음 날도 주시고 그 뒤부터 봉사끝나고 나가기 전에 매일 먹을 것을 쥐어주시다가'"
      ]
     },
     "execution_count": 127,
     "metadata": {},
     "output_type": "execute_result"
    }
   ],
   "source": [
    "str"
   ]
  },
  {
   "cell_type": "code",
   "execution_count": null,
   "metadata": {},
   "outputs": [],
   "source": []
  },
  {
   "cell_type": "code",
   "execution_count": 100,
   "metadata": {},
   "outputs": [],
   "source": [
    "content"
   ]
  },
  {
   "cell_type": "code",
   "execution_count": 89,
   "metadata": {},
   "outputs": [],
   "source": [
    "best_coment = soup.find(\"div\",{\"class\":\"cmt_best\"})"
   ]
  },
  {
   "cell_type": "code",
   "execution_count": 90,
   "metadata": {},
   "outputs": [
    {
     "data": {
      "text/plain": [
       "'나 이거 인티에서 작년에도 봄 아련하긴한데 충격이었던게 그냥 좀 젊은 여교사인줄 알았는데 중년에 가정도 있던 쌤을 좋아했던거;;가능한가'"
      ]
     },
     "execution_count": 90,
     "metadata": {},
     "output_type": "execute_result"
    }
   ],
   "source": [
    "# 댓글 1\n",
    "best_coment.find_all('span')[2].text"
   ]
  },
  {
   "cell_type": "code",
   "execution_count": 91,
   "metadata": {},
   "outputs": [
    {
     "data": {
      "text/plain": [
       "'\"아마도 피어나는 꽃의 열정보다 지는 꽃의 단아함이 아름다울 수 있다는 것을 선생님을 보면서 알게 되었어요\" 너무 잘씀..'"
      ]
     },
     "execution_count": 91,
     "metadata": {},
     "output_type": "execute_result"
    }
   ],
   "source": [
    "# 댓글 2\n",
    "best_coment.find_all('span')[5].text"
   ]
  },
  {
   "cell_type": "code",
   "execution_count": 92,
   "metadata": {},
   "outputs": [
    {
     "data": {
      "text/plain": [
       "'심심해서 읽었는데 진짜 쓰니말대로 말을 예쁘게 썼네..'"
      ]
     },
     "execution_count": 92,
     "metadata": {},
     "output_type": "execute_result"
    }
   ],
   "source": [
    "# 댓글 3\n",
    "best_coment.find_all('span')[8].text"
   ]
  },
  {
   "cell_type": "code",
   "execution_count": 93,
   "metadata": {},
   "outputs": [],
   "source": [
    "# 글 3"
   ]
  },
  {
   "cell_type": "code",
   "execution_count": 152,
   "metadata": {},
   "outputs": [],
   "source": [
    "driver.get('https://pann.nate.com/talk/352619241')"
   ]
  },
  {
   "cell_type": "code",
   "execution_count": 153,
   "metadata": {},
   "outputs": [],
   "source": [
    "html = driver.page_source\n",
    "soup = BeautifulSoup(html)"
   ]
  },
  {
   "cell_type": "code",
   "execution_count": 154,
   "metadata": {},
   "outputs": [
    {
     "data": {
      "text/plain": [
       "'여자들아 절대로 경제력 놓치고 남자 집에 들어가지마'"
      ]
     },
     "execution_count": 154,
     "metadata": {},
     "output_type": "execute_result"
    }
   ],
   "source": [
    "title = soup.find(\"meta\",{\"property\":\"og:title\"})\n",
    "title = title.get('content')\n",
    "title"
   ]
  },
  {
   "cell_type": "code",
   "execution_count": 155,
   "metadata": {},
   "outputs": [],
   "source": [
    "contents = soup.find(\"div\",{\"id\":\"contentArea\"})"
   ]
  },
  {
   "cell_type": "code",
   "execution_count": 156,
   "metadata": {},
   "outputs": [],
   "source": [
    "str = ''\n",
    "count = 0\n",
    "for i in contents.find_all('div')[1:] :\n",
    "    print(i.text)\n",
    "    str += i.text\n",
    "    count += 1\n",
    "    if count == 50 : break"
   ]
  },
  {
   "cell_type": "code",
   "execution_count": 157,
   "metadata": {},
   "outputs": [
    {
     "data": {
      "text/plain": [
       "''"
      ]
     },
     "execution_count": 157,
     "metadata": {},
     "output_type": "execute_result"
    }
   ],
   "source": [
    "str"
   ]
  },
  {
   "cell_type": "code",
   "execution_count": 158,
   "metadata": {},
   "outputs": [],
   "source": [
    "if len(str) == 0 :\n",
    "    content = soup.find(\"meta\",{\"property\":\"og:description\"})\n",
    "    content = content.get('content')"
   ]
  },
  {
   "cell_type": "code",
   "execution_count": 159,
   "metadata": {},
   "outputs": [
    {
     "data": {
      "text/plain": [
       "'나 진짜 이거 보고 소름 돋았어  하물며 결혼한 사이도 아니고 연애 중인 사이인데 가정부 부리듯이 대하는게 말이 돼??  절대로 경제력 버리고 남자 집에 들어가지마  무조건 경제력 잡고 자기 권리 찾고 살아'"
      ]
     },
     "execution_count": 159,
     "metadata": {},
     "output_type": "execute_result"
    }
   ],
   "source": [
    "content"
   ]
  },
  {
   "cell_type": "code",
   "execution_count": 98,
   "metadata": {},
   "outputs": [
    {
     "name": "stdout",
     "output_type": "stream",
     "text": [
      "남녀를 떠나서 한쪽이 경제력 쥐고 있다고 저런 기본적인 집안일 조차 안할거면 왜 같이 사는걸까 ㅋㅋ 노예처럼 부려먹을려고 ? 지 먹은 물 하나도 정리 못하는 것 보면 웃긴데 ,, ㅋㅋㅋㅋㅋㅋㅋ 그렇게 돈 많으면 여자친구 부려먹지 말고 가정부 부르길 ,,,\n",
      "경제 남자가 100%부담이면 저런거 말 안해도 알아서 해놔야하는수준인데?\n",
      "너희 표현으로 남자가 독박벌이 하는데 이런 개소리가 입에서 나오냐... 이러니까 판년들이 욕먹지\n"
     ]
    }
   ],
   "source": [
    "best_coment = soup.find(\"div\",{\"class\":\"cmt_best\"})\n",
    "print(best_coment.find_all('span')[2].text)\n",
    "print(best_coment.find_all('span')[5].text)\n",
    "print(best_coment.find_all('span')[8].text)"
   ]
  },
  {
   "cell_type": "code",
   "execution_count": null,
   "metadata": {},
   "outputs": [],
   "source": []
  },
  {
   "cell_type": "code",
   "execution_count": 160,
   "metadata": {},
   "outputs": [],
   "source": [
    "driver.get('https://pann.nate.com/talk/352133962')"
   ]
  },
  {
   "cell_type": "code",
   "execution_count": 161,
   "metadata": {},
   "outputs": [],
   "source": [
    "html = driver.page_source\n",
    "soup = BeautifulSoup(html)"
   ]
  },
  {
   "cell_type": "code",
   "execution_count": 162,
   "metadata": {},
   "outputs": [],
   "source": [
    "contents = soup.find(\"div\",{\"id\":\"contentArea\"})"
   ]
  },
  {
   "cell_type": "code",
   "execution_count": 167,
   "metadata": {},
   "outputs": [
    {
     "data": {
      "text/plain": [
       "<div id=\"espresso_editor_view\" style=\"font-size:10pt;\"><p class=\"0\" style=\"mso-pagination:none;text-autospace:none;mso-padding-alt:0pt 0pt 0pt 0pt;\"><span style=\"font-family:함초롬바탕;mso-fareast-font-family:함초롬바탕;\">제발 나가지말고 끝까지 읽어줘</span><span lang=\"EN-US\" style=\"mso-fareast-font-family:함초롬바탕;mso-font-width:100%;letter-spacing:0pt;mso-text-raise:0pt;\">... </span><span style=\"font-family:함초롬바탕;mso-fareast-font-family:함초롬바탕;\">부탁이야</span><span lang=\"EN-US\" style=\"mso-fareast-font-family:함초롬바탕;mso-font-width:100%;letter-spacing:0pt;mso-text-raise:0pt;\">..</span></p><p class=\"0\" style=\"mso-pagination:none;text-autospace:none;mso-padding-alt:0pt 0pt 0pt 0pt;\"><u><font color=\"#f4505a\"><span style=\"font-family:함초롬바탕;mso-fareast-font-family:함초롬바탕;\">읽기 귀찮다면 마지막에 짧게 요약해놨으니 그거라도 읽어줘</span><span lang=\"EN-US\" style=\"mso-fareast-font-family:함초롬바탕;mso-font-width:100%;letter-spacing:0pt;mso-text-raise:0pt;\">.</span></font></u></p><p class=\"0\" style=\"mso-pagination:none;text-autospace:none;mso-padding-alt:0pt 0pt 0pt 0pt;\">     </p><p class=\"0\" style=\"mso-pagination:none;text-autospace:none;mso-padding-alt:0pt 0pt 0pt 0pt;\"><span style=\"font-family:함초롬바탕;mso-fareast-font-family:함초롬바탕;\">나 정말 무서워</span><span lang=\"EN-US\" style=\"mso-fareast-font-family:함초롬바탕;mso-font-width:100%;letter-spacing:0pt;mso-text-raise:0pt;\">. </span><span style=\"font-family:함초롬바탕;mso-fareast-font-family:함초롬바탕;\">왜 이런것들이 언론에 집중적으로 다뤄지지 않는지</span><span lang=\"EN-US\" style=\"mso-fareast-font-family:함초롬바탕;mso-font-width:100%;letter-spacing:0pt;mso-text-raise:0pt;\">, </span><span style=\"font-family:함초롬바탕;mso-fareast-font-family:함초롬바탕;\">분명히 실제로 일어나고 있는 일들인데 왜 쉬쉬하고 일부 소수언론에서만 다루는 건지</span><span lang=\"EN-US\" style=\"mso-fareast-font-family:함초롬바탕;mso-font-width:100%;letter-spacing:0pt;mso-text-raise:0pt;\">. </span><span style=\"font-family:함초롬바탕;mso-fareast-font-family:함초롬바탕;\">분명히 사실이지만 알고 있는 사람은 별로 없을거라 생각해</span><span lang=\"EN-US\" style=\"mso-fareast-font-family:함초롬바탕;mso-font-width:100%;letter-spacing:0pt;mso-text-raise:0pt;\">. </span><span style=\"font-family:함초롬바탕;mso-fareast-font-family:함초롬바탕;\">나도 몰랐거든</span><span lang=\"EN-US\" style=\"mso-fareast-font-family:함초롬바탕;mso-font-width:100%;letter-spacing:0pt;mso-text-raise:0pt;\">.</span></p><p class=\"0\" style=\"mso-pagination:none;text-autospace:none;mso-padding-alt:0pt 0pt 0pt 0pt;\">     </p><p class=\"0\" style=\"mso-pagination:none;text-autospace:none;mso-padding-alt:0pt 0pt 0pt 0pt;\">     </p><p class=\"0\" style=\"mso-pagination:none;text-autospace:none;mso-padding-alt:0pt 0pt 0pt 0pt;\"><span style=\"font-family:함초롬바탕;mso-fareast-font-family:함초롬바탕;\">판에서 어떤 글을 보고</span><span lang=\"EN-US\" style=\"mso-fareast-font-family:함초롬바탕;mso-font-width:100%;letter-spacing:0pt;mso-text-raise:0pt;\">, </span><span style=\"font-family:함초롬바탕;mso-fareast-font-family:함초롬바탕;\">이곳저곳 돌아다니면서 조사를 했어</span><span lang=\"EN-US\" style=\"mso-fareast-font-family:함초롬바탕;mso-font-width:100%;letter-spacing:0pt;mso-text-raise:0pt;\">.</span></p><p class=\"0\" style=\"mso-pagination:none;text-autospace:none;mso-padding-alt:0pt 0pt 0pt 0pt;\"><span style=\"font-family:함초롬바탕;mso-fareast-font-family:함초롬바탕;\">중국 자본이 우리나라를 삼키고 있다는 거</span><span lang=\"EN-US\" style=\"mso-fareast-font-family:함초롬바탕;mso-font-width:100%;letter-spacing:0pt;mso-text-raise:0pt;\">.....</span></p><p class=\"0\" style=\"mso-pagination:none;text-autospace:none;mso-padding-alt:0pt 0pt 0pt 0pt;\">     </p><p class=\"0\" style=\"mso-pagination:none;text-autospace:none;mso-padding-alt:0pt 0pt 0pt 0pt;\"><span style=\"font-family:함초롬바탕;mso-fareast-font-family:함초롬바탕;\">하나하나 접할때마다 </span><span lang=\"EN-US\" style=\"mso-fareast-font-family:함초롬바탕;mso-font-width:100%;letter-spacing:0pt;mso-text-raise:0pt;\">‘</span><span style=\"font-family:함초롬바탕;mso-fareast-font-family:함초롬바탕;\">내가 이걸 보는게 현실인가</span><span lang=\"EN-US\" style=\"mso-fareast-font-family:함초롬바탕;mso-font-width:100%;letter-spacing:0pt;mso-text-raise:0pt;\">’, ‘</span><span style=\"font-family:함초롬바탕;mso-fareast-font-family:함초롬바탕;\">꿈이 아닌가</span><span lang=\"EN-US\" style=\"mso-fareast-font-family:함초롬바탕;mso-font-width:100%;letter-spacing:0pt;mso-text-raise:0pt;\">’ </span><span style=\"font-family:함초롬바탕;mso-fareast-font-family:함초롬바탕;\">생각이 들었어</span></p><p class=\"0\" style=\"mso-pagination:none;text-autospace:none;mso-padding-alt:0pt 0pt 0pt 0pt;\"><span style=\"font-family:함초롬바탕;mso-fareast-font-family:함초롬바탕;\">그래서 너네한테도 알리고 싶어서 이 글을 써</span></p><p class=\"0\" style=\"mso-pagination:none;text-autospace:none;mso-padding-alt:0pt 0pt 0pt 0pt;\">     </p><p class=\"0\" style=\"mso-pagination:none;text-autospace:none;mso-padding-alt:0pt 0pt 0pt 0pt;\">     </p><p class=\"0\" style=\"mso-pagination:none;text-autospace:none;mso-padding-alt:0pt 0pt 0pt 0pt;\"><span style=\"font-family:함초롬바탕;mso-fareast-font-family:함초롬바탕;\">일부러 킹리적갓심은 전부 빼버렸어</span><span lang=\"EN-US\" style=\"mso-fareast-font-family:함초롬바탕;mso-font-width:100%;letter-spacing:0pt;mso-text-raise:0pt;\">. </span><span style=\"font-family:함초롬바탕;mso-fareast-font-family:함초롬바탕;\">정확하게 </span><span lang=\"EN-US\" style=\"mso-fareast-font-family:함초롬바탕;mso-font-width:100%;letter-spacing:0pt;mso-text-raise:0pt;\">‘</span><span style=\"font-family:함초롬바탕;mso-fareast-font-family:함초롬바탕;\">일어난</span><span lang=\"EN-US\" style=\"mso-fareast-font-family:함초롬바탕;mso-font-width:100%;letter-spacing:0pt;mso-text-raise:0pt;\">’ </span><span style=\"font-family:함초롬바탕;mso-fareast-font-family:함초롬바탕;\">일들만 정리해봤어</span><span lang=\"EN-US\" style=\"mso-fareast-font-family:함초롬바탕;mso-font-width:100%;letter-spacing:0pt;mso-text-raise:0pt;\">.</span></p><p class=\"0\" style=\"mso-pagination:none;text-autospace:none;mso-padding-alt:0pt 0pt 0pt 0pt;\">     </p><p class=\"0\" style=\"mso-pagination:none;text-autospace:none;mso-padding-alt:0pt 0pt 0pt 0pt;\"><span lang=\"EN-US\" style=\"mso-fareast-font-family:함초롬바탕;mso-font-width:100%;letter-spacing:0pt;mso-text-raise:0pt;\">&lt;&lt;</span><span style=\"font-family:함초롬바탕;mso-fareast-font-family:함초롬바탕;\">스압 주의</span><span lang=\"EN-US\" style=\"mso-fareast-font-family:함초롬바탕;mso-font-width:100%;letter-spacing:0pt;mso-text-raise:0pt;\">&gt;&gt;   (</span><span style=\"font-family:함초롬바탕;mso-fareast-font-family:함초롬바탕;\">귀찮으면 맨 밑에 정리만 봐</span><span lang=\"EN-US\" style=\"mso-fareast-font-family:함초롬바탕;mso-font-width:100%;letter-spacing:0pt;mso-text-raise:0pt;\">)   </span><span style=\"font-family:함초롬바탕;mso-fareast-font-family:함초롬바탕;\">음슴체 주의</span></p><p class=\"0\" style=\"mso-pagination:none;text-autospace:none;mso-padding-alt:0pt 0pt 0pt 0pt;\">     </p><p class=\"0\" style=\"mso-pagination:none;text-autospace:none;mso-padding-alt:0pt 0pt 0pt 0pt;\">     </p><p class=\"0\" style=\"mso-pagination:none;text-autospace:none;mso-padding-alt:0pt 0pt 0pt 0pt;\">     </p><p class=\"0\" style=\"mso-pagination:none;text-autospace:none;mso-padding-alt:0pt 0pt 0pt 0pt;\">     </p><p class=\"0\" style=\"mso-pagination:none;text-autospace:none;mso-padding-alt:0pt 0pt 0pt 0pt;\"><span lang=\"EN-US\" style=\"mso-fareast-font-family:함초롬바탕;mso-font-width:100%;letter-spacing:0pt;mso-text-raise:0pt;\">1. </span><span style=\"font-family:함초롬바탕;mso-fareast-font-family:함초롬바탕;\">탈원전으로 두산중공업 망하고 그 전기 메꾸기 위해 </span><span lang=\"EN-US\" style=\"mso-fareast-font-family:함초롬바탕;mso-font-width:100%;letter-spacing:0pt;mso-text-raise:0pt;\">100% </span><span style=\"font-family:함초롬바탕;mso-fareast-font-family:함초롬바탕;\">중국산 태양광 판넬로 건설함</span></p><p class=\"0\" style=\"mso-pagination:none;text-autospace:none;mso-padding-alt:0pt 0pt 0pt 0pt;\">     </p><p class=\"0\" style=\"mso-pagination:none;text-autospace:none;mso-padding-alt:0pt 0pt 0pt 0pt;\"><span style=\"font-family:함초롬바탕;mso-fareast-font-family:함초롬바탕;\">우리나라는 세계에서 손꼽히는 원전 기술 보유국이었음</span><span lang=\"EN-US\" style=\"mso-fareast-font-family:함초롬바탕;mso-font-width:100%;letter-spacing:0pt;mso-text-raise:0pt;\">. </span><span style=\"font-family:함초롬바탕;mso-fareast-font-family:함초롬바탕;\">거기에 선두로 서있는 기업이 두산중공업</span><span lang=\"EN-US\" style=\"mso-fareast-font-family:함초롬바탕;mso-font-width:100%;letter-spacing:0pt;mso-text-raise:0pt;\">. </span><span style=\"font-family:함초롬바탕;mso-fareast-font-family:함초롬바탕;\">그런데 무리하게 탈원전 정책을 실행하면서 짓기로한 원전을 취소해버렸고</span><span lang=\"EN-US\" style=\"mso-fareast-font-family:함초롬바탕;mso-font-width:100%;letter-spacing:0pt;mso-text-raise:0pt;\">, </span><span style=\"font-family:함초롬바탕;mso-fareast-font-family:함초롬바탕;\">해외에서 원전수주도 못하게 됨</span><span lang=\"EN-US\" style=\"mso-fareast-font-family:함초롬바탕;mso-font-width:100%;letter-spacing:0pt;mso-text-raise:0pt;\">. </span><span style=\"font-family:함초롬바탕;mso-fareast-font-family:함초롬바탕;\">중국이 세계원전시장을 독차지하고 있는건 알아</span><span lang=\"EN-US\" style=\"mso-fareast-font-family:함초롬바탕;mso-font-width:100%;letter-spacing:0pt;mso-text-raise:0pt;\">..? </span><span style=\"font-family:함초롬바탕;mso-fareast-font-family:함초롬바탕;\">두산중공업도 망하고 이제는</span><span lang=\"EN-US\" style=\"mso-fareast-font-family:함초롬바탕;mso-font-width:100%;letter-spacing:0pt;mso-text-raise:0pt;\">......</span></p><p class=\"0\" style=\"mso-pagination:none;text-autospace:none;mso-padding-alt:0pt 0pt 0pt 0pt;\">     </p><p class=\"0\" style=\"mso-pagination:none;text-autospace:none;mso-padding-alt:0pt 0pt 0pt 0pt;\"><span style=\"font-family:함초롬바탕;mso-fareast-font-family:함초롬바탕;\">해외에서는 그렇다 침</span><span lang=\"EN-US\" style=\"mso-fareast-font-family:함초롬바탕;mso-font-width:100%;letter-spacing:0pt;mso-text-raise:0pt;\">. </span><span style=\"font-family:함초롬바탕;mso-fareast-font-family:함초롬바탕;\">우리나라 상황은</span><span lang=\"EN-US\" style=\"mso-fareast-font-family:함초롬바탕;mso-font-width:100%;letter-spacing:0pt;mso-text-raise:0pt;\">? </span><span style=\"font-family:함초롬바탕;mso-fareast-font-family:함초롬바탕;\">우리나라 한전 적자가 역대급임</span><span lang=\"EN-US\" style=\"mso-fareast-font-family:함초롬바탕;mso-font-width:100%;letter-spacing:0pt;mso-text-raise:0pt;\">. 1</span><span style=\"font-family:함초롬바탕;mso-fareast-font-family:함초롬바탕;\">조 </span><span lang=\"EN-US\" style=\"mso-fareast-font-family:함초롬바탕;mso-font-width:100%;letter-spacing:0pt;mso-text-raise:0pt;\">4000</span><span style=\"font-family:함초롬바탕;mso-fareast-font-family:함초롬바탕;\">억이라함</span><span lang=\"EN-US\" style=\"mso-fareast-font-family:함초롬바탕;mso-font-width:100%;letter-spacing:0pt;mso-text-raise:0pt;\">. </span><span style=\"font-family:함초롬바탕;mso-fareast-font-family:함초롬바탕;\">박근혜 정부때는 흑자였음</span><span lang=\"EN-US\" style=\"mso-fareast-font-family:함초롬바탕;mso-font-width:100%;letter-spacing:0pt;mso-text-raise:0pt;\">. </span><span style=\"font-family:함초롬바탕;mso-fareast-font-family:함초롬바탕;\">이걸 몇 년만에 이렇게 만들 수가 있나</span><span lang=\"EN-US\" style=\"mso-fareast-font-family:함초롬바탕;mso-font-width:100%;letter-spacing:0pt;mso-text-raise:0pt;\">?</span></p><p class=\"0\" style=\"mso-pagination:none;text-autospace:none;mso-padding-alt:0pt 0pt 0pt 0pt;\">     </p><p class=\"0\" style=\"mso-pagination:none;text-autospace:none;mso-padding-alt:0pt 0pt 0pt 0pt;\"><span style=\"font-family:함초롬바탕;mso-fareast-font-family:함초롬바탕;\">아무튼 그래서 그 부족한 전기를 어떻게 메꾸냐</span><span lang=\"EN-US\" style=\"mso-fareast-font-family:함초롬바탕;mso-font-width:100%;letter-spacing:0pt;mso-text-raise:0pt;\">...  </span><span style=\"font-family:함초롬바탕;mso-fareast-font-family:함초롬바탕;\">산을 밀어버리고 거기에 태양광판을 설치하기로 함</span><span lang=\"EN-US\" style=\"mso-fareast-font-family:함초롬바탕;mso-font-width:100%;letter-spacing:0pt;mso-text-raise:0pt;\">. </span><u><font color=\"#f4505a\"><span style=\"font-family:함초롬바탕;mso-fareast-font-family:함초롬바탕;\">태양광판넬 업체에게서 입찰을 받음. 중국기업과 한국기업이 입찰을 시도했는데 한국기업의 입찰은 전혀 받아들여지지 않음</span><span lang=\"EN-US\" style=\"mso-fareast-font-family:함초롬바탕;mso-font-width:100%;letter-spacing:0pt;mso-text-raise:0pt;\">. </span><span style=\"font-family:함초롬바탕;mso-fareast-font-family:함초롬바탕;\">모조리 </span><span lang=\"EN-US\" style=\"mso-fareast-font-family:함초롬바탕;mso-font-width:100%;letter-spacing:0pt;mso-text-raise:0pt;\">100% </span></font></u><span style=\"font-family:함초롬바탕;mso-fareast-font-family:함초롬바탕;\"><u><font color=\"#f4505a\">중국기업이 입찰을 받음</font></u> ㅋㅋㅋㅋㅋㅋㅋㅋㅋㅋㅋㅋㅋ</span></p><p class=\"0\" style=\"mso-pagination:none;text-autospace:none;mso-padding-alt:0pt 0pt 0pt 0pt;\">     </p><p class=\"0\" style=\"mso-pagination:none;text-autospace:none;mso-padding-alt:0pt 0pt 0pt 0pt;\">     </p><p class=\"0\" style=\"mso-pagination:none;text-autospace:none;mso-padding-alt:0pt 0pt 0pt 0pt;\"><span lang=\"EN-US\" style=\"mso-fareast-font-family:함초롬바탕;mso-font-width:100%;letter-spacing:0pt;mso-text-raise:0pt;\">1-1. </span><span style=\"font-family:함초롬바탕;mso-fareast-font-family:함초롬바탕;\">탈원전으로 에너지 수급 불안정해지니까 중국</span><span lang=\"EN-US\" style=\"mso-fareast-font-family:함초롬바탕;mso-font-width:100%;letter-spacing:0pt;mso-text-raise:0pt;\">·</span><span style=\"font-family:함초롬바탕;mso-fareast-font-family:함초롬바탕;\">러시아에서 전기 수입하기로 함</span><span lang=\"EN-US\" style=\"mso-fareast-font-family:함초롬바탕;mso-font-width:100%;letter-spacing:0pt;mso-text-raise:0pt;\">.</span></p><p class=\"0\" style=\"mso-pagination:none;text-autospace:none;mso-padding-alt:0pt 0pt 0pt 0pt;\">     </p><p class=\"0\" style=\"mso-pagination:none;text-autospace:none;mso-padding-alt:0pt 0pt 0pt 0pt;\"><span style=\"font-family:함초롬바탕;mso-fareast-font-family:함초롬바탕;\">원래 우리나라는 </span><span lang=\"EN-US\" style=\"mso-fareast-font-family:함초롬바탕;mso-font-width:100%;letter-spacing:0pt;mso-text-raise:0pt;\">100% </span><span style=\"font-family:함초롬바탕;mso-fareast-font-family:함초롬바탕;\">국내에서 에너지 수급할 수 있었음</span></p><p class=\"0\" style=\"mso-pagination:none;text-autospace:none;mso-padding-alt:0pt 0pt 0pt 0pt;\"><span style=\"font-family:함초롬바탕;mso-fareast-font-family:함초롬바탕;\">근데</span><span lang=\"EN-US\" style=\"mso-fareast-font-family:함초롬바탕;mso-font-width:100%;letter-spacing:0pt;mso-text-raise:0pt;\">....</span></p><p class=\"0\" style=\"mso-pagination:none;text-autospace:none;mso-padding-alt:0pt 0pt 0pt 0pt;\">     </p><p class=\"0\" style=\"mso-pagination:none;text-autospace:none;mso-padding-alt:0pt 0pt 0pt 0pt;\"><a href=\"https://news.v.daum.net/v/20181211031202549\" target=\"_blank\"><u style=\"text-underline:#0000ff single\"><span lang=\"EN-US\" style=\"mso-fareast-font-family:함초롬바탕;mso-font-width:100%;letter-spacing:0pt;mso-text-raise:0pt;color:#0000ff;\">https://news.v.daum.net/v/20181211031202549</span></u></a></p><p class=\"0\" style=\"mso-pagination:none;text-autospace:none;mso-padding-alt:0pt 0pt 0pt 0pt;\">     </p><p class=\"0\" style=\"mso-pagination:none;text-autospace:none;mso-padding-alt:0pt 0pt 0pt 0pt;\"><span style=\"font-family:함초롬바탕;mso-fareast-font-family:함초롬바탕;\">만약에 중국 러시아랑 사이 안좋아져서 걔네가 전기 수급 끊으면 우리나라 ㅈ됨</span></p><p class=\"0\" style=\"mso-pagination:none;text-autospace:none;mso-padding-alt:0pt 0pt 0pt 0pt;\"><span style=\"font-family:함초롬바탕;mso-fareast-font-family:함초롬바탕;\">결국 목줄 잡혔단거임</span></p><p class=\"0\" style=\"mso-pagination:none;text-autospace:none;mso-padding-alt:0pt 0pt 0pt 0pt;\">     </p><p class=\"0\" style=\"mso-pagination:none;text-autospace:none;mso-padding-alt:0pt 0pt 0pt 0pt;\">     </p><p class=\"0\" style=\"mso-pagination:none;text-autospace:none;mso-padding-alt:0pt 0pt 0pt 0pt;\">     </p><p class=\"0\" style=\"mso-pagination:none;text-autospace:none;mso-padding-alt:0pt 0pt 0pt 0pt;\">     </p><p class=\"0\" style=\"mso-pagination:none;text-autospace:none;mso-padding-alt:0pt 0pt 0pt 0pt;\"><span lang=\"EN-US\" style=\"mso-fareast-font-family:함초롬바탕;mso-font-width:100%;letter-spacing:0pt;mso-text-raise:0pt;\">2. </span><span style=\"font-family:함초롬바탕;mso-fareast-font-family:함초롬바탕;\">한전 사업 중국 입찰 될 뻔함 </span><span lang=\"EN-US\" style=\"mso-fareast-font-family:함초롬바탕;mso-font-width:100%;letter-spacing:0pt;mso-text-raise:0pt;\">(</span><span style=\"font-family:함초롬바탕;mso-fareast-font-family:함초롬바탕;\">국민이 관심 가져서 무산</span><span lang=\"EN-US\" style=\"mso-fareast-font-family:함초롬바탕;mso-font-width:100%;letter-spacing:0pt;mso-text-raise:0pt;\">)</span></p><p class=\"0\" style=\"mso-pagination:none;text-autospace:none;mso-padding-alt:0pt 0pt 0pt 0pt;\">     </p><p class=\"0\" style=\"mso-pagination:none;text-autospace:none;mso-padding-alt:0pt 0pt 0pt 0pt;\"><span style=\"font-family:함초롬바탕;mso-fareast-font-family:함초롬바탕;\">이건 좀 유명해서 아는 사람 많을듯</span></p><p class=\"0\" style=\"mso-pagination:none;text-autospace:none;mso-padding-alt:0pt 0pt 0pt 0pt;\"><span style=\"font-family:함초롬바탕;mso-fareast-font-family:함초롬바탕;\">알다시피 한 나라에서 에너지라는 건 나라의 근간임</span><span lang=\"EN-US\" style=\"mso-fareast-font-family:함초롬바탕;mso-font-width:100%;letter-spacing:0pt;mso-text-raise:0pt;\">. </span><span style=\"font-family:함초롬바탕;mso-fareast-font-family:함초롬바탕;\">모든 산업이 에너지가 없으면 다 중단되니까</span><span lang=\"EN-US\" style=\"mso-fareast-font-family:함초롬바탕;mso-font-width:100%;letter-spacing:0pt;mso-text-raise:0pt;\">... </span><span style=\"font-family:함초롬바탕;mso-fareast-font-family:함초롬바탕;\">근데 ㅋㅋ</span></p><p class=\"0\" style=\"mso-pagination:none;text-autospace:none;mso-padding-alt:0pt 0pt 0pt 0pt;\">     </p><p class=\"0\" style=\"mso-pagination:none;text-autospace:none;mso-padding-alt:0pt 0pt 0pt 0pt;\"><span lang=\"EN-US\" style=\"mso-fareast-font-family:함초롬바탕;mso-font-width:100%;letter-spacing:0pt;mso-text-raise:0pt;\"></span><span lang=\"EN-US\" style=\"mso-fareast-font-family:함초롬바탕;mso-font-width:100%;letter-spacing:0pt;mso-text-raise:0pt;\"><br/></span></p><p><a href=\"https://fimg5.pann.com/new/download.jsp?FileID=54465285\" target=\"_blank\"><img alt=\"\" id=\"3200606836\" name=\"image\" src=\"https://fimg5.pann.com/new/download.jsp?FileID=54465285\" style=\"border: medium none; width: 610px; height: 427px;\" swaf:cywrite:file_seq=\"\" swaf:cywrite:info=\"image|%EC%9E%90%EB%A3%8C1-1.jpg|http://fimg5.pann.com/new/download.jsp?FileID=54465285|55316|53915158\" swaf:cywrite:object_id=\"54465285\"/></a></p><p> </p><p><a href=\"https://fimg5.pann.com/new/download.jsp?FileID=54465286\" target=\"_blank\"><img alt=\"\" id=\"3200606837\" name=\"image\" src=\"https://fimg5.pann.com/new/download.jsp?FileID=54465286\" style=\"border: medium none; width: 610px; height: 915px;\" swaf:cywrite:file_seq=\"\" swaf:cywrite:info=\"image|%EC%9E%90%EB%A3%8C1-2.jpg|http://fimg5.pann.com/new/download.jsp?FileID=54465286|242511|53915159\" swaf:cywrite:object_id=\"54465286\"/></a></p><p> </p><p class=\"0\" style=\"mso-pagination:none;text-autospace:none;mso-padding-alt:0pt 0pt 0pt 0pt;\">     </p><p class=\"0\" style=\"mso-pagination:none;text-autospace:none;mso-padding-alt:0pt 0pt 0pt 0pt;\"><span style=\"font-family:함초롬바탕;mso-fareast-font-family:함초롬바탕;\">이게 워낙 심각한 일이라서 언론에서 집중조명 하지 않았음에도 어른들 사이에서는 많이 퍼짐</span><span lang=\"EN-US\" style=\"mso-fareast-font-family:함초롬바탕;mso-font-width:100%;letter-spacing:0pt;mso-text-raise:0pt;\">. </span><span style=\"font-family:함초롬바탕;mso-fareast-font-family:함초롬바탕;\">그래서 국민청원 올라오고 관심 받으니까 중국기업에 입찰 배제시키겠다고 입장 밝힘</span><span lang=\"EN-US\" style=\"mso-fareast-font-family:함초롬바탕;mso-font-width:100%;letter-spacing:0pt;mso-text-raise:0pt;\">. </span></p><p class=\"0\" style=\"mso-pagination:none;text-autospace:none;mso-padding-alt:0pt 0pt 0pt 0pt;\"><span style=\"font-family:함초롬바탕;mso-fareast-font-family:함초롬바탕;\">그러니까 아래 이어지는 일들에도 관심이 필요해 정말로</span><span lang=\"EN-US\" style=\"mso-fareast-font-family:함초롬바탕;mso-font-width:100%;letter-spacing:0pt;mso-text-raise:0pt;\">...</span></p><p class=\"0\" style=\"mso-pagination:none;text-autospace:none;mso-padding-alt:0pt 0pt 0pt 0pt;\">     </p><p class=\"0\" style=\"mso-pagination:none;text-autospace:none;mso-padding-alt:0pt 0pt 0pt 0pt;\"><span lang=\"EN-US\" style=\"mso-fareast-font-family:함초롬바탕;mso-font-width:100%;letter-spacing:0pt;mso-text-raise:0pt;\"></span><span lang=\"EN-US\" style=\"mso-fareast-font-family:함초롬바탕;mso-font-width:100%;letter-spacing:0pt;mso-text-raise:0pt;\"><br/></span></p><p><a href=\"https://fimg5.pann.com/new/download.jsp?FileID=54465287\" target=\"_blank\"><img alt=\"\" id=\"3200606838\" name=\"image\" src=\"https://fimg5.pann.com/new/download.jsp?FileID=54465287\" style=\"border: medium none; width: 610px; height: 674px;\" swaf:cywrite:file_seq=\"\" swaf:cywrite:info=\"image|%EC%9E%90%EB%A3%8C2.jpg|http://fimg5.pann.com/new/download.jsp?FileID=54465287|187586|53915202\" swaf:cywrite:object_id=\"54465287\"/></a></p><p> </p><p class=\"0\" style=\"mso-pagination:none;text-autospace:none;mso-padding-alt:0pt 0pt 0pt 0pt;\">     </p><p class=\"0\" style=\"mso-pagination:none;text-autospace:none;mso-padding-alt:0pt 0pt 0pt 0pt;\"><span lang=\"EN-US\" style=\"mso-fareast-font-family:함초롬바탕;mso-font-width:100%;letter-spacing:0pt;mso-text-raise:0pt;\">https://news.v.daum.net/v/20181211031202549</span></p><p class=\"0\" style=\"mso-pagination:none;text-autospace:none;mso-padding-alt:0pt 0pt 0pt 0pt;\">     </p><p class=\"0\" style=\"mso-pagination:none;text-autospace:none;mso-padding-alt:0pt 0pt 0pt 0pt;\"><span lang=\"EN-US\" style=\"mso-fareast-font-family:함초롬바탕;mso-font-width:100%;letter-spacing:0pt;mso-text-raise:0pt;\">3. </span><span style=\"font-family:함초롬바탕;mso-fareast-font-family:함초롬바탕;\">강원도 춘천 유적지에 레고랜드 건립 </span><span lang=\"EN-US\" style=\"mso-fareast-font-family:함초롬바탕;mso-font-width:100%;letter-spacing:0pt;mso-text-raise:0pt;\">&amp; </span><span style=\"font-family:함초롬바탕;mso-fareast-font-family:함초롬바탕;\">중국인 전용 초호화 호텔 건립</span></p><p class=\"0\" style=\"mso-pagination:none;text-autospace:none;mso-padding-alt:0pt 0pt 0pt 0pt;\">     </p><p class=\"0\" style=\"mso-pagination:none;text-autospace:none;mso-padding-alt:0pt 0pt 0pt 0pt;\"><span lang=\"EN-US\" style=\"mso-fareast-font-family:함초롬바탕;mso-font-width:100%;letter-spacing:0pt;mso-text-raise:0pt;\">https://kr-mb.theepochtimes.com/%EA%B0%95%EC%9B%90%EB%8F%84-%EC%A4%91%EA%B5%AD%EC%9D%B8-%EC%9C%84%ED%95%9C-%EC%B5%9C%EA%B3%A0%EA%B8%89-%ED%98%B8%ED%85%94-%EC%9C%84%ED%95%B4-%EC%84%B8%EA%B3%84%EC%A0%81-%EC%9C%A0%EC%A0%81_526465.html</span></p><p class=\"0\" style=\"mso-pagination:none;text-autospace:none;mso-padding-alt:0pt 0pt 0pt 0pt;\">     </p><p class=\"0\" style=\"mso-pagination:none;text-autospace:none;mso-padding-alt:0pt 0pt 0pt 0pt;\"><span style=\"font-family:함초롬바탕;mso-fareast-font-family:함초롬바탕;\">이거 조카 심각함</span><span lang=\"EN-US\" style=\"mso-fareast-font-family:함초롬바탕;mso-font-width:100%;letter-spacing:0pt;mso-text-raise:0pt;\">;; </span><span style=\"font-family:함초롬바탕;mso-fareast-font-family:함초롬바탕;\">레고랜드 건립 이게 </span><span lang=\"EN-US\" style=\"mso-fareast-font-family:함초롬바탕;mso-font-width:100%;letter-spacing:0pt;mso-text-raise:0pt;\">mb</span><span style=\"font-family:함초롬바탕;mso-fareast-font-family:함초롬바탕;\">정부 때부터 시작한 사업이거든</span><span lang=\"EN-US\" style=\"mso-fareast-font-family:함초롬바탕;mso-font-width:100%;letter-spacing:0pt;mso-text-raise:0pt;\">?? </span><span style=\"font-family:함초롬바탕;mso-fareast-font-family:함초롬바탕;\">춘천에 섬이 있는데 거기다가 레고랜드 건립을 추진함</span><span lang=\"EN-US\" style=\"mso-fareast-font-family:함초롬바탕;mso-font-width:100%;letter-spacing:0pt;mso-text-raise:0pt;\">. </span></p><p class=\"0\" style=\"mso-pagination:none;text-autospace:none;mso-padding-alt:0pt 0pt 0pt 0pt;\"><span style=\"font-family:함초롬바탕;mso-fareast-font-family:함초롬바탕;\">근데 문제는 이 섬에 세계 최대의 선사시대 도시 유적지가 있음</span><span lang=\"EN-US\" style=\"mso-fareast-font-family:함초롬바탕;mso-font-width:100%;letter-spacing:0pt;mso-text-raise:0pt;\">. </span><span style=\"font-family:함초롬바탕;mso-fareast-font-family:함초롬바탕;\">그런데도 </span><span lang=\"EN-US\" style=\"mso-fareast-font-family:함초롬바탕;mso-font-width:100%;letter-spacing:0pt;mso-text-raise:0pt;\">mb</span><span style=\"font-family:함초롬바탕;mso-fareast-font-family:함초롬바탕;\">정부는 문화재로 등록하지 않고 그대로 사업을 추진해버림</span><span lang=\"EN-US\" style=\"mso-fareast-font-family:함초롬바탕;mso-font-width:100%;letter-spacing:0pt;mso-text-raise:0pt;\">. </span><span style=\"font-family:함초롬바탕;mso-fareast-font-family:함초롬바탕;\">대체 왜</span><span lang=\"EN-US\" style=\"mso-fareast-font-family:함초롬바탕;mso-font-width:100%;letter-spacing:0pt;mso-text-raise:0pt;\">??</span></p><p class=\"0\" style=\"mso-pagination:none;text-autospace:none;mso-padding-alt:0pt 0pt 0pt 0pt;\"><span style=\"font-family:함초롬바탕;mso-fareast-font-family:함초롬바탕;\">전문가들 말로는 스톤헨지에 버금가는 역사적 가치를 갖고 있고 이 유적지가 중국의 동북공정 </span><span lang=\"EN-US\" style=\"mso-fareast-font-family:함초롬바탕;mso-font-width:100%;letter-spacing:0pt;mso-text-raise:0pt;\">(</span><span style=\"font-family:함초롬바탕;mso-fareast-font-family:함초롬바탕;\">밑에서 더 설명</span><span lang=\"EN-US\" style=\"mso-fareast-font-family:함초롬바탕;mso-font-width:100%;letter-spacing:0pt;mso-text-raise:0pt;\">)</span><span style=\"font-family:함초롬바탕;mso-fareast-font-family:함초롬바탕;\">을 막을 수 있는 증거가 된다 함</span><span lang=\"EN-US\" style=\"mso-fareast-font-family:함초롬바탕;mso-font-width:100%;letter-spacing:0pt;mso-text-raise:0pt;\">. </span><span style=\"font-family:함초롬바탕;mso-fareast-font-family:함초롬바탕;\">역시 스톤헨지처럼 관광지로서의 가치도 엄청 높음</span><span lang=\"EN-US\" style=\"mso-fareast-font-family:함초롬바탕;mso-font-width:100%;letter-spacing:0pt;mso-text-raise:0pt;\">.</span></p><p class=\"0\" style=\"mso-pagination:none;text-autospace:none;mso-padding-alt:0pt 0pt 0pt 0pt;\"><span style=\"font-family:함초롬바탕;mso-fareast-font-family:함초롬바탕;\">게다가 중국인전용 호텔도 같이 짓는다함ㅋㅋㅋㅋㅋㅋ </span></p><p class=\"0\" style=\"mso-pagination:none;text-autospace:none;mso-padding-alt:0pt 0pt 0pt 0pt;\">     </p><p class=\"0\" style=\"mso-pagination:none;text-autospace:none;mso-padding-alt:0pt 0pt 0pt 0pt;\"><span style=\"font-family:함초롬바탕;mso-fareast-font-family:함초롬바탕;\">관계자 해명으로는 </span><span lang=\"EN-US\" style=\"mso-fareast-font-family:함초롬바탕;mso-font-width:100%;letter-spacing:0pt;mso-text-raise:0pt;\">1m</span><span style=\"font-family:함초롬바탕;mso-fareast-font-family:함초롬바탕;\">이상 땅을 파지 않겠다고 했는데 호텔을 지으려면 </span><span lang=\"EN-US\" style=\"mso-fareast-font-family:함초롬바탕;mso-font-width:100%;letter-spacing:0pt;mso-text-raise:0pt;\">10m</span><span style=\"font-family:함초롬바탕;mso-fareast-font-family:함초롬바탕;\">이상은 땅을 파야한다고 함</span><span lang=\"EN-US\" style=\"mso-fareast-font-family:함초롬바탕;mso-font-width:100%;letter-spacing:0pt;mso-text-raise:0pt;\">. </span><span style=\"font-family:함초롬바탕;mso-fareast-font-family:함초롬바탕;\">말이 안됨</span><span lang=\"EN-US\" style=\"mso-fareast-font-family:함초롬바탕;mso-font-width:100%;letter-spacing:0pt;mso-text-raise:0pt;\">. </span><span style=\"font-family:함초롬바탕;mso-fareast-font-family:함초롬바탕;\">이미 유적지 파괴 되는 중임</span></p><p class=\"0\" style=\"mso-pagination:none;text-autospace:none;mso-padding-alt:0pt 0pt 0pt 0pt;\">     </p><p class=\"0\" style=\"mso-pagination:none;text-autospace:none;mso-padding-alt:0pt 0pt 0pt 0pt;\">     </p><p class=\"0\" style=\"mso-pagination:none;text-autospace:none;mso-padding-alt:0pt 0pt 0pt 0pt;\"><span style=\"font-family:함초롬바탕;mso-fareast-font-family:함초롬바탕;\">밑에 청와대 국민청원 링크 걸테니까 제발 꼭 이거라도 해줘</span><span lang=\"EN-US\" style=\"mso-fareast-font-family:함초롬바탕;mso-font-width:100%;letter-spacing:0pt;mso-text-raise:0pt;\">.. </span><span style=\"font-family:함초롬바탕;mso-fareast-font-family:함초롬바탕;\">저번에 </span><span lang=\"EN-US\" style=\"mso-fareast-font-family:함초롬바탕;mso-font-width:100%;letter-spacing:0pt;mso-text-raise:0pt;\">10</span><span style=\"font-family:함초롬바탕;mso-fareast-font-family:함초롬바탕;\">만정도 채웠다가 기간 끝나서 다 못채우고 새로 청원 생김</span><span lang=\"EN-US\" style=\"mso-fareast-font-family:함초롬바탕;mso-font-width:100%;letter-spacing:0pt;mso-text-raise:0pt;\">... </span><span style=\"font-family:함초롬바탕;mso-fareast-font-family:함초롬바탕;\">부탁할게</span></p><p class=\"0\" style=\"mso-pagination:none;text-autospace:none;mso-padding-alt:0pt 0pt 0pt 0pt;\">     </p><p class=\"0\" style=\"mso-pagination:none;text-autospace:none;mso-padding-alt:0pt 0pt 0pt 0pt;\">     </p><p class=\"0\" style=\"mso-pagination:none;text-autospace:none;mso-padding-alt:0pt 0pt 0pt 0pt;\">     </p><p class=\"0\" style=\"mso-pagination:none;text-autospace:none;mso-padding-alt:0pt 0pt 0pt 0pt;\"><span lang=\"EN-US\" style=\"mso-fareast-font-family:함초롬바탕;mso-font-width:100%;letter-spacing:0pt;mso-text-raise:0pt;\">+) </span><span style=\"font-family:함초롬바탕;mso-fareast-font-family:함초롬바탕;\">참고로 춘천에 지금 중국 관련해서 개발되는게 </span><span lang=\"EN-US\" style=\"mso-fareast-font-family:함초롬바탕;mso-font-width:100%;letter-spacing:0pt;mso-text-raise:0pt;\">“</span><span style=\"font-family:함초롬바탕;mso-fareast-font-family:함초롬바탕;\">차이나타운</span><span lang=\"EN-US\" style=\"mso-fareast-font-family:함초롬바탕;mso-font-width:100%;letter-spacing:0pt;mso-text-raise:0pt;\">, </span><span style=\"font-family:함초롬바탕;mso-fareast-font-family:함초롬바탕;\">레고랜드</span><span lang=\"EN-US\" style=\"mso-fareast-font-family:함초롬바탕;mso-font-width:100%;letter-spacing:0pt;mso-text-raise:0pt;\">, </span><span style=\"font-family:함초롬바탕;mso-fareast-font-family:함초롬바탕;\">중국인전용 초호화호텔</span><span lang=\"EN-US\" style=\"mso-fareast-font-family:함초롬바탕;mso-font-width:100%;letter-spacing:0pt;mso-text-raise:0pt;\">” </span><span style=\"font-family:함초롬바탕;mso-fareast-font-family:함초롬바탕;\">이렇게 있는데 차이나타운을 유적지 위에 짓는 거라고 혼동하는 사람이 몇 있음</span><span lang=\"EN-US\" style=\"mso-fareast-font-family:함초롬바탕;mso-font-width:100%;letter-spacing:0pt;mso-text-raise:0pt;\">. </span><span style=\"font-family:함초롬바탕;mso-fareast-font-family:함초롬바탕;\">차이나타운은 라비에벨 관광단지에 짓는거고</span><span lang=\"EN-US\" style=\"mso-fareast-font-family:함초롬바탕;mso-font-width:100%;letter-spacing:0pt;mso-text-raise:0pt;\">, </span><span style=\"font-family:함초롬바탕;mso-fareast-font-family:함초롬바탕;\">레고랜드와 호텔을 유적지 섬에 짓는 거임</span><span lang=\"EN-US\" style=\"mso-fareast-font-family:함초롬바탕;mso-font-width:100%;letter-spacing:0pt;mso-text-raise:0pt;\">. </span><span style=\"font-family:함초롬바탕;mso-fareast-font-family:함초롬바탕;\">혼동</span><span lang=\"EN-US\" style=\"mso-fareast-font-family:함초롬바탕;mso-font-width:100%;letter-spacing:0pt;mso-text-raise:0pt;\">x</span></p><p class=\"0\" style=\"mso-pagination:none;text-autospace:none;mso-padding-alt:0pt 0pt 0pt 0pt;\">     </p><p class=\"0\" style=\"mso-pagination:none;text-autospace:none;mso-padding-alt:0pt 0pt 0pt 0pt;\">     </p><p class=\"0\" style=\"mso-pagination:none;text-autospace:none;mso-padding-alt:0pt 0pt 0pt 0pt;\"><span lang=\"EN-US\" style=\"mso-fareast-font-family:함초롬바탕;mso-font-width:100%;letter-spacing:0pt;mso-text-raise:0pt;\">4. </span><span style=\"font-family:함초롬바탕;mso-fareast-font-family:함초롬바탕;\">한국 내 차이나타운</span></p><p class=\"0\" style=\"mso-pagination:none;text-autospace:none;mso-padding-alt:0pt 0pt 0pt 0pt;\">     </p><p><a href=\"https://fimg5.pann.com/new/download.jsp?FileID=54465288\" target=\"_blank\"><img alt=\"\" id=\"3200606839\" name=\"image\" src=\"https://fimg5.pann.com/new/download.jsp?FileID=54465288\" style=\"border: medium none; width: 610px; height: 736px;\" swaf:cywrite:file_seq=\"\" swaf:cywrite:info=\"image|%EC%9E%90%EB%A3%8C3-1.jpg|http://fimg5.pann.com/new/download.jsp?FileID=54465288|137956|53915236\" swaf:cywrite:object_id=\"54465288\"/></a></p><p> </p><p><a href=\"https://fimg5.pann.com/new/download.jsp?FileID=54465289\" target=\"_blank\"><img alt=\"\" id=\"3200606840\" name=\"image\" src=\"https://fimg5.pann.com/new/download.jsp?FileID=54465289\" style=\"border: medium none; width: 610px; height: 934px;\" swaf:cywrite:file_seq=\"\" swaf:cywrite:info=\"image|%EC%9E%90%EB%A3%8C3-2.jpg|http://fimg5.pann.com/new/download.jsp?FileID=54465289|595028|53915237\" swaf:cywrite:object_id=\"54465289\"/></a></p><p> </p><p><a href=\"https://fimg5.pann.com/new/download.jsp?FileID=54465290\" target=\"_blank\"><img alt=\"\" id=\"3200606841\" name=\"image\" src=\"https://fimg5.pann.com/new/download.jsp?FileID=54465290\" style=\"border: medium none; width: 610px; height: 435px;\" swaf:cywrite:file_seq=\"\" swaf:cywrite:info=\"image|%EC%9E%90%EB%A3%8C3-3.jpg|http://fimg5.pann.com/new/download.jsp?FileID=54465290|60832|53915238\" swaf:cywrite:object_id=\"54465290\"/></a></p><p> </p><p class=\"0\" style=\"mso-pagination:none;text-autospace:none;mso-padding-alt:0pt 0pt 0pt 0pt;\"><span lang=\"EN-US\" style=\"mso-fareast-font-family:함초롬바탕;mso-font-width:100%;letter-spacing:0pt;mso-text-raise:0pt;\"><br/></span><span style=\"font-family:함초롬바탕;mso-fareast-font-family:함초롬바탕;\"></span><span lang=\"EN-US\" style=\"mso-fareast-font-family:함초롬바탕;mso-font-width:100%;letter-spacing:0pt;mso-text-raise:0pt;\"></span></p><p class=\"0\" style=\"mso-pagination:none;text-autospace:none;mso-padding-alt:0pt 0pt 0pt 0pt;\">     </p><p class=\"0\" style=\"mso-pagination:none;text-autospace:none;mso-padding-alt:0pt 0pt 0pt 0pt;\"><span style=\"font-family:함초롬바탕;mso-fareast-font-family:함초롬바탕;\">너네 차이나타운 이렇게 많은거 알고 있었어</span><span lang=\"EN-US\" style=\"mso-fareast-font-family:함초롬바탕;mso-font-width:100%;letter-spacing:0pt;mso-text-raise:0pt;\">? </span><span style=\"font-family:함초롬바탕;mso-fareast-font-family:함초롬바탕;\">나도 최근에야 알게 됨ㅋㅋㅋㅋㅋㅋㅋㅋ 도대체 차이나타운이 우리나라에 이렇게 많아야 될 이유가 뭐야</span><span lang=\"EN-US\" style=\"mso-fareast-font-family:함초롬바탕;mso-font-width:100%;letter-spacing:0pt;mso-text-raise:0pt;\">? </span><span style=\"font-family:함초롬바탕;mso-fareast-font-family:함초롬바탕;\">우리나라 조선족은 </span><span lang=\"EN-US\" style=\"mso-fareast-font-family:함초롬바탕;mso-font-width:100%;letter-spacing:0pt;mso-text-raise:0pt;\">80</span><span style=\"font-family:함초롬바탕;mso-fareast-font-family:함초롬바탕;\">만명 넘어간지 오래고 한족도 비슷함</span><span lang=\"EN-US\" style=\"mso-fareast-font-family:함초롬바탕;mso-font-width:100%;letter-spacing:0pt;mso-text-raise:0pt;\">.</span></p><p class=\"0\" style=\"mso-pagination:none;text-autospace:none;mso-padding-alt:0pt 0pt 0pt 0pt;\">     </p><p class=\"0\" style=\"mso-pagination:none;text-autospace:none;mso-padding-alt:0pt 0pt 0pt 0pt;\"><span style=\"font-family:함초롬바탕;mso-fareast-font-family:함초롬바탕;\">난 이해가 안돼</span><span lang=\"EN-US\" style=\"mso-fareast-font-family:함초롬바탕;mso-font-width:100%;letter-spacing:0pt;mso-text-raise:0pt;\">. </span><span style=\"font-family:함초롬바탕;mso-fareast-font-family:함초롬바탕;\">왜 굳이 차이나타운만 우리나라에 이렇게 많은걸까</span><span lang=\"EN-US\" style=\"mso-fareast-font-family:함초롬바탕;mso-font-width:100%;letter-spacing:0pt;mso-text-raise:0pt;\">? </span><span style=\"font-family:함초롬바탕;mso-fareast-font-family:함초롬바탕;\">재팬타운</span><span lang=\"EN-US\" style=\"mso-fareast-font-family:함초롬바탕;mso-font-width:100%;letter-spacing:0pt;mso-text-raise:0pt;\">, </span><span style=\"font-family:함초롬바탕;mso-fareast-font-family:함초롬바탕;\">아메리카 타운</span><span lang=\"EN-US\" style=\"mso-fareast-font-family:함초롬바탕;mso-font-width:100%;letter-spacing:0pt;mso-text-raise:0pt;\">, </span><span style=\"font-family:함초롬바탕;mso-fareast-font-family:함초롬바탕;\">이런 건 없잖아</span><span lang=\"EN-US\" style=\"mso-fareast-font-family:함초롬바탕;mso-font-width:100%;letter-spacing:0pt;mso-text-raise:0pt;\">....</span></p><p class=\"0\" style=\"mso-pagination:none;text-autospace:none;mso-padding-alt:0pt 0pt 0pt 0pt;\">     </p><p class=\"0\" style=\"mso-pagination:none;text-autospace:none;mso-padding-alt:0pt 0pt 0pt 0pt;\">     </p><p class=\"0\" style=\"mso-pagination:none;text-autospace:none;mso-padding-alt:0pt 0pt 0pt 0pt;\"><span lang=\"EN-US\" style=\"mso-fareast-font-family:함초롬바탕;mso-font-width:100%;letter-spacing:0pt;mso-text-raise:0pt;\">4-1. </span><span style=\"font-family:함초롬바탕;mso-fareast-font-family:함초롬바탕;\">춘천</span><span lang=\"EN-US\" style=\"mso-fareast-font-family:함초롬바탕;mso-font-width:100%;letter-spacing:0pt;mso-text-raise:0pt;\">&amp;</span><span style=\"font-family:함초롬바탕;mso-fareast-font-family:함초롬바탕;\">홍천 라비에벨 관광단지 차이나타운</span></p><p class=\"0\" style=\"mso-pagination:none;text-autospace:none;mso-padding-alt:0pt 0pt 0pt 0pt;\">     </p><p class=\"0\" style=\"mso-pagination:none;text-autospace:none;mso-padding-alt:0pt 0pt 0pt 0pt;\"><span style=\"font-family:함초롬바탕;mso-fareast-font-family:함초롬바탕;\">이번에 새로 생기는 차이나타운임</span><span lang=\"EN-US\" style=\"mso-fareast-font-family:함초롬바탕;mso-font-width:100%;letter-spacing:0pt;mso-text-raise:0pt;\">. </span><span style=\"font-family:함초롬바탕;mso-fareast-font-family:함초롬바탕;\">국내에서 역대급 제일 큰 규모라고 함</span><span lang=\"EN-US\" style=\"mso-fareast-font-family:함초롬바탕;mso-font-width:100%;letter-spacing:0pt;mso-text-raise:0pt;\">. </span><span style=\"font-family:함초롬바탕;mso-fareast-font-family:함초롬바탕;\">춘천 선사유적지에 중국인전용 초호화호텔을 짓는 거랑 이거랑 연결되서 중국인 관광객 유치하려는 사업인듯함</span><span lang=\"EN-US\" style=\"mso-fareast-font-family:함초롬바탕;mso-font-width:100%;letter-spacing:0pt;mso-text-raise:0pt;\">.</span></p><p class=\"0\" style=\"mso-pagination:none;text-autospace:none;mso-padding-alt:0pt 0pt 0pt 0pt;\">     </p><p class=\"0\" style=\"mso-pagination:none;text-autospace:none;mso-padding-alt:0pt 0pt 0pt 0pt;\"><span style=\"font-family:함초롬바탕;mso-fareast-font-family:함초롬바탕;\">근데</span><span lang=\"EN-US\" style=\"mso-fareast-font-family:함초롬바탕;mso-font-width:100%;letter-spacing:0pt;mso-text-raise:0pt;\">...</span><span style=\"font-family:함초롬바탕;mso-fareast-font-family:함초롬바탕;\">너네 차이나타운이 계속 많아지면 무슨일이 벌어질지 생각해봤어</span><span lang=\"EN-US\" style=\"mso-fareast-font-family:함초롬바탕;mso-font-width:100%;letter-spacing:0pt;mso-text-raise:0pt;\">? </span></p><p class=\"0\" style=\"mso-pagination:none;text-autospace:none;mso-padding-alt:0pt 0pt 0pt 0pt;\"><span style=\"font-family:함초롬바탕;mso-fareast-font-family:함초롬바탕;\">지금 이탈리아 상황 어떤지 알아</span><span lang=\"EN-US\" style=\"mso-fareast-font-family:함초롬바탕;mso-font-width:100%;letter-spacing:0pt;mso-text-raise:0pt;\">? </span><span style=\"font-family:함초롬바탕;mso-fareast-font-family:함초롬바탕;\">중국인 관광객이 너무 많아서 자국민 보호라는 명목으로 중국에서 공안 들어왔어</span><span lang=\"EN-US\" style=\"mso-fareast-font-family:함초롬바탕;mso-font-width:100%;letter-spacing:0pt;mso-text-raise:0pt;\">.. </span><span style=\"font-family:함초롬바탕;mso-fareast-font-family:함초롬바탕;\">이탈리아에 중국 공안이 돌아다닌다고</span><span lang=\"EN-US\" style=\"mso-fareast-font-family:함초롬바탕;mso-font-width:100%;letter-spacing:0pt;mso-text-raise:0pt;\">...</span></p><p class=\"0\" style=\"mso-pagination:none;text-autospace:none;mso-padding-alt:0pt 0pt 0pt 0pt;\">     </p><p class=\"0\" style=\"mso-pagination:none;text-autospace:none;mso-padding-alt:0pt 0pt 0pt 0pt;\"><span lang=\"EN-US\" style=\"mso-fareast-font-family:함초롬바탕;mso-font-width:100%;letter-spacing:0pt;mso-text-raise:0pt;\">+) </span><span style=\"font-family:함초롬바탕;mso-fareast-font-family:함초롬바탕;\">이탈리아는 유럽에서 중국인이 가장 많이 사는 나라고</span><span lang=\"EN-US\" style=\"mso-fareast-font-family:함초롬바탕;mso-font-width:100%;letter-spacing:0pt;mso-text-raise:0pt;\">, </span><span style=\"font-family:함초롬바탕;mso-fareast-font-family:함초롬바탕;\">일대일로 사업에도 동참한 나라임</span><span lang=\"EN-US\" style=\"mso-fareast-font-family:함초롬바탕;mso-font-width:100%;letter-spacing:0pt;mso-text-raise:0pt;\">. </span></p><p class=\"0\" style=\"mso-pagination:none;text-autospace:none;mso-padding-alt:0pt 0pt 0pt 0pt;\"><span style=\"font-family:함초롬바탕;mso-fareast-font-family:함초롬바탕;\">이번 우한페렴 사태에서 이탈리아는 중국인 의료진의 전두지휘 아래 들어감</span><span lang=\"EN-US\" style=\"mso-fareast-font-family:함초롬바탕;mso-font-width:100%;letter-spacing:0pt;mso-text-raise:0pt;\">. </span></p><p class=\"0\" style=\"mso-pagination:none;text-autospace:none;mso-padding-alt:0pt 0pt 0pt 0pt;\">     </p><p class=\"0\" style=\"mso-pagination:none;text-autospace:none;mso-padding-alt:0pt 0pt 0pt 0pt;\"><span lang=\"EN-US\" style=\"mso-fareast-font-family:함초롬바탕;mso-font-width:100%;letter-spacing:0pt;mso-text-raise:0pt;\"></span><span lang=\"EN-US\" style=\"mso-fareast-font-family:함초롬바탕;mso-font-width:100%;letter-spacing:0pt;mso-text-raise:0pt;\"><br/></span></p><p><a href=\"https://fimg5.pann.com/new/download.jsp?FileID=54465291\" target=\"_blank\"><img alt=\"\" id=\"3200606842\" name=\"image\" src=\"https://fimg5.pann.com/new/download.jsp?FileID=54465291\" style=\"border: medium none; width: 610px; height: 315px;\" swaf:cywrite:file_seq=\"\" swaf:cywrite:info=\"image|%EC%9E%90%EB%A3%8C4-1.jpg|http://fimg5.pann.com/new/download.jsp?FileID=54465291|79723|53915267\" swaf:cywrite:object_id=\"54465291\"/></a></p><p> </p><p><a href=\"https://fimg5.pann.com/new/download.jsp?FileID=54465292\" target=\"_blank\"><img alt=\"\" id=\"3200606843\" name=\"image\" src=\"https://fimg5.pann.com/new/download.jsp?FileID=54465292\" style=\"border: medium none; width: 610px; height: 312px;\" swaf:cywrite:file_seq=\"\" swaf:cywrite:info=\"image|%EC%9E%90%EB%A3%8C4-2.jpg|http://fimg5.pann.com/new/download.jsp?FileID=54465292|92437|53915268\" swaf:cywrite:object_id=\"54465292\"/></a></p><p> </p><p class=\"0\" style=\"mso-pagination:none;text-autospace:none;mso-padding-alt:0pt 0pt 0pt 0pt;\">     </p><p class=\"0\" style=\"mso-pagination:none;text-autospace:none;mso-padding-alt:0pt 0pt 0pt 0pt;\"><span lang=\"EN-US\" style=\"mso-fareast-font-family:함초롬바탕;mso-font-width:100%;letter-spacing:0pt;mso-text-raise:0pt;\">-&gt; </span><span style=\"font-family:함초롬바탕;mso-fareast-font-family:함초롬바탕;\">이탈리아 내에 중국인이 너무 많아져서 현지에서도 중국인을 어떻게 할 수가 없음 통제 불가</span></p><p class=\"0\" style=\"mso-pagination:none;text-autospace:none;mso-padding-alt:0pt 0pt 0pt 0pt;\">     </p><p class=\"0\" style=\"mso-pagination:none;text-autospace:none;mso-padding-alt:0pt 0pt 0pt 0pt;\">     </p><p class=\"0\" style=\"mso-pagination:none;text-autospace:none;mso-padding-alt:0pt 0pt 0pt 0pt;\"><span lang=\"EN-US\" style=\"mso-fareast-font-family:함초롬바탕;mso-font-width:100%;letter-spacing:0pt;mso-text-raise:0pt;\">4-2. </span><span style=\"font-family:함초롬바탕;mso-fareast-font-family:함초롬바탕;\">현덕지구 차이나타운 개발 </span><span lang=\"EN-US\" style=\"mso-fareast-font-family:함초롬바탕;mso-font-width:100%;letter-spacing:0pt;mso-text-raise:0pt;\">(feat. </span><span style=\"font-family:함초롬바탕;mso-fareast-font-family:함초롬바탕;\">대한민국중국성개발 주식회사</span><span lang=\"EN-US\" style=\"mso-fareast-font-family:함초롬바탕;mso-font-width:100%;letter-spacing:0pt;mso-text-raise:0pt;\">)</span></p><p class=\"0\" style=\"mso-pagination:none;text-autospace:none;mso-padding-alt:0pt 0pt 0pt 0pt;\">     </p><p class=\"0\" style=\"mso-pagination:none;text-autospace:none;mso-padding-alt:0pt 0pt 0pt 0pt;\">     </p><p class=\"0\" style=\"mso-pagination:none;text-autospace:none;mso-padding-alt:0pt 0pt 0pt 0pt;\"><span style=\"font-family:함초롬바탕;mso-fareast-font-family:함초롬바탕;\">이거</span><span lang=\"EN-US\" style=\"mso-fareast-font-family:함초롬바탕;mso-font-width:100%;letter-spacing:0pt;mso-text-raise:0pt;\">......</span><span style=\"font-family:함초롬바탕;mso-fareast-font-family:함초롬바탕;\">ㅋㅋㅋㅋㅋㅋㅋㅋ 우리나라 진짜 ㅈ될뻔함</span><span lang=\"EN-US\" style=\"mso-fareast-font-family:함초롬바탕;mso-font-width:100%;letter-spacing:0pt;mso-text-raise:0pt;\">. </span><span style=\"font-family:함초롬바탕;mso-fareast-font-family:함초롬바탕;\">사업 참여한 회사 이름이 너무 노골적이지 않아</span><span lang=\"EN-US\" style=\"mso-fareast-font-family:함초롬바탕;mso-font-width:100%;letter-spacing:0pt;mso-text-raise:0pt;\">? “</span><span style=\"font-family:함초롬바탕;mso-fareast-font-family:함초롬바탕;\">대한민국중국성개발</span><span lang=\"EN-US\" style=\"mso-fareast-font-family:함초롬바탕;mso-font-width:100%;letter-spacing:0pt;mso-text-raise:0pt;\">”</span><span style=\"font-family:함초롬바탕;mso-fareast-font-family:함초롬바탕;\">이래</span><span lang=\"EN-US\" style=\"mso-fareast-font-family:함초롬바탕;mso-font-width:100%;letter-spacing:0pt;mso-text-raise:0pt;\">.. </span><span style=\"font-family:함초롬바탕;mso-fareast-font-family:함초롬바탕;\">진짜 돌았나ㅋㅋㅋㅋㅋㅋㅋㅋㅋㅋ 이게 말이 돼</span><span lang=\"EN-US\" style=\"mso-fareast-font-family:함초롬바탕;mso-font-width:100%;letter-spacing:0pt;mso-text-raise:0pt;\">?</span></p><p class=\"0\" style=\"mso-pagination:none;text-autospace:none;mso-padding-alt:0pt 0pt 0pt 0pt;\">     </p><p class=\"0\" style=\"mso-pagination:none;text-autospace:none;mso-padding-alt:0pt 0pt 0pt 0pt;\"><span style=\"font-family:함초롬바탕;mso-fareast-font-family:함초롬바탕;\">이게 뭐냐면 현덕지구라는 엄청나게 큰 공터가 있음</span><span lang=\"EN-US\" style=\"mso-fareast-font-family:함초롬바탕;mso-font-width:100%;letter-spacing:0pt;mso-text-raise:0pt;\">. </span><span style=\"font-family:함초롬바탕;mso-fareast-font-family:함초롬바탕;\">여기다가 전세계 </span><span lang=\"EN-US\" style=\"mso-fareast-font-family:함초롬바탕;mso-font-width:100%;letter-spacing:0pt;mso-text-raise:0pt;\">55</span><span style=\"font-family:함초롬바탕;mso-fareast-font-family:함초롬바탕;\">개 차이나타운을 전부 합친것보다 큰 초대형 차이나타운을 짓기로함</span><span lang=\"EN-US\" style=\"mso-fareast-font-family:함초롬바탕;mso-font-width:100%;letter-spacing:0pt;mso-text-raise:0pt;\">. </span></p><p class=\"0\" style=\"mso-pagination:none;text-autospace:none;mso-padding-alt:0pt 0pt 0pt 0pt;\"><span style=\"font-family:함초롬바탕;mso-fareast-font-family:함초롬바탕;\">게다가 계약한 이름 업체가 </span><span lang=\"EN-US\" style=\"mso-fareast-font-family:함초롬바탕;mso-font-width:100%;letter-spacing:0pt;mso-text-raise:0pt;\">‘</span><span style=\"font-family:함초롬바탕;mso-fareast-font-family:함초롬바탕;\">대한민국중국성개발 주식회사</span><span lang=\"EN-US\" style=\"mso-fareast-font-family:함초롬바탕;mso-font-width:100%;letter-spacing:0pt;mso-text-raise:0pt;\">’</span><span style=\"font-family:함초롬바탕;mso-fareast-font-family:함초롬바탕;\">임ㅋㅋㅋㅋㅋㅋㅋㅋㅋㅋㅋ</span></p><p class=\"0\" style=\"mso-pagination:none;text-autospace:none;mso-padding-alt:0pt 0pt 0pt 0pt;\">     </p><p class=\"0\" style=\"mso-pagination:none;text-autospace:none;mso-padding-alt:0pt 0pt 0pt 0pt;\"><span style=\"font-family:함초롬바탕;mso-fareast-font-family:함초롬바탕;\">ㅈㄴ 거짓말 같지</span><span lang=\"EN-US\" style=\"mso-fareast-font-family:함초롬바탕;mso-font-width:100%;letter-spacing:0pt;mso-text-raise:0pt;\">? </span><span style=\"font-family:함초롬바탕;mso-fareast-font-family:함초롬바탕;\">나도 이거보고 가짜뉴스 아냐</span><span lang=\"EN-US\" style=\"mso-fareast-font-family:함초롬바탕;mso-font-width:100%;letter-spacing:0pt;mso-text-raise:0pt;\">? </span><span style=\"font-family:함초롬바탕;mso-fareast-font-family:함초롬바탕;\">말이 되나</span><span lang=\"EN-US\" style=\"mso-fareast-font-family:함초롬바탕;mso-font-width:100%;letter-spacing:0pt;mso-text-raise:0pt;\">? </span></p><p class=\"0\" style=\"mso-pagination:none;text-autospace:none;mso-padding-alt:0pt 0pt 0pt 0pt;\"><span style=\"font-family:함초롬바탕;mso-fareast-font-family:함초롬바탕;\">이랬는데 사실이더라</span><span lang=\"EN-US\" style=\"mso-fareast-font-family:함초롬바탕;mso-font-width:100%;letter-spacing:0pt;mso-text-raise:0pt;\">... </span><span style=\"font-family:함초롬바탕;mso-fareast-font-family:함초롬바탕;\">당장 네이버에 현덕지구 차이나타운 검색해봐</span><span lang=\"EN-US\" style=\"mso-fareast-font-family:함초롬바탕;mso-font-width:100%;letter-spacing:0pt;mso-text-raise:0pt;\">. </span><span style=\"font-family:함초롬바탕;mso-fareast-font-family:함초롬바탕;\">부동산 투자하라는 부동산 블로그 많음</span><span lang=\"EN-US\" style=\"mso-fareast-font-family:함초롬바탕;mso-font-width:100%;letter-spacing:0pt;mso-text-raise:0pt;\">.</span></p><p class=\"0\" style=\"mso-pagination:none;text-autospace:none;mso-padding-alt:0pt 0pt 0pt 0pt;\">     </p><p class=\"0\" style=\"mso-pagination:none;text-autospace:none;mso-padding-alt:0pt 0pt 0pt 0pt;\"><span lang=\"EN-US\" style=\"mso-fareast-font-family:함초롬바탕;mso-font-width:100%;letter-spacing:0pt;mso-text-raise:0pt;\">&gt;&gt;&gt;</span><span style=\"font-family:함초롬바탕;mso-fareast-font-family:함초롬바탕;\">근데 결론적으로 이거 취소됨</span><span lang=\"EN-US\" style=\"mso-fareast-font-family:함초롬바탕;mso-font-width:100%;letter-spacing:0pt;mso-text-raise:0pt;\">.&lt;&lt;&lt;</span></p><p class=\"0\" style=\"mso-pagination:none;text-autospace:none;mso-padding-alt:0pt 0pt 0pt 0pt;\"><span lang=\"EN-US\" style=\"mso-fareast-font-family:함초롬바탕;mso-font-width:100%;letter-spacing:0pt;mso-text-raise:0pt;\">‘</span><span style=\"font-family:함초롬바탕;mso-fareast-font-family:함초롬바탕;\">어떻게 한국에 중국성을 짓냐</span><span lang=\"EN-US\" style=\"mso-fareast-font-family:함초롬바탕;mso-font-width:100%;letter-spacing:0pt;mso-text-raise:0pt;\">?’</span><span style=\"font-family:함초롬바탕;mso-fareast-font-family:함초롬바탕;\">하는 이유로 취소된게 아님</span><span lang=\"EN-US\" style=\"mso-fareast-font-family:함초롬바탕;mso-font-width:100%;letter-spacing:0pt;mso-text-raise:0pt;\">!!</span></p><p class=\"0\" style=\"mso-pagination:none;text-autospace:none;mso-padding-alt:0pt 0pt 0pt 0pt;\">     </p><p class=\"0\" style=\"mso-pagination:none;text-autospace:none;mso-padding-alt:0pt 0pt 0pt 0pt;\"><span style=\"font-family:함초롬바탕;mso-fareast-font-family:함초롬바탕;\">ㄹ혜 때 사드 배치 때문에 중국이랑 사이 나빠짐</span></p><p class=\"0\" style=\"mso-pagination:none;text-autospace:none;mso-padding-alt:0pt 0pt 0pt 0pt;\"><span lang=\"EN-US\" style=\"mso-fareast-font-family:함초롬바탕;mso-font-width:100%;letter-spacing:0pt;mso-text-raise:0pt;\">-&gt; </span><span style=\"font-family:함초롬바탕;mso-fareast-font-family:함초롬바탕;\">중국 기업이 우리나라에 투자하기 힘들어짐</span><span lang=\"EN-US\" style=\"mso-fareast-font-family:함초롬바탕;mso-font-width:100%;letter-spacing:0pt;mso-text-raise:0pt;\">. (</span><span style=\"font-family:함초롬바탕;mso-fareast-font-family:함초롬바탕;\">한한령</span><span lang=\"EN-US\" style=\"mso-fareast-font-family:함초롬바탕;mso-font-width:100%;letter-spacing:0pt;mso-text-raise:0pt;\">)</span></p><p class=\"0\" style=\"mso-pagination:none;text-autospace:none;mso-padding-alt:0pt 0pt 0pt 0pt;\"><span lang=\"EN-US\" style=\"mso-fareast-font-family:함초롬바탕;mso-font-width:100%;letter-spacing:0pt;mso-text-raise:0pt;\">-&gt; </span><span style=\"font-family:함초롬바탕;mso-fareast-font-family:함초롬바탕;\">투자가 미뤄지니까 경기도에서 얘네 사업자 지정 취소함</span></p><p class=\"0\" style=\"mso-pagination:none;text-autospace:none;mso-padding-alt:0pt 0pt 0pt 0pt;\"><span lang=\"EN-US\" style=\"mso-fareast-font-family:함초롬바탕;mso-font-width:100%;letter-spacing:0pt;mso-text-raise:0pt;\">-&gt; </span><span style=\"font-family:함초롬바탕;mso-fareast-font-family:함초롬바탕;\">현재까지 법원에서 저작권 분쟁 중</span></p><p class=\"0\" style=\"mso-pagination:none;text-autospace:none;mso-padding-alt:0pt 0pt 0pt 0pt;\">     </p><p class=\"0\" style=\"mso-pagination:none;text-autospace:none;mso-padding-alt:0pt 0pt 0pt 0pt;\"><span lang=\"EN-US\" style=\"mso-fareast-font-family:함초롬바탕;mso-font-width:100%;letter-spacing:0pt;mso-text-raise:0pt;\">http://www.joongboo.com/news/articleView.html?idxno=363417696</span></p><p class=\"0\" style=\"mso-pagination:none;text-autospace:none;mso-padding-alt:0pt 0pt 0pt 0pt;\">     </p><p class=\"0\" style=\"mso-pagination:none;text-autospace:none;mso-padding-alt:0pt 0pt 0pt 0pt;\">     </p><p class=\"0\" style=\"mso-pagination:none;text-autospace:none;mso-padding-alt:0pt 0pt 0pt 0pt;\">     </p><p class=\"0\" style=\"mso-pagination:none;text-autospace:none;mso-padding-alt:0pt 0pt 0pt 0pt;\"><span lang=\"EN-US\" style=\"mso-fareast-font-family:함초롬바탕;mso-font-width:100%;letter-spacing:0pt;mso-text-raise:0pt;\">5. </span><span style=\"font-family:함초롬바탕;mso-fareast-font-family:함초롬바탕;\">세종시 스마트시티</span></p><p class=\"0\" style=\"mso-pagination:none;text-autospace:none;mso-padding-alt:0pt 0pt 0pt 0pt;\">     </p><p class=\"0\" style=\"mso-pagination:none;text-autospace:none;mso-padding-alt:0pt 0pt 0pt 0pt;\"><span style=\"font-family:함초롬바탕;mso-fareast-font-family:함초롬바탕;\">여기서 말하는 스마트시티는 아파트이름 스마트시티 ㄴㄴ </span></p><p class=\"0\" style=\"mso-pagination:none;text-autospace:none;mso-padding-alt:0pt 0pt 0pt 0pt;\">     </p><p><a href=\"https://fimg5.pann.com/new/download.jsp?FileID=54465293\" target=\"_blank\"><img alt=\"\" id=\"3200606844\" name=\"image\" src=\"https://fimg5.pann.com/new/download.jsp?FileID=54465293\" style=\"border: medium none; width: 610px; height: 2401px;\" swaf:cywrite:file_seq=\"\" swaf:cywrite:info=\"image|%EC%9E%90%EB%A3%8C6.jpg|http://fimg5.pann.com/new/download.jsp?FileID=54465293|316885|53915289\" swaf:cywrite:object_id=\"54465293\"/></a></p><p> </p><p class=\"0\" style=\"mso-pagination:none;text-autospace:none;mso-padding-alt:0pt 0pt 0pt 0pt;\"><span lang=\"EN-US\" style=\"mso-fareast-font-family:함초롬바탕;mso-font-width:100%;letter-spacing:0pt;mso-text-raise:0pt;\"><br/></span><span style=\"font-family:함초롬바탕;mso-fareast-font-family:함초롬바탕;\"></span><span lang=\"EN-US\" style=\"mso-fareast-font-family:함초롬바탕;mso-font-width:100%;letter-spacing:0pt;mso-text-raise:0pt;\"></span></p><p class=\"0\" style=\"mso-pagination:none;text-autospace:none;mso-padding-alt:0pt 0pt 0pt 0pt;\">     </p><p class=\"0\" style=\"mso-pagination:none;text-autospace:none;mso-padding-alt:0pt 0pt 0pt 0pt;\"><span style=\"font-family:함초롬바탕;mso-fareast-font-family:함초롬바탕;\">이거는 청와대랑 중국 업체랑 협약해서 중국 업체가 짓는거임</span><span lang=\"EN-US\" style=\"mso-fareast-font-family:함초롬바탕;mso-font-width:100%;letter-spacing:0pt;mso-text-raise:0pt;\">. </span><span style=\"font-family:함초롬바탕;mso-fareast-font-family:함초롬바탕;\">근데 중국 업체는 알고보니 서류상에만 존재하는 페이퍼컴퍼니였음</span><span lang=\"EN-US\" style=\"mso-fareast-font-family:함초롬바탕;mso-font-width:100%;letter-spacing:0pt;mso-text-raise:0pt;\">...(</span><span style=\"font-family:함초롬바탕;mso-fareast-font-family:함초롬바탕;\">출처</span><span lang=\"EN-US\" style=\"mso-fareast-font-family:함초롬바탕;mso-font-width:100%;letter-spacing:0pt;mso-text-raise:0pt;\">: </span><span style=\"font-family:함초롬바탕;mso-fareast-font-family:함초롬바탕;\">탐사보도 세븐</span><span lang=\"EN-US\" style=\"mso-fareast-font-family:함초롬바탕;mso-font-width:100%;letter-spacing:0pt;mso-text-raise:0pt;\">)</span></p><p class=\"0\" style=\"mso-pagination:none;text-autospace:none;mso-padding-alt:0pt 0pt 0pt 0pt;\"><span lang=\"EN-US\" style=\"mso-fareast-font-family:함초롬바탕;mso-font-width:100%;letter-spacing:0pt;mso-text-raise:0pt;\">????</span></p><p class=\"0\" style=\"mso-pagination:none;text-autospace:none;mso-padding-alt:0pt 0pt 0pt 0pt;\">     </p><p class=\"0\" style=\"mso-pagination:none;text-autospace:none;mso-padding-alt:0pt 0pt 0pt 0pt;\"><span lang=\"EN-US\" style=\"mso-fareast-font-family:함초롬바탕;mso-font-width:100%;letter-spacing:0pt;mso-text-raise:0pt;\"></span><span lang=\"EN-US\" style=\"mso-fareast-font-family:함초롬바탕;mso-font-width:100%;letter-spacing:0pt;mso-text-raise:0pt;\"><br/></span></p><p class=\"0\" style=\"mso-pagination:none;text-autospace:none;mso-padding-alt:0pt 0pt 0pt 0pt;\">     </p><p class=\"0\" style=\"mso-pagination:none;text-autospace:none;mso-padding-alt:0pt 0pt 0pt 0pt;\"><span style=\"font-family:함초롬바탕;mso-fareast-font-family:함초롬바탕;\">안면인식 기술로 모든걸 해결하고 차량같은것도 싹 다 통제됨</span><span lang=\"EN-US\" style=\"mso-fareast-font-family:함초롬바탕;mso-font-width:100%;letter-spacing:0pt;mso-text-raise:0pt;\">. </span><span style=\"font-family:함초롬바탕;mso-fareast-font-family:함초롬바탕;\">물론 편리한 점도 있겠지</span><span lang=\"EN-US\" style=\"mso-fareast-font-family:함초롬바탕;mso-font-width:100%;letter-spacing:0pt;mso-text-raise:0pt;\">. </span></p><p class=\"0\" style=\"mso-pagination:none;text-autospace:none;mso-padding-alt:0pt 0pt 0pt 0pt;\"><span style=\"font-family:함초롬바탕;mso-fareast-font-family:함초롬바탕;\">근데 저게 중국에서 감시 수단으로 쓰이는거 알아</span><span lang=\"EN-US\" style=\"mso-fareast-font-family:함초롬바탕;mso-font-width:100%;letter-spacing:0pt;mso-text-raise:0pt;\">? </span><span style=\"font-family:함초롬바탕;mso-fareast-font-family:함초롬바탕;\">마치 독재정권 시절에 몇 명이상 모이지 못하게 했던 것처럼</span><span lang=\"EN-US\" style=\"mso-fareast-font-family:함초롬바탕;mso-font-width:100%;letter-spacing:0pt;mso-text-raise:0pt;\">, </span><span style=\"font-family:함초롬바탕;mso-fareast-font-family:함초롬바탕;\">사람들이 다같이 모여서 당의 권력에 저항할 수 없도록 만든거야</span><span lang=\"EN-US\" style=\"mso-fareast-font-family:함초롬바탕;mso-font-width:100%;letter-spacing:0pt;mso-text-raise:0pt;\">. </span><span style=\"font-family:함초롬바탕;mso-fareast-font-family:함초롬바탕;\">제 </span><span lang=\"EN-US\" style=\"mso-fareast-font-family:함초롬바탕;mso-font-width:100%;letter-spacing:0pt;mso-text-raise:0pt;\">2</span><span style=\"font-family:함초롬바탕;mso-fareast-font-family:함초롬바탕;\">의 천안문 사태가 일어나는 걸 두려워하고 있는거지</span></p><p class=\"0\" style=\"mso-pagination:none;text-autospace:none;mso-padding-alt:0pt 0pt 0pt 0pt;\">     </p><p class=\"0\" style=\"mso-pagination:none;text-autospace:none;mso-padding-alt:0pt 0pt 0pt 0pt;\"><span style=\"font-family:함초롬바탕;mso-fareast-font-family:함초롬바탕;\">그래서 지금 홍콩 시위대에서 무슨 일을 하고 있는지 알아</span><span lang=\"EN-US\" style=\"mso-fareast-font-family:함초롬바탕;mso-font-width:100%;letter-spacing:0pt;mso-text-raise:0pt;\">?? CCTV</span><span style=\"font-family:함초롬바탕;mso-fareast-font-family:함초롬바탕;\">가 달린 가로등을 전부 부수고 있어</span><span lang=\"EN-US\" style=\"mso-fareast-font-family:함초롬바탕;mso-font-width:100%;letter-spacing:0pt;mso-text-raise:0pt;\">. </span><span style=\"font-family:함초롬바탕;mso-fareast-font-family:함초롬바탕;\">중국 공산당이 자기들을 </span><span lang=\"EN-US\" style=\"mso-fareast-font-family:함초롬바탕;mso-font-width:100%;letter-spacing:0pt;mso-text-raise:0pt;\">CCTV</span><span style=\"font-family:함초롬바탕;mso-fareast-font-family:함초롬바탕;\">로 감시하고 있다는 걸 다 아니까</span><span lang=\"EN-US\" style=\"mso-fareast-font-family:함초롬바탕;mso-font-width:100%;letter-spacing:0pt;mso-text-raise:0pt;\">.</span></p><p class=\"0\" style=\"mso-pagination:none;text-autospace:none;mso-padding-alt:0pt 0pt 0pt 0pt;\">     </p><p class=\"0\" style=\"mso-pagination:none;text-autospace:none;mso-padding-alt:0pt 0pt 0pt 0pt;\">     </p><p><a href=\"https://fimg5.pann.com/new/download.jsp?FileID=54466114\" target=\"_blank\"><img alt=\"\" id=\"2200606212\" name=\"image\" src=\"https://fimg5.pann.com/new/download.jsp?FileID=54466114\" style=\"border: medium none;\" swaf:cywrite:file_seq=\"\" swaf:cywrite:info=\"image|%EC%9E%90%EB%A3%8C7%EC%A7%84%EC%A7%9C.gif|http://fimg5.pann.com/new/download.jsp?FileID=54466114|1987639|53916280\" swaf:cywrite:object_id=\"54466114\"/></a></p><p> </p><p>이런식임<br/></p><p class=\"0\" style=\"mso-pagination:none;text-autospace:none;mso-padding-alt:0pt 0pt 0pt 0pt;\">     </p><p class=\"0\" style=\"mso-pagination:none;text-autospace:none;mso-padding-alt:0pt 0pt 0pt 0pt;\"><span style=\"font-family:함초롬바탕;mso-fareast-font-family:함초롬바탕;\">이런 상황인데 실체도 확인이 안된 중국 회사와 계약해서 한국에 스마트시티를 짓는다</span><span lang=\"EN-US\" style=\"mso-fareast-font-family:함초롬바탕;mso-font-width:100%;letter-spacing:0pt;mso-text-raise:0pt;\">??</span></p><p class=\"0\" style=\"mso-pagination:none;text-autospace:none;mso-padding-alt:0pt 0pt 0pt 0pt;\">     </p><p class=\"0\" style=\"mso-pagination:none;text-autospace:none;mso-padding-alt:0pt 0pt 0pt 0pt;\"><span lang=\"EN-US\" style=\"mso-fareast-font-family:함초롬바탕;mso-font-width:100%;letter-spacing:0pt;mso-text-raise:0pt;\">(</span><span style=\"font-family:함초롬바탕;mso-fareast-font-family:함초롬바탕;\">참고로 중국의 회사는 거의다 공산당과 연결되어있다고 봐도 무방함</span><span lang=\"EN-US\" style=\"mso-fareast-font-family:함초롬바탕;mso-font-width:100%;letter-spacing:0pt;mso-text-raise:0pt;\">. </span><span style=\"font-family:함초롬바탕;mso-fareast-font-family:함초롬바탕;\">왜냐</span><span lang=\"EN-US\" style=\"mso-fareast-font-family:함초롬바탕;mso-font-width:100%;letter-spacing:0pt;mso-text-raise:0pt;\">? </span><span style=\"font-family:함초롬바탕;mso-fareast-font-family:함초롬바탕;\">중국에서는 공산당이 요구하면 회사는 고객의 개인정보를 무조건 줘야함</span><span lang=\"EN-US\" style=\"mso-fareast-font-family:함초롬바탕;mso-font-width:100%;letter-spacing:0pt;mso-text-raise:0pt;\">. </span><span style=\"font-family:함초롬바탕;mso-fareast-font-family:함초롬바탕;\">법 자체가 그럼</span><span lang=\"EN-US\" style=\"mso-fareast-font-family:함초롬바탕;mso-font-width:100%;letter-spacing:0pt;mso-text-raise:0pt;\">)</span></p><p class=\"0\" style=\"mso-pagination:none;text-autospace:none;mso-padding-alt:0pt 0pt 0pt 0pt;\">     </p><p class=\"0\" style=\"mso-pagination:none;text-autospace:none;mso-padding-alt:0pt 0pt 0pt 0pt;\">     </p><p class=\"0\" style=\"mso-pagination:none;text-autospace:none;mso-padding-alt:0pt 0pt 0pt 0pt;\"><span lang=\"EN-US\" style=\"mso-fareast-font-family:함초롬바탕;mso-font-width:100%;letter-spacing:0pt;mso-text-raise:0pt;\">6. </span><span style=\"font-family:함초롬바탕;mso-fareast-font-family:함초롬바탕;\">연예계 차이나머니</span></p><p class=\"0\" style=\"mso-pagination:none;text-autospace:none;mso-padding-alt:0pt 0pt 0pt 0pt;\">     </p><p class=\"0\" style=\"mso-pagination:none;text-autospace:none;mso-padding-alt:0pt 0pt 0pt 0pt;\"><a href=\"https://www.hankookilbo.com/News/Read/201805311654744123\" target=\"_blank\"><u style=\"text-underline:#0000ff single\"><span lang=\"EN-US\" style=\"mso-fareast-font-family:함초롬바탕;mso-font-width:100%;letter-spacing:0pt;mso-text-raise:0pt;color:#0000ff;\">https://www.hankookilbo.com/News/Read/201805311654744123</span></u></a></p><p class=\"0\" style=\"mso-pagination:none;text-autospace:none;mso-padding-alt:0pt 0pt 0pt 0pt;\">     </p><p class=\"0\" style=\"mso-pagination:none;text-autospace:none;mso-padding-alt:0pt 0pt 0pt 0pt;\"><span style=\"font-family:함초롬바탕;mso-fareast-font-family:함초롬바탕;\">연예 기획사를 차이나머니가 쥐고 흔들고 있음</span><span lang=\"EN-US\" style=\"mso-fareast-font-family:함초롬바탕;mso-font-width:100%;letter-spacing:0pt;mso-text-raise:0pt;\">. </span></p><p class=\"0\" style=\"mso-pagination:none;text-autospace:none;mso-padding-alt:0pt 0pt 0pt 0pt;\">     </p><p class=\"0\" style=\"mso-pagination:none;text-autospace:none;mso-padding-alt:0pt 0pt 0pt 0pt;\"><span style=\"font-family:함초롬바탕;mso-fareast-font-family:함초롬바탕;\">참고로 텐센트가 뭐냐면 중국 연예인에 관심이있다면 알꺼임</span><span lang=\"EN-US\" style=\"mso-fareast-font-family:함초롬바탕;mso-font-width:100%;letter-spacing:0pt;mso-text-raise:0pt;\">. (</span><span style=\"font-family:함초롬바탕;mso-fareast-font-family:함초롬바탕;\">내가 중연 좋아했어서</span><span lang=\"EN-US\" style=\"mso-fareast-font-family:함초롬바탕;mso-font-width:100%;letter-spacing:0pt;mso-text-raise:0pt;\">...) </span></p><p class=\"0\" style=\"mso-pagination:none;text-autospace:none;mso-padding-alt:0pt 0pt 0pt 0pt;\"><span style=\"font-family:함초롬바탕;mso-fareast-font-family:함초롬바탕;\">쉽게 말해서 네이버</span><span lang=\"EN-US\" style=\"mso-fareast-font-family:함초롬바탕;mso-font-width:100%;letter-spacing:0pt;mso-text-raise:0pt;\">+</span><span style=\"font-family:함초롬바탕;mso-fareast-font-family:함초롬바탕;\">다음</span><span lang=\"EN-US\" style=\"mso-fareast-font-family:함초롬바탕;mso-font-width:100%;letter-spacing:0pt;mso-text-raise:0pt;\">+</span><span style=\"font-family:함초롬바탕;mso-fareast-font-family:함초롬바탕;\">카카오</span><span lang=\"EN-US\" style=\"mso-fareast-font-family:함초롬바탕;mso-font-width:100%;letter-spacing:0pt;mso-text-raise:0pt;\">+</span><span style=\"font-family:함초롬바탕;mso-fareast-font-family:함초롬바탕;\">한국 여러 방송사 다 합친 규모의 회사임</span><span lang=\"EN-US\" style=\"mso-fareast-font-family:함초롬바탕;mso-font-width:100%;letter-spacing:0pt;mso-text-raise:0pt;\">. </span></p><p class=\"0\" style=\"mso-pagination:none;text-autospace:none;mso-padding-alt:0pt 0pt 0pt 0pt;\"><span style=\"font-family:함초롬바탕;mso-fareast-font-family:함초롬바탕;\">문화계에 이 회사가 안뻗친 분야가 없음</span><span lang=\"EN-US\" style=\"mso-fareast-font-family:함초롬바탕;mso-font-width:100%;letter-spacing:0pt;mso-text-raise:0pt;\">. </span></p><p class=\"0\" style=\"mso-pagination:none;text-autospace:none;mso-padding-alt:0pt 0pt 0pt 0pt;\">     </p><p class=\"0\" style=\"mso-pagination:none;text-autospace:none;mso-padding-alt:0pt 0pt 0pt 0pt;\"><span style=\"font-family:함초롬바탕;mso-fareast-font-family:함초롬바탕;\">텐센트는 그냥 거의 공산당 회사라 봐도 됨</span><span lang=\"EN-US\" style=\"mso-fareast-font-family:함초롬바탕;mso-font-width:100%;letter-spacing:0pt;mso-text-raise:0pt;\">. </span><span style=\"font-family:함초롬바탕;mso-fareast-font-family:함초롬바탕;\">텐센트의 어플들로 중국인들 통제함</span><span lang=\"EN-US\" style=\"mso-fareast-font-family:함초롬바탕;mso-font-width:100%;letter-spacing:0pt;mso-text-raise:0pt;\">. (</span><span style=\"font-family:함초롬바탕;mso-fareast-font-family:함초롬바탕;\">위챗</span><span lang=\"EN-US\" style=\"mso-fareast-font-family:함초롬바탕;mso-font-width:100%;letter-spacing:0pt;mso-text-raise:0pt;\">, </span><span style=\"font-family:함초롬바탕;mso-fareast-font-family:함초롬바탕;\">위챗페이</span><span lang=\"EN-US\" style=\"mso-fareast-font-family:함초롬바탕;mso-font-width:100%;letter-spacing:0pt;mso-text-raise:0pt;\">, </span><span style=\"font-family:함초롬바탕;mso-fareast-font-family:함초롬바탕;\">웨이보</span><span lang=\"EN-US\" style=\"mso-fareast-font-family:함초롬바탕;mso-font-width:100%;letter-spacing:0pt;mso-text-raise:0pt;\">, QQ </span><span style=\"font-family:함초롬바탕;mso-fareast-font-family:함초롬바탕;\">등등</span><span lang=\"EN-US\" style=\"mso-fareast-font-family:함초롬바탕;mso-font-width:100%;letter-spacing:0pt;mso-text-raise:0pt;\">)</span></p><p class=\"0\" style=\"mso-pagination:none;text-autospace:none;mso-padding-alt:0pt 0pt 0pt 0pt;\">     </p><p class=\"0\" style=\"mso-pagination:none;text-autospace:none;mso-padding-alt:0pt 0pt 0pt 0pt;\">     </p><p class=\"0\" style=\"mso-pagination:none;text-autospace:none;mso-padding-alt:0pt 0pt 0pt 0pt;\">     </p><p class=\"0\" style=\"mso-pagination:none;text-autospace:none;mso-padding-alt:0pt 0pt 0pt 0pt;\"><span lang=\"EN-US\" style=\"mso-fareast-font-family:함초롬바탕;mso-font-width:100%;letter-spacing:0pt;mso-text-raise:0pt;\">7. </span><span style=\"font-family:함초롬바탕;mso-fareast-font-family:함초롬바탕;\">삼성 반도체 기술 우리나라가 나서서 중국에 팔려고함</span><span lang=\"EN-US\" style=\"mso-fareast-font-family:함초롬바탕;mso-font-width:100%;letter-spacing:0pt;mso-text-raise:0pt;\">. (</span><span style=\"font-family:함초롬바탕;mso-fareast-font-family:함초롬바탕;\">산안법 개정</span><span lang=\"EN-US\" style=\"mso-fareast-font-family:함초롬바탕;mso-font-width:100%;letter-spacing:0pt;mso-text-raise:0pt;\">)</span></p><p class=\"0\" style=\"mso-pagination:none;text-autospace:none;mso-padding-alt:0pt 0pt 0pt 0pt;\">     </p><p class=\"0\" style=\"mso-pagination:none;text-autospace:none;mso-padding-alt:0pt 0pt 0pt 0pt;\"><span style=\"font-family:함초롬바탕;mso-fareast-font-family:함초롬바탕;\">알다시피 삼성 반도체 기술이 세계 </span><span lang=\"EN-US\" style=\"mso-fareast-font-family:함초롬바탕;mso-font-width:100%;letter-spacing:0pt;mso-text-raise:0pt;\">1</span><span style=\"font-family:함초롬바탕;mso-fareast-font-family:함초롬바탕;\">위임</span><span lang=\"EN-US\" style=\"mso-fareast-font-family:함초롬바탕;mso-font-width:100%;letter-spacing:0pt;mso-text-raise:0pt;\">. </span><span style=\"font-family:함초롬바탕;mso-fareast-font-family:함초롬바탕;\">근데</span><span lang=\"EN-US\" style=\"mso-fareast-font-family:함초롬바탕;mso-font-width:100%;letter-spacing:0pt;mso-text-raise:0pt;\">....</span></p><p class=\"0\" style=\"mso-pagination:none;text-autospace:none;mso-padding-alt:0pt 0pt 0pt 0pt;\">     </p><p><a href=\"https://fimg5.pann.com/new/download.jsp?FileID=54465294\" target=\"_blank\"><img alt=\"\" id=\"3200606845\" name=\"image\" src=\"https://fimg5.pann.com/new/download.jsp?FileID=54465294\" style=\"border: medium none; width: 610px; height: 951px;\" swaf:cywrite:file_seq=\"\" swaf:cywrite:info=\"image|%EC%9E%90%EB%A3%8C9.png|http://fimg5.pann.com/new/download.jsp?FileID=54465294|212726|53915494\" swaf:cywrite:object_id=\"54465294\"/></a></p><p> </p><p class=\"0\" style=\"mso-pagination:none;text-autospace:none;mso-padding-alt:0pt 0pt 0pt 0pt;\"><span lang=\"EN-US\" style=\"mso-fareast-font-family:함초롬바탕;mso-font-width:100%;letter-spacing:0pt;mso-text-raise:0pt;\"><br/></span><span style=\"font-family:함초롬바탕;mso-fareast-font-family:함초롬바탕;\"></span><span lang=\"EN-US\" style=\"mso-fareast-font-family:함초롬바탕;mso-font-width:100%;letter-spacing:0pt;mso-text-raise:0pt;\"></span></p><p class=\"0\" style=\"mso-pagination:none;text-autospace:none;mso-padding-alt:0pt 0pt 0pt 0pt;\">     </p><p class=\"0\" style=\"mso-pagination:none;text-autospace:none;mso-padding-alt:0pt 0pt 0pt 0pt;\"><span style=\"font-family:함초롬바탕;mso-fareast-font-family:함초롬바탕;\">결국 삼성이 소송해서 겨우 막아냄</span><span lang=\"EN-US\" style=\"mso-fareast-font-family:함초롬바탕;mso-font-width:100%;letter-spacing:0pt;mso-text-raise:0pt;\">.</span></p><p class=\"0\" style=\"mso-pagination:none;text-autospace:none;mso-padding-alt:0pt 0pt 0pt 0pt;\">     </p><p class=\"0\" style=\"mso-pagination:none;text-autospace:none;mso-padding-alt:0pt 0pt 0pt 0pt;\">     </p><p class=\"0\" style=\"mso-pagination:none;text-autospace:none;mso-padding-alt:0pt 0pt 0pt 0pt;\">     </p><p class=\"0\" style=\"mso-pagination:none;text-autospace:none;mso-padding-alt:0pt 0pt 0pt 0pt;\"><span lang=\"EN-US\" style=\"mso-fareast-font-family:함초롬바탕;mso-font-width:100%;letter-spacing:0pt;mso-text-raise:0pt;\">8. </span><span style=\"font-family:함초롬바탕;mso-fareast-font-family:함초롬바탕;\">부산에서 한국 기업 제철소 일시중단 시키고 중국 거대 기업 제철소 들여옴</span></p><p class=\"0\" style=\"mso-pagination:none;text-autospace:none;mso-padding-alt:0pt 0pt 0pt 0pt;\">     </p><p><a href=\"https://fimg5.pann.com/new/download.jsp?FileID=54465295\" target=\"_blank\"><img alt=\"\" id=\"3200606846\" name=\"image\" src=\"https://fimg5.pann.com/new/download.jsp?FileID=54465295\" style=\"border: medium none; width: 610px; height: 931px;\" swaf:cywrite:file_seq=\"\" swaf:cywrite:info=\"image|%EC%9E%90%EB%A3%8C10.jpg|http://fimg5.pann.com/new/download.jsp?FileID=54465295|355590|53915513\" swaf:cywrite:object_id=\"54465295\"/></a></p><p> </p><p class=\"0\" style=\"mso-pagination:none;text-autospace:none;mso-padding-alt:0pt 0pt 0pt 0pt;\"><span lang=\"EN-US\" style=\"mso-fareast-font-family:함초롬바탕;mso-font-width:100%;letter-spacing:0pt;mso-text-raise:0pt;\"><br/></span><span style=\"font-family:함초롬바탕;mso-fareast-font-family:함초롬바탕;\"></span><span lang=\"EN-US\" style=\"mso-fareast-font-family:함초롬바탕;mso-font-width:100%;letter-spacing:0pt;mso-text-raise:0pt;\"></span></p><p class=\"0\" style=\"mso-pagination:none;text-autospace:none;mso-padding-alt:0pt 0pt 0pt 0pt;\">     </p><p class=\"0\" style=\"mso-pagination:none;text-autospace:none;mso-padding-alt:0pt 0pt 0pt 0pt;\"><span lang=\"EN-US\" style=\"mso-fareast-font-family:함초롬바탕;mso-font-width:100%;letter-spacing:0pt;mso-text-raise:0pt;\">http://m.factinnews.co.kr/news/newsview.php?ncode=1065578593087189</span></p><p class=\"0\" style=\"mso-pagination:none;text-autospace:none;mso-padding-alt:0pt 0pt 0pt 0pt;\">     </p><p class=\"0\" style=\"mso-pagination:none;text-autospace:none;mso-padding-alt:0pt 0pt 0pt 0pt;\">     </p><p class=\"0\" style=\"mso-pagination:none;text-autospace:none;mso-padding-alt:0pt 0pt 0pt 0pt;\">     </p><p class=\"0\" style=\"mso-pagination:none;text-autospace:none;mso-padding-alt:0pt 0pt 0pt 0pt;\">     </p><p class=\"0\" style=\"mso-pagination:none;text-autospace:none;mso-padding-alt:0pt 0pt 0pt 0pt;\"><span lang=\"EN-US\" style=\"mso-fareast-font-family:함초롬바탕;mso-font-width:100%;letter-spacing:0pt;mso-text-raise:0pt;\">9. </span><span style=\"font-family:함초롬바탕;mso-fareast-font-family:함초롬바탕;\">교과서에서 중국 동북공정 내용 삭제함</span></p><p class=\"0\" style=\"mso-pagination:none;text-autospace:none;mso-padding-alt:0pt 0pt 0pt 0pt;\">     </p><p><a href=\"https://fimg5.pann.com/new/download.jsp?FileID=54465296\" target=\"_blank\"><img alt=\"\" id=\"3200606847\" name=\"image\" src=\"https://fimg5.pann.com/new/download.jsp?FileID=54465296\" style=\"border: medium none; width: 610px; height: 370px;\" swaf:cywrite:file_seq=\"\" swaf:cywrite:info=\"image|%EC%9E%90%EB%A3%8C11.jpg|http://fimg5.pann.com/new/download.jsp?FileID=54465296|155282|53915525\" swaf:cywrite:object_id=\"54465296\"/></a></p><p> </p><p class=\"0\" style=\"mso-pagination:none;text-autospace:none;mso-padding-alt:0pt 0pt 0pt 0pt;\"><span lang=\"EN-US\" style=\"mso-fareast-font-family:함초롬바탕;mso-font-width:100%;letter-spacing:0pt;mso-text-raise:0pt;\"></span></p><p class=\"0\" style=\"mso-pagination:none;text-autospace:none;mso-padding-alt:0pt 0pt 0pt 0pt;\"><span lang=\"EN-US\" style=\"mso-fareast-font-family:함초롬바탕;mso-font-width:100%;letter-spacing:0pt;mso-text-raise:0pt;\"><br/></span></p><p class=\"0\" style=\"mso-pagination:none;text-autospace:none;mso-padding-alt:0pt 0pt 0pt 0pt;\"><span lang=\"EN-US\" style=\"mso-fareast-font-family:함초롬바탕;mso-font-width:100%;letter-spacing:0pt;mso-text-raise:0pt;\"> &gt;&gt; </span><span style=\"font-family:함초롬바탕;mso-fareast-font-family:함초롬바탕;\">덤으로 자유민주주의에서 </span><span lang=\"EN-US\" style=\"mso-fareast-font-family:함초롬바탕;mso-font-width:100%;letter-spacing:0pt;mso-text-raise:0pt;\">‘</span><span style=\"font-family:함초롬바탕;mso-fareast-font-family:함초롬바탕;\">자유</span><span lang=\"EN-US\" style=\"mso-fareast-font-family:함초롬바탕;mso-font-width:100%;letter-spacing:0pt;mso-text-raise:0pt;\">’</span><span style=\"font-family:함초롬바탕;mso-fareast-font-family:함초롬바탕;\">가 삭제됨 ㅋㅋㅋㅋㅋㅋㅋ</span></p><p class=\"0\" style=\"mso-pagination:none;text-autospace:none;mso-padding-alt:0pt 0pt 0pt 0pt;\">     </p><p class=\"0\" style=\"mso-pagination:none;text-autospace:none;mso-padding-alt:0pt 0pt 0pt 0pt;\"><span style=\"font-family:함초롬바탕;mso-fareast-font-family:함초롬바탕;\">최근들어서 동북공정이 완화된거냐</span><span lang=\"EN-US\" style=\"mso-fareast-font-family:함초롬바탕;mso-font-width:100%;letter-spacing:0pt;mso-text-raise:0pt;\">? </span><span style=\"font-family:함초롬바탕;mso-fareast-font-family:함초롬바탕;\">절대 아님</span><span lang=\"EN-US\" style=\"mso-fareast-font-family:함초롬바탕;mso-font-width:100%;letter-spacing:0pt;mso-text-raise:0pt;\">. </span><span style=\"font-family:함초롬바탕;mso-fareast-font-family:함초롬바탕;\">지금도 계속 진행중임</span><span lang=\"EN-US\" style=\"mso-fareast-font-family:함초롬바탕;mso-font-width:100%;letter-spacing:0pt;mso-text-raise:0pt;\">. </span><span style=\"font-family:함초롬바탕;mso-fareast-font-family:함초롬바탕;\">근데 왜 이걸 삭제 해</span><span lang=\"EN-US\" style=\"mso-fareast-font-family:함초롬바탕;mso-font-width:100%;letter-spacing:0pt;mso-text-raise:0pt;\">??</span></p><p class=\"0\" style=\"mso-pagination:none;text-autospace:none;mso-padding-alt:0pt 0pt 0pt 0pt;\"><span style=\"font-family:함초롬바탕;mso-fareast-font-family:함초롬바탕;\">판빙빙 나오는 무미랑 전기 알아</span><span lang=\"EN-US\" style=\"mso-fareast-font-family:함초롬바탕;mso-font-width:100%;letter-spacing:0pt;mso-text-raise:0pt;\">? </span><span style=\"font-family:함초롬바탕;mso-fareast-font-family:함초롬바탕;\">거기서 고구려군이 당나라로 쳐들어오는데 이거를 </span><span lang=\"EN-US\" style=\"mso-fareast-font-family:함초롬바탕;mso-font-width:100%;letter-spacing:0pt;mso-text-raise:0pt;\">‘</span><span style=\"font-family:함초롬바탕;mso-fareast-font-family:함초롬바탕;\">북방반란군</span><span lang=\"EN-US\" style=\"mso-fareast-font-family:함초롬바탕;mso-font-width:100%;letter-spacing:0pt;mso-text-raise:0pt;\">’</span><span style=\"font-family:함초롬바탕;mso-fareast-font-family:함초롬바탕;\">이라 표현함ㅋㅋㅋㅋㅋㅋㅋㅋㅋ 고구려를 자기나라로 보고 있다는거지</span></p><p class=\"0\" style=\"mso-pagination:none;text-autospace:none;mso-padding-alt:0pt 0pt 0pt 0pt;\">     </p><p class=\"0\" style=\"mso-pagination:none;text-autospace:none;mso-padding-alt:0pt 0pt 0pt 0pt;\"><span style=\"font-family:함초롬바탕;mso-fareast-font-family:함초롬바탕;\">이것뿐만이 아니고 그냥 교과서에서도 역사왜곡 조카 심각함</span><span lang=\"EN-US\" style=\"mso-fareast-font-family:함초롬바탕;mso-font-width:100%;letter-spacing:0pt;mso-text-raise:0pt;\">. </span><span style=\"font-family:함초롬바탕;mso-fareast-font-family:함초롬바탕;\">근데 왜 이사실을 학교에서 배울 수 없게 하는거지</span><span lang=\"EN-US\" style=\"mso-fareast-font-family:함초롬바탕;mso-font-width:100%;letter-spacing:0pt;mso-text-raise:0pt;\">?</span></p><p class=\"0\" style=\"mso-pagination:none;text-autospace:none;mso-padding-alt:0pt 0pt 0pt 0pt;\">     </p><p class=\"0\" style=\"mso-pagination:none;text-autospace:none;mso-padding-alt:0pt 0pt 0pt 0pt;\">     </p><p class=\"0\" style=\"mso-pagination:none;text-autospace:none;mso-padding-alt:0pt 0pt 0pt 0pt;\">     </p><p class=\"0\" style=\"mso-pagination:none;text-autospace:none;mso-padding-alt:0pt 0pt 0pt 0pt;\">     </p><p class=\"0\" style=\"mso-pagination:none;text-autospace:none;mso-padding-alt:0pt 0pt 0pt 0pt;\">     </p><p class=\"0\" style=\"mso-pagination:none;text-autospace:none;mso-padding-alt:0pt 0pt 0pt 0pt;\">     </p><p class=\"0\" style=\"mso-pagination:none;text-autospace:none;mso-padding-alt:0pt 0pt 0pt 0pt;\"><span lang=\"EN-US\" style=\"mso-fareast-font-family:함초롬바탕;mso-font-width:100%;letter-spacing:0pt;mso-text-raise:0pt;\">10. </span><span style=\"font-family:함초롬바탕;mso-fareast-font-family:함초롬바탕;\">네이버 메인에 왜 </span><span lang=\"EN-US\" style=\"mso-fareast-font-family:함초롬바탕;mso-font-width:100%;letter-spacing:0pt;mso-text-raise:0pt;\">‘</span><span style=\"font-family:함초롬바탕;mso-fareast-font-family:함초롬바탕;\">중국</span><span lang=\"EN-US\" style=\"mso-fareast-font-family:함초롬바탕;mso-font-width:100%;letter-spacing:0pt;mso-text-raise:0pt;\">’ </span><span style=\"font-family:함초롬바탕;mso-fareast-font-family:함초롬바탕;\">카테고리가 있지</span><span lang=\"EN-US\" style=\"mso-fareast-font-family:함초롬바탕;mso-font-width:100%;letter-spacing:0pt;mso-text-raise:0pt;\">?</span></p><p class=\"0\" style=\"mso-pagination:none;text-autospace:none;mso-padding-alt:0pt 0pt 0pt 0pt;\">     </p><p class=\"0\" style=\"mso-pagination:none;text-autospace:none;mso-padding-alt:0pt 0pt 0pt 0pt;\"><span style=\"font-family:함초롬바탕;mso-fareast-font-family:함초롬바탕;\">아니 생각해봐</span><span lang=\"EN-US\" style=\"mso-fareast-font-family:함초롬바탕;mso-font-width:100%;letter-spacing:0pt;mso-text-raise:0pt;\">. </span><span style=\"font-family:함초롬바탕;mso-fareast-font-family:함초롬바탕;\">중국 카테고리가 있으면 </span><span lang=\"EN-US\" style=\"mso-fareast-font-family:함초롬바탕;mso-font-width:100%;letter-spacing:0pt;mso-text-raise:0pt;\">‘</span><span style=\"font-family:함초롬바탕;mso-fareast-font-family:함초롬바탕;\">할리우드</span><span lang=\"EN-US\" style=\"mso-fareast-font-family:함초롬바탕;mso-font-width:100%;letter-spacing:0pt;mso-text-raise:0pt;\">’</span><span style=\"font-family:함초롬바탕;mso-fareast-font-family:함초롬바탕;\">도 있고</span><span lang=\"EN-US\" style=\"mso-fareast-font-family:함초롬바탕;mso-font-width:100%;letter-spacing:0pt;mso-text-raise:0pt;\">, ‘</span><span style=\"font-family:함초롬바탕;mso-fareast-font-family:함초롬바탕;\">뉴질랜드</span><span lang=\"EN-US\" style=\"mso-fareast-font-family:함초롬바탕;mso-font-width:100%;letter-spacing:0pt;mso-text-raise:0pt;\">’</span><span style=\"font-family:함초롬바탕;mso-fareast-font-family:함초롬바탕;\">도 있고</span><span lang=\"EN-US\" style=\"mso-fareast-font-family:함초롬바탕;mso-font-width:100%;letter-spacing:0pt;mso-text-raise:0pt;\">, ‘</span><span style=\"font-family:함초롬바탕;mso-fareast-font-family:함초롬바탕;\">영국</span><span lang=\"EN-US\" style=\"mso-fareast-font-family:함초롬바탕;mso-font-width:100%;letter-spacing:0pt;mso-text-raise:0pt;\">’</span><span style=\"font-family:함초롬바탕;mso-fareast-font-family:함초롬바탕;\">도 있고</span><span lang=\"EN-US\" style=\"mso-fareast-font-family:함초롬바탕;mso-font-width:100%;letter-spacing:0pt;mso-text-raise:0pt;\">, ‘</span><span style=\"font-family:함초롬바탕;mso-fareast-font-family:함초롬바탕;\">싱가폴</span><span lang=\"EN-US\" style=\"mso-fareast-font-family:함초롬바탕;mso-font-width:100%;letter-spacing:0pt;mso-text-raise:0pt;\">’</span><span style=\"font-family:함초롬바탕;mso-fareast-font-family:함초롬바탕;\">도 있고 다 있어야 하는거 아니야</span><span lang=\"EN-US\" style=\"mso-fareast-font-family:함초롬바탕;mso-font-width:100%;letter-spacing:0pt;mso-text-raise:0pt;\">? </span></p><p class=\"0\" style=\"mso-pagination:none;text-autospace:none;mso-padding-alt:0pt 0pt 0pt 0pt;\"><span style=\"font-family:함초롬바탕;mso-fareast-font-family:함초롬바탕;\">왜 중국만 떡하니 있는건지 나는 이해가 안돼</span></p><p class=\"0\" style=\"mso-pagination:none;text-autospace:none;mso-padding-alt:0pt 0pt 0pt 0pt;\">     </p><p><a href=\"https://fimg5.pann.com/new/download.jsp?FileID=54465297\" target=\"_blank\"><img alt=\"\" id=\"3200606848\" name=\"image\" src=\"https://fimg5.pann.com/new/download.jsp?FileID=54465297\" style=\"border: medium none; width: 610px; height: 284px;\" swaf:cywrite:file_seq=\"\" swaf:cywrite:info=\"image|%EC%9E%90%EB%A3%8C12.jpg|http://fimg5.pann.com/new/download.jsp?FileID=54465297|676168|53915547\" swaf:cywrite:object_id=\"54465297\"/></a></p><p> </p><p class=\"0\" style=\"mso-pagination:none;text-autospace:none;mso-padding-alt:0pt 0pt 0pt 0pt;\"><span lang=\"EN-US\" style=\"mso-fareast-font-family:함초롬바탕;mso-font-width:100%;letter-spacing:0pt;mso-text-raise:0pt;\"><br/></span><span style=\"font-family:함초롬바탕;mso-fareast-font-family:함초롬바탕;\"></span><span lang=\"EN-US\" style=\"mso-fareast-font-family:함초롬바탕;mso-font-width:100%;letter-spacing:0pt;mso-text-raise:0pt;\"></span></p><p class=\"0\" style=\"mso-pagination:none;text-autospace:none;mso-padding-alt:0pt 0pt 0pt 0pt;\">     </p><p class=\"0\" style=\"mso-pagination:none;text-autospace:none;mso-padding-alt:0pt 0pt 0pt 0pt;\">     </p><p class=\"0\" style=\"mso-pagination:none;text-autospace:none;mso-padding-alt:0pt 0pt 0pt 0pt;\">     </p><p class=\"0\" style=\"mso-pagination:none;text-autospace:none;mso-padding-alt:0pt 0pt 0pt 0pt;\">     </p><p class=\"0\" style=\"mso-pagination:none;text-autospace:none;mso-padding-alt:0pt 0pt 0pt 0pt;\"><span lang=\"EN-US\" style=\"mso-fareast-font-family:함초롬바탕;mso-font-width:100%;letter-spacing:0pt;mso-text-raise:0pt;\">11. </span><span style=\"font-family:함초롬바탕;mso-fareast-font-family:함초롬바탕;\">이중언어 특구지역 지정 검토 중 </span><span lang=\"EN-US\" style=\"mso-fareast-font-family:함초롬바탕;mso-font-width:100%;letter-spacing:0pt;mso-text-raise:0pt;\">(</span><span style=\"font-family:함초롬바탕;mso-fareast-font-family:함초롬바탕;\">조희연 서울시교육감</span><span lang=\"EN-US\" style=\"mso-fareast-font-family:함초롬바탕;mso-font-width:100%;letter-spacing:0pt;mso-text-raise:0pt;\">)</span></p><p class=\"0\" style=\"mso-pagination:none;text-autospace:none;mso-padding-alt:0pt 0pt 0pt 0pt;\">     </p><p class=\"0\" style=\"mso-pagination:none;text-autospace:none;mso-padding-alt:0pt 0pt 0pt 0pt;\"><span lang=\"EN-US\" style=\"mso-fareast-font-family:함초롬바탕;mso-font-width:100%;letter-spacing:0pt;mso-text-raise:0pt;\">http://www.eduinnews.co.kr/news/articleView.html?idxno=23766</span></p><p class=\"0\" style=\"mso-pagination:none;text-autospace:none;mso-padding-alt:0pt 0pt 0pt 0pt;\">     </p><p class=\"0\" style=\"mso-pagination:none;text-autospace:none;mso-padding-alt:0pt 0pt 0pt 0pt;\"><span style=\"font-family:함초롬바탕;mso-fareast-font-family:함초롬바탕;\">이게 뭐냐면 서울 안의 특구지역에서 중국어를 필수교육으로 배우게 하는 거임</span><span lang=\"EN-US\" style=\"mso-fareast-font-family:함초롬바탕;mso-font-width:100%;letter-spacing:0pt;mso-text-raise:0pt;\">.</span></p><p class=\"0\" style=\"mso-pagination:none;text-autospace:none;mso-padding-alt:0pt 0pt 0pt 0pt;\"><span style=\"font-family:함초롬바탕;mso-fareast-font-family:함초롬바탕;\">일제강점기도 아니고</span><span lang=\"EN-US\" style=\"mso-fareast-font-family:함초롬바탕;mso-font-width:100%;letter-spacing:0pt;mso-text-raise:0pt;\">... </span><span style=\"font-family:함초롬바탕;mso-fareast-font-family:함초롬바탕;\">왜 중국어를 우리나라에서 필수적으로 배워야 해</span><span lang=\"EN-US\" style=\"mso-fareast-font-family:함초롬바탕;mso-font-width:100%;letter-spacing:0pt;mso-text-raise:0pt;\">?</span></p><p class=\"0\" style=\"mso-pagination:none;text-autospace:none;mso-padding-alt:0pt 0pt 0pt 0pt;\">     </p><p class=\"0\" style=\"mso-pagination:none;text-autospace:none;mso-padding-alt:0pt 0pt 0pt 0pt;\"><span style=\"font-family:함초롬바탕;mso-fareast-font-family:함초롬바탕;\">조희연 교육감 </span><span style=\"font-family:함초롬바탕;mso-fareast-font-family:함초롬바탕;mso-font-width:100%;letter-spacing:0pt;mso-text-raise:0pt;\">曰 </span><span lang=\"EN-US\" style=\"mso-fareast-font-family:함초롬바탕;mso-font-width:100%;letter-spacing:0pt;mso-text-raise:0pt;\">“</span><span style=\"font-family:함초롬바탕;mso-fareast-font-family:함초롬바탕;\">남부 </span><span lang=\"EN-US\" style=\"mso-fareast-font-family:함초롬바탕;mso-font-width:100%;letter-spacing:0pt;mso-text-raise:0pt;\">3</span><span style=\"font-family:함초롬바탕;mso-fareast-font-family:함초롬바탕;\">개구를 아예 이중언어특구로 지정해서 중국어를 자유롭게 익히고 쓸 수 있도록 하겠다</span><span lang=\"EN-US\" style=\"mso-fareast-font-family:함초롬바탕;mso-font-width:100%;letter-spacing:0pt;mso-text-raise:0pt;\">.”</span></p><p class=\"0\" style=\"mso-pagination:none;text-autospace:none;mso-padding-alt:0pt 0pt 0pt 0pt;\">     </p><p class=\"0\" style=\"mso-pagination:none;text-autospace:none;mso-padding-alt:0pt 0pt 0pt 0pt;\"><span style=\"font-family:함초롬바탕;mso-fareast-font-family:함초롬바탕;\">시민들이 반발하니까 설득중임ㅋㅋㅋㅋㅋㅋㅋㅋㅋ</span></p><p class=\"0\" style=\"mso-pagination:none;text-autospace:none;mso-padding-alt:0pt 0pt 0pt 0pt;\"><span lang=\"EN-US\" style=\"mso-fareast-font-family:함초롬바탕;mso-font-width:100%;letter-spacing:0pt;mso-text-raise:0pt;\">https://news.naver.com/main/read.nhn?mode=LSD&amp;mid=sec&amp;sid1=102&amp;oid=008&amp;aid=0004318088</span></p><p class=\"0\" style=\"mso-pagination:none;text-autospace:none;mso-padding-alt:0pt 0pt 0pt 0pt;\">     </p><p class=\"0\" style=\"mso-pagination:none;text-autospace:none;mso-padding-alt:0pt 0pt 0pt 0pt;\">     </p><p class=\"0\" style=\"mso-pagination:none;text-autospace:none;mso-padding-alt:0pt 0pt 0pt 0pt;\">     </p><p class=\"0\" style=\"mso-pagination:none;text-autospace:none;mso-padding-alt:0pt 0pt 0pt 0pt;\">     </p><p class=\"0\" style=\"mso-pagination:none;text-autospace:none;mso-padding-alt:0pt 0pt 0pt 0pt;\"><span lang=\"EN-US\" style=\"mso-fareast-font-family:함초롬바탕;mso-font-width:100%;letter-spacing:0pt;mso-text-raise:0pt;\">12. </span><span style=\"font-family:함초롬바탕;mso-fareast-font-family:함초롬바탕;\">양정철 민주연구원장이 중국 공산당과 당교 협약 맺음</span></p><p class=\"0\" style=\"mso-pagination:none;text-autospace:none;mso-padding-alt:0pt 0pt 0pt 0pt;\">     </p><p class=\"0\" style=\"mso-pagination:none;text-autospace:none;mso-padding-alt:0pt 0pt 0pt 0pt;\"><span lang=\"EN-US\" style=\"mso-fareast-font-family:함초롬바탕;mso-font-width:100%;letter-spacing:0pt;mso-text-raise:0pt;\">http://www.newdaily.co.kr/site/data/html/2019/07/04/2019070400189.html</span></p><p class=\"0\" style=\"mso-pagination:none;text-autospace:none;mso-padding-alt:0pt 0pt 0pt 0pt;\">     </p><p class=\"0\" style=\"mso-pagination:none;text-autospace:none;mso-padding-alt:0pt 0pt 0pt 0pt;\"><span style=\"font-family:함초롬바탕;mso-fareast-font-family:함초롬바탕;\">공산당교에 가서 중국 정책을 배워오겠다고</span><span lang=\"EN-US\" style=\"mso-fareast-font-family:함초롬바탕;mso-font-width:100%;letter-spacing:0pt;mso-text-raise:0pt;\">... </span><span style=\"font-family:함초롬바탕;mso-fareast-font-family:함초롬바탕;\">독재정권 공산당에서 왜 정책을 배워와</span><span lang=\"EN-US\" style=\"mso-fareast-font-family:함초롬바탕;mso-font-width:100%;letter-spacing:0pt;mso-text-raise:0pt;\">?</span></p><p class=\"0\" style=\"mso-pagination:none;text-autospace:none;mso-padding-alt:0pt 0pt 0pt 0pt;\">     </p><p class=\"0\" style=\"mso-pagination:none;text-autospace:none;mso-padding-alt:0pt 0pt 0pt 0pt;\">     </p><p class=\"0\" style=\"mso-pagination:none;text-autospace:none;mso-padding-alt:0pt 0pt 0pt 0pt;\">     </p><p class=\"0\" style=\"mso-pagination:none;text-autospace:none;mso-padding-alt:0pt 0pt 0pt 0pt;\">     </p><p class=\"0\" style=\"mso-pagination:none;text-autospace:none;mso-padding-alt:0pt 0pt 0pt 0pt;\">     </p><p class=\"0\" style=\"mso-pagination:none;text-autospace:none;mso-padding-alt:0pt 0pt 0pt 0pt;\"><span lang=\"EN-US\" style=\"mso-fareast-font-family:함초롬바탕;mso-font-width:100%;letter-spacing:0pt;mso-text-raise:0pt;\">13. </span><span style=\"font-family:함초롬바탕;mso-fareast-font-family:함초롬바탕;\">차별금지법 추진</span></p><p class=\"0\" style=\"mso-pagination:none;text-autospace:none;mso-padding-alt:0pt 0pt 0pt 0pt;\">     </p><p class=\"0\" style=\"mso-pagination:none;text-autospace:none;mso-padding-alt:0pt 0pt 0pt 0pt;\"><span style=\"font-family:함초롬바탕;mso-fareast-font-family:함초롬바탕;\">법안 통과되면 </span><span lang=\"EN-US\" style=\"mso-fareast-font-family:함초롬바탕;mso-font-width:100%;letter-spacing:0pt;mso-text-raise:0pt;\">‘</span><span style=\"font-family:함초롬바탕;mso-fareast-font-family:함초롬바탕;\">중국인</span><span lang=\"EN-US\" style=\"mso-fareast-font-family:함초롬바탕;mso-font-width:100%;letter-spacing:0pt;mso-text-raise:0pt;\">’ ‘</span><span style=\"font-family:함초롬바탕;mso-fareast-font-family:함초롬바탕;\">이슬람</span><span lang=\"EN-US\" style=\"mso-fareast-font-family:함초롬바탕;mso-font-width:100%;letter-spacing:0pt;mso-text-raise:0pt;\">’ ‘</span><span style=\"font-family:함초롬바탕;mso-fareast-font-family:함초롬바탕;\">난민</span><span lang=\"EN-US\" style=\"mso-fareast-font-family:함초롬바탕;mso-font-width:100%;letter-spacing:0pt;mso-text-raise:0pt;\">’ </span><span style=\"font-family:함초롬바탕;mso-fareast-font-family:함초롬바탕;\">싫다고하면 잡혀감 이게 나라냐</span></p><p class=\"0\" style=\"mso-pagination:none;text-autospace:none;mso-padding-alt:0pt 0pt 0pt 0pt;\">     </p><p class=\"0\" style=\"mso-pagination:none;text-autospace:none;mso-padding-alt:0pt 0pt 0pt 0pt;\"><span style=\"font-family:함초롬바탕;mso-fareast-font-family:함초롬바탕;\">사실 이 법은 </span><span lang=\"EN-US\" style=\"mso-fareast-font-family:함초롬바탕;mso-font-width:100%;letter-spacing:0pt;mso-text-raise:0pt;\">2012</span><span style=\"font-family:함초롬바탕;mso-fareast-font-family:함초롬바탕;\">년부터 계속 추진되어왔는데 지금 정부라면 못할 것도 없다고 생각함</span></p><p class=\"0\" style=\"mso-pagination:none;text-autospace:none;mso-padding-alt:0pt 0pt 0pt 0pt;\">     </p><p class=\"0\" style=\"mso-pagination:none;text-autospace:none;mso-padding-alt:0pt 0pt 0pt 0pt;\">     </p><p class=\"0\" style=\"mso-pagination:none;text-autospace:none;mso-padding-alt:0pt 0pt 0pt 0pt;\">     </p><p class=\"0\" style=\"mso-pagination:none;text-autospace:none;mso-padding-alt:0pt 0pt 0pt 0pt;\">     </p><p class=\"0\" style=\"mso-pagination:none;text-autospace:none;mso-padding-alt:0pt 0pt 0pt 0pt;\">     </p><p class=\"0\" style=\"mso-pagination:none;text-autospace:none;mso-padding-alt:0pt 0pt 0pt 0pt;\">     </p><p class=\"0\" style=\"mso-pagination:none;text-autospace:none;mso-padding-alt:0pt 0pt 0pt 0pt;\"><span lang=\"EN-US\" style=\"mso-fareast-font-family:함초롬바탕;mso-font-width:100%;letter-spacing:0pt;mso-text-raise:0pt;\">&gt;&gt;&gt;</span><span style=\"font-family:함초롬바탕;mso-fareast-font-family:함초롬바탕;\">요약</span><span lang=\"EN-US\" style=\"mso-fareast-font-family:함초롬바탕;mso-font-width:100%;letter-spacing:0pt;mso-text-raise:0pt;\">&lt;&lt;&lt;</span></p><p class=\"0\" style=\"mso-pagination:none;text-autospace:none;mso-padding-alt:0pt 0pt 0pt 0pt;\">     </p><p class=\"0\" style=\"mso-pagination:none;text-autospace:none;mso-padding-alt:0pt 0pt 0pt 0pt;mso-list:l2 level1 lfo3;\"><span style=\"font-family:함초롬바탕;mso-fareast-font-family:함초롬바탕;\">1. 탈원전으로 세계최고 원전기술 가졌던 두산중공업 망함</span><span lang=\"EN-US\" style=\"mso-fareast-font-family:함초롬바탕;mso-font-width:100%;letter-spacing:0pt;mso-text-raise:0pt;\">. </span><span style=\"font-family:함초롬바탕;mso-fareast-font-family:함초롬바탕;\">그리고 산 밀어버리고 태양광판 설치함</span><span lang=\"EN-US\" style=\"mso-fareast-font-family:함초롬바탕;mso-font-width:100%;letter-spacing:0pt;mso-text-raise:0pt;\">. </span><span style=\"font-family:함초롬바탕;mso-fareast-font-family:함초롬바탕;\">근데 한국업체는 입찰 하나도 안되고 중국업체에만 </span><span lang=\"EN-US\" style=\"mso-fareast-font-family:함초롬바탕;mso-font-width:100%;letter-spacing:0pt;mso-text-raise:0pt;\">100%</span><span style=\"font-family:함초롬바탕;mso-fareast-font-family:함초롬바탕;\">입찰시킴</span><span lang=\"EN-US\" style=\"mso-fareast-font-family:함초롬바탕;mso-font-width:100%;letter-spacing:0pt;mso-text-raise:0pt;\">. </span></p><p class=\"0\" style=\"mso-pagination:none;text-autospace:none;mso-padding-alt:0pt 0pt 0pt 0pt;\"><span lang=\"EN-US\" style=\"mso-fareast-font-family:함초롬바탕;mso-font-width:100%;letter-spacing:0pt;mso-text-raise:0pt;\">1-1. </span><span style=\"font-family:함초롬바탕;mso-fareast-font-family:함초롬바탕;\">탈원전으로 에너지 수급 불안해지니 결국 중국이랑 러시아에서 전기 수입해올 계획</span></p><p class=\"0\" style=\"mso-pagination:none;text-autospace:none;mso-padding-alt:0pt 0pt 0pt 0pt;\"><span lang=\"EN-US\" style=\"mso-fareast-font-family:함초롬바탕;\"> </span><span lang=\"EN-US\" style=\"mso-fareast-font-family:함초롬바탕;mso-font-width:100%;letter-spacing:0pt;mso-text-raise:0pt;\">-&gt; </span><span style=\"font-family:함초롬바탕;mso-fareast-font-family:함초롬바탕;\">사이 나빠져서 전기 끊어버리면 ㅈ됨ㅋ 우리나라 산업 싹 멈추는거임</span><span lang=\"EN-US\" style=\"mso-fareast-font-family:함초롬바탕;mso-font-width:100%;letter-spacing:0pt;mso-text-raise:0pt;\">. </span><span style=\"font-family:함초롬바탕;mso-fareast-font-family:함초롬바탕;\">목줄 잡힘</span></p><p class=\"0\" style=\"mso-pagination:none;text-autospace:none;mso-padding-alt:0pt 0pt 0pt 0pt;mso-list:l2 level1 lfo3;\"><span style=\"font-family:함초롬바탕;mso-fareast-font-family:함초롬바탕;\">2. 한전 대형사업 중국입찰 시키려 함 </span><span lang=\"EN-US\" style=\"mso-fareast-font-family:함초롬바탕;mso-font-width:100%;letter-spacing:0pt;mso-text-raise:0pt;\">-&gt; </span><span style=\"font-family:함초롬바탕;mso-fareast-font-family:함초롬바탕;\">논란일자 중국업체 배제시킴</span></p><p class=\"0\" style=\"mso-pagination:none;text-autospace:none;mso-padding-alt:0pt 0pt 0pt 0pt;\"><span lang=\"EN-US\" style=\"mso-fareast-font-family:함초롬바탕;mso-font-width:100%;letter-spacing:0pt;mso-text-raise:0pt;\">3. </span><span style=\"font-family:함초롬바탕;mso-fareast-font-family:함초롬바탕;\">세계최대규모 선사유적지 부수고 레고랜드</span><span lang=\"EN-US\" style=\"mso-fareast-font-family:함초롬바탕;mso-font-width:100%;letter-spacing:0pt;mso-text-raise:0pt;\">, </span><span style=\"font-family:함초롬바탕;mso-fareast-font-family:함초롬바탕;\">중국인 전용 초호화호텔 짓고 있음 </span><span lang=\"EN-US\" style=\"mso-fareast-font-family:함초롬바탕;mso-font-width:100%;letter-spacing:0pt;mso-text-raise:0pt;\">(</span><span style=\"font-family:함초롬바탕;mso-fareast-font-family:함초롬바탕;\">이 유적지는 중국 동북공정을 막을 수 있는 증거물임</span><span lang=\"EN-US\" style=\"mso-fareast-font-family:함초롬바탕;mso-font-width:100%;letter-spacing:0pt;mso-text-raise:0pt;\">)</span></p><p class=\"0\" style=\"mso-pagination:none;text-autospace:none;mso-padding-alt:0pt 0pt 0pt 0pt;\"><span lang=\"EN-US\" style=\"mso-fareast-font-family:함초롬바탕;mso-font-width:100%;letter-spacing:0pt;mso-text-raise:0pt;\">4. </span><span style=\"font-family:함초롬바탕;mso-fareast-font-family:함초롬바탕;\">한국 내 차이나타운 조카 많다</span></p><p class=\"0\" style=\"mso-pagination:none;text-autospace:none;mso-padding-alt:0pt 0pt 0pt 0pt;\"><span lang=\"EN-US\" style=\"mso-fareast-font-family:함초롬바탕;mso-font-width:100%;letter-spacing:0pt;mso-text-raise:0pt;\">4-1. </span><span style=\"font-family:함초롬바탕;mso-fareast-font-family:함초롬바탕;\">중국인 유입 많아지면 보호명목으로 중국 공안 들어올 수 있음</span><span lang=\"EN-US\" style=\"mso-fareast-font-family:함초롬바탕;mso-font-width:100%;letter-spacing:0pt;mso-text-raise:0pt;\">. </span><span style=\"font-family:함초롬바탕;mso-fareast-font-family:함초롬바탕;\">예시로 이탈리아는 이미 중국 공안이 돌아다니고 있음</span><span lang=\"EN-US\" style=\"mso-fareast-font-family:함초롬바탕;mso-font-width:100%;letter-spacing:0pt;mso-text-raise:0pt;\">. </span><span style=\"font-family:함초롬바탕;mso-fareast-font-family:함초롬바탕;\">중국한테 뭐라고 하지도 못함</span><span lang=\"EN-US\" style=\"mso-fareast-font-family:함초롬바탕;mso-font-width:100%;letter-spacing:0pt;mso-text-raise:0pt;\">. </span><span style=\"font-family:함초롬바탕;mso-fareast-font-family:함초롬바탕;\">코로나 사태도 중국의료진이 들어와서 전두지휘함</span></p><p class=\"0\" style=\"mso-pagination:none;text-autospace:none;mso-padding-alt:0pt 0pt 0pt 0pt;\"><span lang=\"EN-US\" style=\"mso-fareast-font-family:함초롬바탕;mso-font-width:100%;letter-spacing:0pt;mso-text-raise:0pt;\">4-2. </span><span style=\"font-family:함초롬바탕;mso-fareast-font-family:함초롬바탕;\">대한민국중국성개발 하려다 사드문제로 취소</span><span lang=\"EN-US\" style=\"mso-fareast-font-family:함초롬바탕;mso-font-width:100%;letter-spacing:0pt;mso-text-raise:0pt;\">, </span><span style=\"font-family:함초롬바탕;mso-fareast-font-family:함초롬바탕;\">분쟁 중 </span><span lang=\"EN-US\" style=\"mso-fareast-font-family:함초롬바탕;mso-font-width:100%;letter-spacing:0pt;mso-text-raise:0pt;\">(</span><span style=\"font-family:함초롬바탕;mso-fareast-font-family:함초롬바탕;\">전세계 </span><span lang=\"EN-US\" style=\"mso-fareast-font-family:함초롬바탕;mso-font-width:100%;letter-spacing:0pt;mso-text-raise:0pt;\">55</span><span style=\"font-family:함초롬바탕;mso-fareast-font-family:함초롬바탕;\">개 차이나타운 모두 합친것보다 큼</span><span lang=\"EN-US\" style=\"mso-fareast-font-family:함초롬바탕;mso-font-width:100%;letter-spacing:0pt;mso-text-raise:0pt;\">)</span></p><p class=\"0\" style=\"mso-pagination:none;text-autospace:none;mso-padding-alt:0pt 0pt 0pt 0pt;\"><span lang=\"EN-US\" style=\"mso-fareast-font-family:함초롬바탕;mso-font-width:100%;letter-spacing:0pt;mso-text-raise:0pt;\">5. </span><span style=\"font-family:함초롬바탕;mso-fareast-font-family:함초롬바탕;\">세종시 스마트시티 </span><span style=\"font-family:함초롬바탕;mso-fareast-font-family:함초롬바탕;mso-font-width:100%;letter-spacing:0pt;mso-text-raise:0pt;\">– </span><span style=\"font-family:함초롬바탕;mso-fareast-font-family:함초롬바탕;\">국민 감시 위험</span><span lang=\"EN-US\" style=\"mso-fareast-font-family:함초롬바탕;mso-font-width:100%;letter-spacing:0pt;mso-text-raise:0pt;\">, </span><span style=\"font-family:함초롬바탕;mso-fareast-font-family:함초롬바탕;\">이미 중국에서는 그렇게 쓰이고 있음</span><span lang=\"EN-US\" style=\"mso-fareast-font-family:함초롬바탕;mso-font-width:100%;letter-spacing:0pt;mso-text-raise:0pt;\">. </span><span style=\"font-family:함초롬바탕;mso-fareast-font-family:함초롬바탕;\">홍콩 시위대는 </span><span lang=\"EN-US\" style=\"mso-fareast-font-family:함초롬바탕;mso-font-width:100%;letter-spacing:0pt;mso-text-raise:0pt;\">cctv</span><span style=\"font-family:함초롬바탕;mso-fareast-font-family:함초롬바탕;\">가로등 부수는 중</span><span lang=\"EN-US\" style=\"mso-fareast-font-family:함초롬바탕;mso-font-width:100%;letter-spacing:0pt;mso-text-raise:0pt;\">, </span><span style=\"font-family:함초롬바탕;mso-fareast-font-family:함초롬바탕;\">세종시 스마트시티 추진자는 중국 페이퍼컴퍼니임</span><span lang=\"EN-US\" style=\"mso-fareast-font-family:함초롬바탕;mso-font-width:100%;letter-spacing:0pt;mso-text-raise:0pt;\">(</span><span style=\"font-family:함초롬바탕;mso-fareast-font-family:함초롬바탕;\">서류상에만 존재하는 회사</span><span lang=\"EN-US\" style=\"mso-fareast-font-family:함초롬바탕;mso-font-width:100%;letter-spacing:0pt;mso-text-raise:0pt;\">)</span></p><p class=\"0\" style=\"mso-pagination:none;text-autospace:none;mso-padding-alt:0pt 0pt 0pt 0pt;\"><span lang=\"EN-US\" style=\"mso-fareast-font-family:함초롬바탕;mso-font-width:100%;letter-spacing:0pt;mso-text-raise:0pt;\">6. </span><span style=\"font-family:함초롬바탕;mso-fareast-font-family:함초롬바탕;\">연예계 차이나머니</span></p><p class=\"0\" style=\"mso-pagination:none;text-autospace:none;mso-padding-alt:0pt 0pt 0pt 0pt;\"><span lang=\"EN-US\" style=\"mso-fareast-font-family:함초롬바탕;mso-font-width:100%;letter-spacing:0pt;mso-text-raise:0pt;\">7. </span><span style=\"font-family:함초롬바탕;mso-fareast-font-family:함초롬바탕;\">산안법 개정으로 삼성 반도체기술 중국에 팔려고 함</span></p><p class=\"0\" style=\"mso-pagination:none;text-autospace:none;mso-padding-alt:0pt 0pt 0pt 0pt;\"><span lang=\"EN-US\" style=\"mso-fareast-font-family:함초롬바탕;mso-font-width:100%;letter-spacing:0pt;mso-text-raise:0pt;\">8. </span><span style=\"font-family:함초롬바탕;mso-fareast-font-family:함초롬바탕;\">부산에서 한국 기업 제철소 일시중단 시키고 중국 거대 기업 제철소 들여옴</span></p><p class=\"0\" style=\"mso-pagination:none;text-autospace:none;mso-padding-alt:0pt 0pt 0pt 0pt;\"><span lang=\"EN-US\" style=\"mso-fareast-font-family:함초롬바탕;mso-font-width:100%;letter-spacing:0pt;mso-text-raise:0pt;\">9. </span><span style=\"font-family:함초롬바탕;mso-fareast-font-family:함초롬바탕;\">교과서에서 중국 동북공정 내용 삭제함 </span><span lang=\"EN-US\" style=\"mso-fareast-font-family:함초롬바탕;mso-font-width:100%;letter-spacing:0pt;mso-text-raise:0pt;\">(</span><span style=\"font-family:함초롬바탕;mso-fareast-font-family:함초롬바탕;\">추가로 우리나라 </span><span lang=\"EN-US\" style=\"mso-fareast-font-family:함초롬바탕;mso-font-width:100%;letter-spacing:0pt;mso-text-raise:0pt;\">‘</span><span style=\"font-family:함초롬바탕;mso-fareast-font-family:함초롬바탕;\">자유민주주의</span><span lang=\"EN-US\" style=\"mso-fareast-font-family:함초롬바탕;mso-font-width:100%;letter-spacing:0pt;mso-text-raise:0pt;\">’</span><span style=\"font-family:함초롬바탕;mso-fareast-font-family:함초롬바탕;\">에서 </span><span lang=\"EN-US\" style=\"mso-fareast-font-family:함초롬바탕;mso-font-width:100%;letter-spacing:0pt;mso-text-raise:0pt;\">‘</span><span style=\"font-family:함초롬바탕;mso-fareast-font-family:함초롬바탕;\">자유</span><span lang=\"EN-US\" style=\"mso-fareast-font-family:함초롬바탕;mso-font-width:100%;letter-spacing:0pt;mso-text-raise:0pt;\">’</span><span style=\"font-family:함초롬바탕;mso-fareast-font-family:함초롬바탕;\">삭제함</span><span lang=\"EN-US\" style=\"mso-fareast-font-family:함초롬바탕;mso-font-width:100%;letter-spacing:0pt;mso-text-raise:0pt;\">)</span></p><p class=\"0\" style=\"mso-pagination:none;text-autospace:none;mso-padding-alt:0pt 0pt 0pt 0pt;\"><span lang=\"EN-US\" style=\"mso-fareast-font-family:함초롬바탕;mso-font-width:100%;letter-spacing:0pt;mso-text-raise:0pt;\">10. </span><span style=\"font-family:함초롬바탕;mso-fareast-font-family:함초롬바탕;\">네이버 메인에 중국 카테고리만 있음</span></p><p class=\"0\" style=\"mso-pagination:none;text-autospace:none;mso-padding-alt:0pt 0pt 0pt 0pt;\"><span lang=\"EN-US\" style=\"mso-fareast-font-family:함초롬바탕;mso-font-width:100%;letter-spacing:0pt;mso-text-raise:0pt;\">11. </span><span style=\"font-family:함초롬바탕;mso-fareast-font-family:함초롬바탕;\">서울지역 일부 이중언어특구지역 지정해서 중국어 필수교육 정책 추진 </span><span lang=\"EN-US\" style=\"mso-fareast-font-family:함초롬바탕;mso-font-width:100%;letter-spacing:0pt;mso-text-raise:0pt;\">(</span><span style=\"font-family:함초롬바탕;mso-fareast-font-family:함초롬바탕;\">서울시 교육감</span><span lang=\"EN-US\" style=\"mso-fareast-font-family:함초롬바탕;mso-font-width:100%;letter-spacing:0pt;mso-text-raise:0pt;\">)</span></p><p class=\"0\" style=\"mso-pagination:none;text-autospace:none;mso-padding-alt:0pt 0pt 0pt 0pt;\"><span lang=\"EN-US\" style=\"mso-fareast-font-family:함초롬바탕;mso-font-width:100%;letter-spacing:0pt;mso-text-raise:0pt;\">12. </span><span style=\"font-family:함초롬바탕;mso-fareast-font-family:함초롬바탕;\">민주연구위원장이 중국 공산당교 가서 정책 배워옴</span><span lang=\"EN-US\" style=\"mso-fareast-font-family:함초롬바탕;mso-font-width:100%;letter-spacing:0pt;mso-text-raise:0pt;\">. (?????)</span></p><p class=\"0\" style=\"mso-pagination:none;text-autospace:none;mso-padding-alt:0pt 0pt 0pt 0pt;\"><span lang=\"EN-US\" style=\"mso-fareast-font-family:함초롬바탕;mso-font-width:100%;letter-spacing:0pt;mso-text-raise:0pt;\">13. 2012</span><span style=\"font-family:함초롬바탕;mso-fareast-font-family:함초롬바탕;\">년부터 추진중인 차별금지법</span><span lang=\"EN-US\" style=\"mso-fareast-font-family:함초롬바탕;mso-font-width:100%;letter-spacing:0pt;mso-text-raise:0pt;\">. </span><span style=\"font-family:함초롬바탕;mso-fareast-font-family:함초롬바탕;\">통과되면 난민</span><span lang=\"EN-US\" style=\"mso-fareast-font-family:함초롬바탕;mso-font-width:100%;letter-spacing:0pt;mso-text-raise:0pt;\">, </span><span style=\"font-family:함초롬바탕;mso-fareast-font-family:함초롬바탕;\">중국인</span><span lang=\"EN-US\" style=\"mso-fareast-font-family:함초롬바탕;mso-font-width:100%;letter-spacing:0pt;mso-text-raise:0pt;\">, </span><span style=\"font-family:함초롬바탕;mso-fareast-font-family:함초롬바탕;\">이슬람 싫다고하면 잡혀감</span><span lang=\"EN-US\" style=\"mso-fareast-font-family:함초롬바탕;mso-font-width:100%;letter-spacing:0pt;mso-text-raise:0pt;\">.</span></p><p class=\"0\" style=\"mso-pagination:none;text-autospace:none;mso-padding-alt:0pt 0pt 0pt 0pt;\">     </p><p class=\"0\" style=\"mso-pagination:none;text-autospace:none;mso-padding-alt:0pt 0pt 0pt 0pt;\">     </p><p class=\"0\" style=\"mso-pagination:none;text-autospace:none;mso-padding-alt:0pt 0pt 0pt 0pt;\">     </p><p class=\"0\" style=\"mso-pagination:none;text-autospace:none;mso-padding-alt:0pt 0pt 0pt 0pt;\"><span style=\"font-family:함초롬바탕;mso-fareast-font-family:함초롬바탕;\">일베</span><span lang=\"EN-US\" style=\"mso-fareast-font-family:함초롬바탕;mso-font-width:100%;letter-spacing:0pt;mso-text-raise:0pt;\">, </span><span style=\"font-family:함초롬바탕;mso-fareast-font-family:함초롬바탕;\">틀딱</span><span lang=\"EN-US\" style=\"mso-fareast-font-family:함초롬바탕;mso-font-width:100%;letter-spacing:0pt;mso-text-raise:0pt;\">, </span><span style=\"font-family:함초롬바탕;mso-fareast-font-family:함초롬바탕;\">꼴통</span><span lang=\"EN-US\" style=\"mso-fareast-font-family:함초롬바탕;mso-font-width:100%;letter-spacing:0pt;mso-text-raise:0pt;\">, </span><span style=\"font-family:함초롬바탕;mso-fareast-font-family:함초롬바탕;\">태극기부대</span><span lang=\"EN-US\" style=\"mso-fareast-font-family:함초롬바탕;mso-font-width:100%;letter-spacing:0pt;mso-text-raise:0pt;\">, </span><span style=\"font-family:함초롬바탕;mso-fareast-font-family:함초롬바탕;\">극우</span><span lang=\"EN-US\" style=\"mso-fareast-font-family:함초롬바탕;mso-font-width:100%;letter-spacing:0pt;mso-text-raise:0pt;\">, </span><span style=\"font-family:함초롬바탕;mso-fareast-font-family:함초롬바탕;\">토착왜구</span><span lang=\"EN-US\" style=\"mso-fareast-font-family:함초롬바탕;mso-font-width:100%;letter-spacing:0pt;mso-text-raise:0pt;\">, </span><span style=\"font-family:함초롬바탕;mso-fareast-font-family:함초롬바탕;\">자한당 알바 뭐라 욕해도 상관 없어</span></p><p class=\"0\" style=\"mso-pagination:none;text-autospace:none;mso-padding-alt:0pt 0pt 0pt 0pt;\">     </p><p class=\"0\" style=\"mso-pagination:none;text-autospace:none;mso-padding-alt:0pt 0pt 0pt 0pt;\"><span style=\"font-family:함초롬바탕;mso-fareast-font-family:함초롬바탕;\">난 그저 사실을 말하는 것 뿐이니까</span></p><p class=\"0\" style=\"mso-pagination:none;text-autospace:none;mso-padding-alt:0pt 0pt 0pt 0pt;\">     </p><p class=\"0\" style=\"mso-pagination:none;text-autospace:none;mso-padding-alt:0pt 0pt 0pt 0pt;\"><span style=\"font-family:함초롬바탕;mso-fareast-font-family:함초롬바탕;\">이런것들을 뒤에서 슬쩍 조용하게 처리해버리게 내버려 두면 뭘해도 괜찮다고 저쪽에선 생각해버릴거야</span><span lang=\"EN-US\" style=\"mso-fareast-font-family:함초롬바탕;mso-font-width:100%;letter-spacing:0pt;mso-text-raise:0pt;\">. </span></p><p class=\"0\" style=\"mso-pagination:none;text-autospace:none;mso-padding-alt:0pt 0pt 0pt 0pt;\"><span style=\"font-family:함초롬바탕;mso-fareast-font-family:함초롬바탕;\">그러니까 제발 관심좀 갖자</span><span lang=\"EN-US\" style=\"mso-fareast-font-family:함초롬바탕;mso-font-width:100%;letter-spacing:0pt;mso-text-raise:0pt;\">. </span><span style=\"font-family:함초롬바탕;mso-fareast-font-family:함초롬바탕;\">하다못해 이런 것들이 있다는것만 알아줬으면 좋겠어</span><span lang=\"EN-US\" style=\"mso-fareast-font-family:함초롬바탕;mso-font-width:100%;letter-spacing:0pt;mso-text-raise:0pt;\">....</span></p><p class=\"0\" style=\"mso-pagination:none;text-autospace:none;mso-padding-alt:0pt 0pt 0pt 0pt;\">     </p><p class=\"0\" style=\"mso-pagination:none;text-autospace:none;mso-padding-alt:0pt 0pt 0pt 0pt;\"><span style=\"font-family:함초롬바탕;mso-fareast-font-family:함초롬바탕;\">사실 이 글 올리는데도 진짜 많이 용기 냈어</span><span lang=\"EN-US\" style=\"mso-fareast-font-family:함초롬바탕;mso-font-width:100%;letter-spacing:0pt;mso-text-raise:0pt;\">. </span><span style=\"font-family:함초롬바탕;mso-fareast-font-family:함초롬바탕;\">무섭지만 할말은 꼭 해야겠어</span><span lang=\"EN-US\" style=\"mso-fareast-font-family:함초롬바탕;mso-font-width:100%;letter-spacing:0pt;mso-text-raise:0pt;\">.. </span><span style=\"font-family:함초롬바탕;mso-fareast-font-family:함초롬바탕;\">이런 것들을 대부분의 사람들이 모르고 있다는게 너무 화나고 답답해서</span><span lang=\"EN-US\" style=\"mso-fareast-font-family:함초롬바탕;mso-font-width:100%;letter-spacing:0pt;mso-text-raise:0pt;\">..</span></p><p class=\"0\" style=\"mso-pagination:none;text-autospace:none;mso-padding-alt:0pt 0pt 0pt 0pt;\">     </p><p class=\"0\" style=\"mso-pagination:none;text-autospace:none;mso-padding-alt:0pt 0pt 0pt 0pt;\">     </p><p class=\"0\" style=\"mso-pagination:none;text-autospace:none;mso-padding-alt:0pt 0pt 0pt 0pt;\">     </p><p class=\"0\" style=\"mso-pagination:none;text-autospace:none;mso-padding-alt:0pt 0pt 0pt 0pt;\"><span style=\"font-family:함초롬바탕;mso-fareast-font-family:함초롬바탕;\">청와대 국민청원 레고랜드 건립 반대 링크</span></p><p class=\"0\" style=\"mso-pagination:none;text-autospace:none;mso-padding-alt:0pt 0pt 0pt 0pt;\">     </p><p class=\"0\" style=\"mso-pagination:none;text-autospace:none;mso-padding-alt:0pt 0pt 0pt 0pt;\"><span lang=\"EN-US\" style=\"mso-fareast-font-family:함초롬바탕;mso-font-width:100%;letter-spacing:0pt;mso-text-raise:0pt;\">https://www1.president.go.kr/petitions/588864</span></p><p class=\"0\" style=\"mso-pagination:none;text-autospace:none;mso-padding-alt:0pt 0pt 0pt 0pt;\">     </p><p class=\"0\" style=\"mso-pagination:none;text-autospace:none;mso-padding-alt:0pt 0pt 0pt 0pt;\">     </p><!--[if !mso]>\n",
       "<style>\n",
       "v\\:* {behavior:url(#default#vml);}\n",
       "o\\:* {behavior:url(#default#vml);}\n",
       "w\\:* {behavior:url(#default#vml);}\n",
       ".shape {behavior:url(#default#vml);}\n",
       "</style>\n",
       "<![endif]\n",
       "-->\n",
       "</div>"
      ]
     },
     "execution_count": 167,
     "metadata": {},
     "output_type": "execute_result"
    }
   ],
   "source": [
    "contents.find(\"div\")"
   ]
  },
  {
   "cell_type": "code",
   "execution_count": null,
   "metadata": {},
   "outputs": [],
   "source": []
  },
  {
   "cell_type": "code",
   "execution_count": 168,
   "metadata": {},
   "outputs": [
    {
     "name": "stdout",
     "output_type": "stream",
     "text": [
      "제발 나가지말고 끝까지 읽어줘... 부탁이야..읽기 귀찮다면 마지막에 짧게 요약해놨으니 그거라도 읽어줘.     나 정말 무서워. 왜 이런것들이 언론에 집중적으로 다뤄지지 않는지, 분명히 실제로 일어나고 있는 일들인데 왜 쉬쉬하고 일부 소수언론에서만 다루는 건지. 분명히 사실이지만 알고 있는 사람은 별로 없을거라 생각해. 나도 몰랐거든.          판에서 어떤 글을 보고, 이곳저곳 돌아다니면서 조사를 했어.중국 자본이 우리나라를 삼키고 있다는 거.....     하나하나 접할때마다 ‘내가 이걸 보는게 현실인가’, ‘꿈이 아닌가’ 생각이 들었어그래서 너네한테도 알리고 싶어서 이 글을 써          일부러 킹리적갓심은 전부 빼버렸어. 정확하게 ‘일어난’ 일들만 정리해봤어.     <<스압 주의>>   (귀찮으면 맨 밑에 정리만 봐)   음슴체 주의                    1. 탈원전으로 두산중공업 망하고 그 전기 메꾸기 위해 100% 중국산 태양광 판넬로 건설함     우리나라는 세계에서 손꼽히는 원전 기술 보유국이었음. 거기에 선두로 서있는 기업이 두산중공업. 그런데 무리하게 탈원전 정책을 실행하면서 짓기로한 원전을 취소해버렸고, 해외에서 원전수주도 못하게 됨. 중국이 세계원전시장을 독차지하고 있는건 알아..? 두산중공업도 망하고 이제는......     해외에서는 그렇다 침. 우리나라 상황은? 우리나라 한전 적자가 역대급임. 1조 4000억이라함. 박근혜 정부때는 흑자였음. 이걸 몇 년만에 이렇게 만들 수가 있나?     아무튼 그래서 그 부족한 전기를 어떻게 메꾸냐...  산을 밀어버리고 거기에 태양광판을 설치하기로 함. 태양광판넬 업체에게서 입찰을 받음. 중국기업과 한국기업이 입찰을 시도했는데 한국기업의 입찰은 전혀 받아들여지지 않음. 모조리 100% 중국기업이 입찰을 받음 ㅋㅋㅋㅋㅋㅋㅋㅋㅋㅋㅋㅋㅋ          1-1. 탈원전으로 에너지 수급 불안정해지니까 중국·러시아에서 전기 수입하기로 함.     원래 우리나라는 100% 국내에서 에너지 수급할 수 있었음근데....     https://news.v.daum.net/v/20181211031202549     만약에 중국 러시아랑 사이 안좋아져서 걔네가 전기 수급 끊으면 우리나라 ㅈ됨결국 목줄 잡혔단거임                    2. 한전 사업 중국 입찰 될 뻔함 (국민이 관심 가져서 무산)     이건 좀 유명해서 아는 사람 많을듯알다시피 한 나라에서 에너지라는 건 나라의 근간임. 모든 산업이 에너지가 없으면 다 중단되니까... 근데 ㅋㅋ            이게 워낙 심각한 일이라서 언론에서 집중조명 하지 않았음에도 어른들 사이에서는 많이 퍼짐. 그래서 국민청원 올라오고 관심 받으니까 중국기업에 입찰 배제시키겠다고 입장 밝힘. 그러니까 아래 이어지는 일들에도 관심이 필요해 정말로...           https://news.v.daum.net/v/20181211031202549     3. 강원도 춘천 유적지에 레고랜드 건립 & 중국인 전용 초호화 호텔 건립     https://kr-mb.theepochtimes.com/%EA%B0%95%EC%9B%90%EB%8F%84-%EC%A4%91%EA%B5%AD%EC%9D%B8-%EC%9C%84%ED%95%9C-%EC%B5%9C%EA%B3%A0%EA%B8%89-%ED%98%B8%ED%85%94-%EC%9C%84%ED%95%B4-%EC%84%B8%EA%B3%84%EC%A0%81-%EC%9C%A0%EC%A0%81_526465.html     이거 조카 심각함;; 레고랜드 건립 이게 mb정부 때부터 시작한 사업이거든?? 춘천에 섬이 있는데 거기다가 레고랜드 건립을 추진함. 근데 문제는 이 섬에 세계 최대의 선사시대 도시 유적지가 있음. 그런데도 mb정부는 문화재로 등록하지 않고 그대로 사업을 추진해버림. 대체 왜??전문가들 말로는 스톤헨지에 버금가는 역사적 가치를 갖고 있고 이 유적지가 중국의 동북공정 (밑에서 더 설명)을 막을 수 있는 증거가 된다 함. 역시 스톤헨지처럼 관광지로서의 가치도 엄청 높음.게다가 중국인전용 호텔도 같이 짓는다함ㅋㅋㅋㅋㅋㅋ      관계자 해명으로는 1m이상 땅을 파지 않겠다고 했는데 호텔을 지으려면 10m이상은 땅을 파야한다고 함. 말이 안됨. 이미 유적지 파괴 되는 중임          밑에 청와대 국민청원 링크 걸테니까 제발 꼭 이거라도 해줘.. 저번에 10만정도 채웠다가 기간 끝나서 다 못채우고 새로 청원 생김... 부탁할게               +) 참고로 춘천에 지금 중국 관련해서 개발되는게 “차이나타운, 레고랜드, 중국인전용 초호화호텔” 이렇게 있는데 차이나타운을 유적지 위에 짓는 거라고 혼동하는 사람이 몇 있음. 차이나타운은 라비에벨 관광단지에 짓는거고, 레고랜드와 호텔을 유적지 섬에 짓는 거임. 혼동x          4. 한국 내 차이나타운             너네 차이나타운 이렇게 많은거 알고 있었어? 나도 최근에야 알게 됨ㅋㅋㅋㅋㅋㅋㅋㅋ 도대체 차이나타운이 우리나라에 이렇게 많아야 될 이유가 뭐야? 우리나라 조선족은 80만명 넘어간지 오래고 한족도 비슷함.     난 이해가 안돼. 왜 굳이 차이나타운만 우리나라에 이렇게 많은걸까? 재팬타운, 아메리카 타운, 이런 건 없잖아....          4-1. 춘천&홍천 라비에벨 관광단지 차이나타운     이번에 새로 생기는 차이나타운임. 국내에서 역대급 제일 큰 규모라고 함. 춘천 선사유적지에 중국인전용 초호화호텔을 짓는 거랑 이거랑 연결되서 중국인 관광객 유치하려는 사업인듯함.     근데...너네 차이나타운이 계속 많아지면 무슨일이 벌어질지 생각해봤어? 지금 이탈리아 상황 어떤지 알아? 중국인 관광객이 너무 많아서 자국민 보호라는 명목으로 중국에서 공안 들어왔어.. 이탈리아에 중국 공안이 돌아다닌다고...     +) 이탈리아는 유럽에서 중국인이 가장 많이 사는 나라고, 일대일로 사업에도 동참한 나라임. 이번 우한페렴 사태에서 이탈리아는 중국인 의료진의 전두지휘 아래 들어감.             -> 이탈리아 내에 중국인이 너무 많아져서 현지에서도 중국인을 어떻게 할 수가 없음 통제 불가          4-2. 현덕지구 차이나타운 개발 (feat. 대한민국중국성개발 주식회사)          이거......ㅋㅋㅋㅋㅋㅋㅋㅋ 우리나라 진짜 ㅈ될뻔함. 사업 참여한 회사 이름이 너무 노골적이지 않아? “대한민국중국성개발”이래.. 진짜 돌았나ㅋㅋㅋㅋㅋㅋㅋㅋㅋㅋ 이게 말이 돼?     이게 뭐냐면 현덕지구라는 엄청나게 큰 공터가 있음. 여기다가 전세계 55개 차이나타운을 전부 합친것보다 큰 초대형 차이나타운을 짓기로함. 게다가 계약한 이름 업체가 ‘대한민국중국성개발 주식회사’임ㅋㅋㅋㅋㅋㅋㅋㅋㅋㅋㅋ     ㅈㄴ 거짓말 같지? 나도 이거보고 가짜뉴스 아냐? 말이 되나? 이랬는데 사실이더라... 당장 네이버에 현덕지구 차이나타운 검색해봐. 부동산 투자하라는 부동산 블로그 많음.     >>>근데 결론적으로 이거 취소됨.<<<‘어떻게 한국에 중국성을 짓냐?’하는 이유로 취소된게 아님!!     ㄹ혜 때 사드 배치 때문에 중국이랑 사이 나빠짐-> 중국 기업이 우리나라에 투자하기 힘들어짐. (한한령)-> 투자가 미뤄지니까 경기도에서 얘네 사업자 지정 취소함-> 현재까지 법원에서 저작권 분쟁 중     http://www.joongboo.com/news/articleView.html?idxno=363417696               5. 세종시 스마트시티     여기서 말하는 스마트시티는 아파트이름 스마트시티 ㄴㄴ            이거는 청와대랑 중국 업체랑 협약해서 중국 업체가 짓는거임. 근데 중국 업체는 알고보니 서류상에만 존재하는 페이퍼컴퍼니였음...(출처: 탐사보도 세븐)????          안면인식 기술로 모든걸 해결하고 차량같은것도 싹 다 통제됨. 물론 편리한 점도 있겠지. 근데 저게 중국에서 감시 수단으로 쓰이는거 알아? 마치 독재정권 시절에 몇 명이상 모이지 못하게 했던 것처럼, 사람들이 다같이 모여서 당의 권력에 저항할 수 없도록 만든거야. 제 2의 천안문 사태가 일어나는 걸 두려워하고 있는거지     그래서 지금 홍콩 시위대에서 무슨 일을 하고 있는지 알아?? CCTV가 달린 가로등을 전부 부수고 있어. 중국 공산당이 자기들을 CCTV로 감시하고 있다는 걸 다 아니까.           이런식임     이런 상황인데 실체도 확인이 안된 중국 회사와 계약해서 한국에 스마트시티를 짓는다??     (참고로 중국의 회사는 거의다 공산당과 연결되어있다고 봐도 무방함. 왜냐? 중국에서는 공산당이 요구하면 회사는 고객의 개인정보를 무조건 줘야함. 법 자체가 그럼)          6. 연예계 차이나머니     https://www.hankookilbo.com/News/Read/201805311654744123     연예 기획사를 차이나머니가 쥐고 흔들고 있음.      참고로 텐센트가 뭐냐면 중국 연예인에 관심이있다면 알꺼임. (내가 중연 좋아했어서...) 쉽게 말해서 네이버+다음+카카오+한국 여러 방송사 다 합친 규모의 회사임. 문화계에 이 회사가 안뻗친 분야가 없음.      텐센트는 그냥 거의 공산당 회사라 봐도 됨. 텐센트의 어플들로 중국인들 통제함. (위챗, 위챗페이, 웨이보, QQ 등등)               7. 삼성 반도체 기술 우리나라가 나서서 중국에 팔려고함. (산안법 개정)     알다시피 삼성 반도체 기술이 세계 1위임. 근데....           결국 삼성이 소송해서 겨우 막아냄.               8. 부산에서 한국 기업 제철소 일시중단 시키고 중국 거대 기업 제철소 들여옴           http://m.factinnews.co.kr/news/newsview.php?ncode=1065578593087189                    9. 교과서에서 중국 동북공정 내용 삭제함       >> 덤으로 자유민주주의에서 ‘자유’가 삭제됨 ㅋㅋㅋㅋㅋㅋㅋ     최근들어서 동북공정이 완화된거냐? 절대 아님. 지금도 계속 진행중임. 근데 왜 이걸 삭제 해??판빙빙 나오는 무미랑 전기 알아? 거기서 고구려군이 당나라로 쳐들어오는데 이거를 ‘북방반란군’이라 표현함ㅋㅋㅋㅋㅋㅋㅋㅋㅋ 고구려를 자기나라로 보고 있다는거지     이것뿐만이 아니고 그냥 교과서에서도 역사왜곡 조카 심각함. 근데 왜 이사실을 학교에서 배울 수 없게 하는거지?                              10. 네이버 메인에 왜 ‘중국’ 카테고리가 있지?     아니 생각해봐. 중국 카테고리가 있으면 ‘할리우드’도 있고, ‘뉴질랜드’도 있고, ‘영국’도 있고, ‘싱가폴’도 있고 다 있어야 하는거 아니야? 왜 중국만 떡하니 있는건지 나는 이해가 안돼                          11. 이중언어 특구지역 지정 검토 중 (조희연 서울시교육감)     http://www.eduinnews.co.kr/news/articleView.html?idxno=23766     이게 뭐냐면 서울 안의 특구지역에서 중국어를 필수교육으로 배우게 하는 거임.일제강점기도 아니고... 왜 중국어를 우리나라에서 필수적으로 배워야 해?     조희연 교육감 曰 “남부 3개구를 아예 이중언어특구로 지정해서 중국어를 자유롭게 익히고 쓸 수 있도록 하겠다.”     시민들이 반발하니까 설득중임ㅋㅋㅋㅋㅋㅋㅋㅋㅋhttps://news.naver.com/main/read.nhn?mode=LSD&mid=sec&sid1=102&oid=008&aid=0004318088                    12. 양정철 민주연구원장이 중국 공산당과 당교 협약 맺음     http://www.newdaily.co.kr/site/data/html/2019/07/04/2019070400189.html     공산당교에 가서 중국 정책을 배워오겠다고... 독재정권 공산당에서 왜 정책을 배워와?                         13. 차별금지법 추진     법안 통과되면 ‘중국인’ ‘이슬람’ ‘난민’ 싫다고하면 잡혀감 이게 나라냐     사실 이 법은 2012년부터 계속 추진되어왔는데 지금 정부라면 못할 것도 없다고 생각함                              >>>요약<<<     1. 탈원전으로 세계최고 원전기술 가졌던 두산중공업 망함. 그리고 산 밀어버리고 태양광판 설치함. 근데 한국업체는 입찰 하나도 안되고 중국업체에만 100%입찰시킴. 1-1. 탈원전으로 에너지 수급 불안해지니 결국 중국이랑 러시아에서 전기 수입해올 계획 -> 사이 나빠져서 전기 끊어버리면 ㅈ됨ㅋ 우리나라 산업 싹 멈추는거임. 목줄 잡힘2. 한전 대형사업 중국입찰 시키려 함 -> 논란일자 중국업체 배제시킴3. 세계최대규모 선사유적지 부수고 레고랜드, 중국인 전용 초호화호텔 짓고 있음 (이 유적지는 중국 동북공정을 막을 수 있는 증거물임)4. 한국 내 차이나타운 조카 많다4-1. 중국인 유입 많아지면 보호명목으로 중국 공안 들어올 수 있음. 예시로 이탈리아는 이미 중국 공안이 돌아다니고 있음. 중국한테 뭐라고 하지도 못함. 코로나 사태도 중국의료진이 들어와서 전두지휘함4-2. 대한민국중국성개발 하려다 사드문제로 취소, 분쟁 중 (전세계 55개 차이나타운 모두 합친것보다 큼)5. 세종시 스마트시티 – 국민 감시 위험, 이미 중국에서는 그렇게 쓰이고 있음. 홍콩 시위대는 cctv가로등 부수는 중, 세종시 스마트시티 추진자는 중국 페이퍼컴퍼니임(서류상에만 존재하는 회사)6. 연예계 차이나머니7. 산안법 개정으로 삼성 반도체기술 중국에 팔려고 함8. 부산에서 한국 기업 제철소 일시중단 시키고 중국 거대 기업 제철소 들여옴9. 교과서에서 중국 동북공정 내용 삭제함 (추가로 우리나라 ‘자유민주주의’에서 ‘자유’삭제함)10. 네이버 메인에 중국 카테고리만 있음11. 서울지역 일부 이중언어특구지역 지정해서 중국어 필수교육 정책 추진 (서울시 교육감)12. 민주연구위원장이 중국 공산당교 가서 정책 배워옴. (?????)13. 2012년부터 추진중인 차별금지법. 통과되면 난민, 중국인, 이슬람 싫다고하면 잡혀감.               일베, 틀딱, 꼴통, 태극기부대, 극우, 토착왜구, 자한당 알바 뭐라 욕해도 상관 없어     난 그저 사실을 말하는 것 뿐이니까     이런것들을 뒤에서 슬쩍 조용하게 처리해버리게 내버려 두면 뭘해도 괜찮다고 저쪽에선 생각해버릴거야. 그러니까 제발 관심좀 갖자. 하다못해 이런 것들이 있다는것만 알아줬으면 좋겠어....     사실 이 글 올리는데도 진짜 많이 용기 냈어. 무섭지만 할말은 꼭 해야겠어.. 이런 것들을 대부분의 사람들이 모르고 있다는게 너무 화나고 답답해서..               청와대 국민청원 레고랜드 건립 반대 링크     https://www1.president.go.kr/petitions/588864          \n",
      "\n"
     ]
    }
   ],
   "source": [
    "str = ''\n",
    "count = 0\n",
    "for i in contents.find_all('div') :\n",
    "    print(i.text)\n",
    "    str += i.text\n",
    "    count += 1\n",
    "    if count == 50 : break"
   ]
  },
  {
   "cell_type": "code",
   "execution_count": 169,
   "metadata": {},
   "outputs": [
    {
     "data": {
      "text/plain": [
       "'제발 나가지말고 끝까지 읽어줘... 부탁이야..읽기 귀찮다면 마지막에 짧게 요약해놨으니 그거라도 읽어줘.  \\xa0  나 정말 무서워. 왜 이런것들이 언론에 집중적으로 다뤄지지 않는지, 분명히 실제로 일어나고 있는 일들인데 왜 쉬쉬하고 일부 소수언론에서만 다루는 건지. 분명히 사실이지만 알고 있는 사람은 별로 없을거라 생각해. 나도 몰랐거든.  \\xa0    \\xa0  판에서 어떤 글을 보고, 이곳저곳 돌아다니면서 조사를 했어.중국 자본이 우리나라를 삼키고 있다는 거.....  \\xa0  하나하나 접할때마다 ‘내가 이걸 보는게 현실인가’, ‘꿈이 아닌가’ 생각이 들었어그래서 너네한테도 알리고 싶어서 이 글을 써  \\xa0    \\xa0  일부러 킹리적갓심은 전부 빼버렸어. 정확하게 ‘일어난’ 일들만 정리해봤어.  \\xa0  <<스압 주의>>   (귀찮으면 맨 밑에 정리만 봐)   음슴체 주의  \\xa0    \\xa0    \\xa0    \\xa0  1. 탈원전으로 두산중공업 망하고 그 전기 메꾸기 위해 100% 중국산 태양광 판넬로 건설함  \\xa0  우리나라는 세계에서 손꼽히는 원전 기술 보유국이었음. 거기에 선두로 서있는 기업이 두산중공업. 그런데 무리하게 탈원전 정책을 실행하면서 짓기로한 원전을 취소해버렸고, 해외에서 원전수주도 못하게 됨. 중국이 세계원전시장을 독차지하고 있는건 알아..? 두산중공업도 망하고 이제는......  \\xa0  해외에서는 그렇다 침. 우리나라 상황은? 우리나라 한전 적자가 역대급임. 1조 4000억이라함. 박근혜 정부때는 흑자였음. 이걸 몇 년만에 이렇게 만들 수가 있나?  \\xa0  아무튼 그래서 그 부족한 전기를 어떻게 메꾸냐...  산을 밀어버리고 거기에 태양광판을 설치하기로 함. 태양광판넬 업체에게서 입찰을 받음. 중국기업과 한국기업이 입찰을 시도했는데 한국기업의 입찰은 전혀 받아들여지지 않음. 모조리 100% 중국기업이 입찰을 받음 ㅋㅋㅋㅋㅋㅋㅋㅋㅋㅋㅋㅋㅋ  \\xa0    \\xa0  1-1. 탈원전으로 에너지 수급 불안정해지니까 중국·러시아에서 전기 수입하기로 함.  \\xa0  원래 우리나라는 100% 국내에서 에너지 수급할 수 있었음근데....  \\xa0  https://news.v.daum.net/v/20181211031202549  \\xa0  만약에 중국 러시아랑 사이 안좋아져서 걔네가 전기 수급 끊으면 우리나라 ㅈ됨결국 목줄 잡혔단거임  \\xa0    \\xa0    \\xa0    \\xa0  2. 한전 사업 중국 입찰 될 뻔함 (국민이 관심 가져서 무산)  \\xa0  이건 좀 유명해서 아는 사람 많을듯알다시피 한 나라에서 에너지라는 건 나라의 근간임. 모든 산업이 에너지가 없으면 다 중단되니까... 근데 ㅋㅋ  \\xa0  \\xa0\\xa0  \\xa0  이게 워낙 심각한 일이라서 언론에서 집중조명 하지 않았음에도 어른들 사이에서는 많이 퍼짐. 그래서 국민청원 올라오고 관심 받으니까 중국기업에 입찰 배제시키겠다고 입장 밝힘. 그러니까 아래 이어지는 일들에도 관심이 필요해 정말로...  \\xa0  \\xa0  \\xa0  https://news.v.daum.net/v/20181211031202549  \\xa0  3. 강원도 춘천 유적지에 레고랜드 건립 & 중국인 전용 초호화 호텔 건립  \\xa0  https://kr-mb.theepochtimes.com/%EA%B0%95%EC%9B%90%EB%8F%84-%EC%A4%91%EA%B5%AD%EC%9D%B8-%EC%9C%84%ED%95%9C-%EC%B5%9C%EA%B3%A0%EA%B8%89-%ED%98%B8%ED%85%94-%EC%9C%84%ED%95%B4-%EC%84%B8%EA%B3%84%EC%A0%81-%EC%9C%A0%EC%A0%81_526465.html  \\xa0  이거 조카 심각함;; 레고랜드 건립 이게 mb정부 때부터 시작한 사업이거든?? 춘천에 섬이 있는데 거기다가 레고랜드 건립을 추진함. 근데 문제는 이 섬에 세계 최대의 선사시대 도시 유적지가 있음. 그런데도 mb정부는 문화재로 등록하지 않고 그대로 사업을 추진해버림. 대체 왜??전문가들 말로는 스톤헨지에 버금가는 역사적 가치를 갖고 있고 이 유적지가 중국의 동북공정 (밑에서 더 설명)을 막을 수 있는 증거가 된다 함. 역시 스톤헨지처럼 관광지로서의 가치도 엄청 높음.게다가 중국인전용 호텔도 같이 짓는다함ㅋㅋㅋㅋㅋㅋ   \\xa0  관계자 해명으로는 1m이상 땅을 파지 않겠다고 했는데 호텔을 지으려면 10m이상은 땅을 파야한다고 함. 말이 안됨. 이미 유적지 파괴 되는 중임  \\xa0    \\xa0  밑에 청와대 국민청원 링크 걸테니까 제발 꼭 이거라도 해줘.. 저번에 10만정도 채웠다가 기간 끝나서 다 못채우고 새로 청원 생김... 부탁할게  \\xa0    \\xa0    \\xa0  +) 참고로 춘천에 지금 중국 관련해서 개발되는게 “차이나타운, 레고랜드, 중국인전용 초호화호텔” 이렇게 있는데 차이나타운을 유적지 위에 짓는 거라고 혼동하는 사람이 몇 있음. 차이나타운은 라비에벨 관광단지에 짓는거고, 레고랜드와 호텔을 유적지 섬에 짓는 거임. 혼동x  \\xa0    \\xa0  4. 한국 내 차이나타운  \\xa0  \\xa0\\xa0\\xa0  \\xa0  너네 차이나타운 이렇게 많은거 알고 있었어? 나도 최근에야 알게 됨ㅋㅋㅋㅋㅋㅋㅋㅋ 도대체 차이나타운이 우리나라에 이렇게 많아야 될 이유가 뭐야? 우리나라 조선족은 80만명 넘어간지 오래고 한족도 비슷함.  \\xa0  난 이해가 안돼. 왜 굳이 차이나타운만 우리나라에 이렇게 많은걸까? 재팬타운, 아메리카 타운, 이런 건 없잖아....  \\xa0    \\xa0  4-1. 춘천&홍천 라비에벨 관광단지 차이나타운  \\xa0  이번에 새로 생기는 차이나타운임. 국내에서 역대급 제일 큰 규모라고 함. 춘천 선사유적지에 중국인전용 초호화호텔을 짓는 거랑 이거랑 연결되서 중국인 관광객 유치하려는 사업인듯함.  \\xa0  근데...너네 차이나타운이 계속 많아지면 무슨일이 벌어질지 생각해봤어? 지금 이탈리아 상황 어떤지 알아? 중국인 관광객이 너무 많아서 자국민 보호라는 명목으로 중국에서 공안 들어왔어.. 이탈리아에 중국 공안이 돌아다닌다고...  \\xa0  +) 이탈리아는 유럽에서 중국인이 가장 많이 사는 나라고, 일대일로 사업에도 동참한 나라임. 이번 우한페렴 사태에서 이탈리아는 중국인 의료진의 전두지휘 아래 들어감.   \\xa0  \\xa0\\xa0  \\xa0  -> 이탈리아 내에 중국인이 너무 많아져서 현지에서도 중국인을 어떻게 할 수가 없음 통제 불가  \\xa0    \\xa0  4-2. 현덕지구 차이나타운 개발 (feat. 대한민국중국성개발 주식회사)  \\xa0    \\xa0  이거......ㅋㅋㅋㅋㅋㅋㅋㅋ 우리나라 진짜 ㅈ될뻔함. 사업 참여한 회사 이름이 너무 노골적이지 않아? “대한민국중국성개발”이래.. 진짜 돌았나ㅋㅋㅋㅋㅋㅋㅋㅋㅋㅋ 이게 말이 돼?  \\xa0  이게 뭐냐면 현덕지구라는 엄청나게 큰 공터가 있음. 여기다가 전세계 55개 차이나타운을 전부 합친것보다 큰 초대형 차이나타운을 짓기로함. 게다가 계약한 이름 업체가 ‘대한민국중국성개발 주식회사’임ㅋㅋㅋㅋㅋㅋㅋㅋㅋㅋㅋ  \\xa0  ㅈㄴ 거짓말 같지? 나도 이거보고 가짜뉴스 아냐? 말이 되나? 이랬는데 사실이더라... 당장 네이버에 현덕지구 차이나타운 검색해봐. 부동산 투자하라는 부동산 블로그 많음.  \\xa0  >>>근데 결론적으로 이거 취소됨.<<<‘어떻게 한국에 중국성을 짓냐?’하는 이유로 취소된게 아님!!  \\xa0  ㄹ혜 때 사드 배치 때문에 중국이랑 사이 나빠짐-> 중국 기업이 우리나라에 투자하기 힘들어짐. (한한령)-> 투자가 미뤄지니까 경기도에서 얘네 사업자 지정 취소함-> 현재까지 법원에서 저작권 분쟁 중  \\xa0  http://www.joongboo.com/news/articleView.html?idxno=363417696  \\xa0    \\xa0    \\xa0  5. 세종시 스마트시티  \\xa0  여기서 말하는 스마트시티는 아파트이름 스마트시티 ㄴㄴ   \\xa0  \\xa0  \\xa0  이거는 청와대랑 중국 업체랑 협약해서 중국 업체가 짓는거임. 근데 중국 업체는 알고보니 서류상에만 존재하는 페이퍼컴퍼니였음...(출처: 탐사보도 세븐)????  \\xa0    \\xa0  안면인식 기술로 모든걸 해결하고 차량같은것도 싹 다 통제됨. 물론 편리한 점도 있겠지. 근데 저게 중국에서 감시 수단으로 쓰이는거 알아? 마치 독재정권 시절에 몇 명이상 모이지 못하게 했던 것처럼, 사람들이 다같이 모여서 당의 권력에 저항할 수 없도록 만든거야. 제 2의 천안문 사태가 일어나는 걸 두려워하고 있는거지  \\xa0  그래서 지금 홍콩 시위대에서 무슨 일을 하고 있는지 알아?? CCTV가 달린 가로등을 전부 부수고 있어. 중국 공산당이 자기들을 CCTV로 감시하고 있다는 걸 다 아니까.  \\xa0    \\xa0  \\xa0이런식임  \\xa0  이런 상황인데 실체도 확인이 안된 중국 회사와 계약해서 한국에 스마트시티를 짓는다??  \\xa0  (참고로 중국의 회사는 거의다 공산당과 연결되어있다고 봐도 무방함. 왜냐? 중국에서는 공산당이 요구하면 회사는 고객의 개인정보를 무조건 줘야함. 법 자체가 그럼)  \\xa0    \\xa0  6. 연예계 차이나머니  \\xa0  https://www.hankookilbo.com/News/Read/201805311654744123  \\xa0  연예 기획사를 차이나머니가 쥐고 흔들고 있음.   \\xa0  참고로 텐센트가 뭐냐면 중국 연예인에 관심이있다면 알꺼임. (내가 중연 좋아했어서...) 쉽게 말해서 네이버+다음+카카오+한국 여러 방송사 다 합친 규모의 회사임. 문화계에 이 회사가 안뻗친 분야가 없음.   \\xa0  텐센트는 그냥 거의 공산당 회사라 봐도 됨. 텐센트의 어플들로 중국인들 통제함. (위챗, 위챗페이, 웨이보, QQ 등등)  \\xa0    \\xa0    \\xa0  7. 삼성 반도체 기술 우리나라가 나서서 중국에 팔려고함. (산안법 개정)  \\xa0  알다시피 삼성 반도체 기술이 세계 1위임. 근데....  \\xa0  \\xa0  \\xa0  결국 삼성이 소송해서 겨우 막아냄.  \\xa0    \\xa0    \\xa0  8. 부산에서 한국 기업 제철소 일시중단 시키고 중국 거대 기업 제철소 들여옴  \\xa0  \\xa0  \\xa0  http://m.factinnews.co.kr/news/newsview.php?ncode=1065578593087189  \\xa0    \\xa0    \\xa0    \\xa0  9. 교과서에서 중국 동북공정 내용 삭제함  \\xa0  \\xa0\\xa0>> 덤으로 자유민주주의에서 ‘자유’가 삭제됨 ㅋㅋㅋㅋㅋㅋㅋ  \\xa0  최근들어서 동북공정이 완화된거냐? 절대 아님. 지금도 계속 진행중임. 근데 왜 이걸 삭제 해??판빙빙 나오는 무미랑 전기 알아? 거기서 고구려군이 당나라로 쳐들어오는데 이거를 ‘북방반란군’이라 표현함ㅋㅋㅋㅋㅋㅋㅋㅋㅋ 고구려를 자기나라로 보고 있다는거지  \\xa0  이것뿐만이 아니고 그냥 교과서에서도 역사왜곡 조카 심각함. 근데 왜 이사실을 학교에서 배울 수 없게 하는거지?  \\xa0    \\xa0    \\xa0    \\xa0    \\xa0    \\xa0  10. 네이버 메인에 왜 ‘중국’ 카테고리가 있지?  \\xa0  아니 생각해봐. 중국 카테고리가 있으면 ‘할리우드’도 있고, ‘뉴질랜드’도 있고, ‘영국’도 있고, ‘싱가폴’도 있고 다 있어야 하는거 아니야? 왜 중국만 떡하니 있는건지 나는 이해가 안돼  \\xa0  \\xa0  \\xa0    \\xa0    \\xa0    \\xa0  11. 이중언어 특구지역 지정 검토 중 (조희연 서울시교육감)  \\xa0  http://www.eduinnews.co.kr/news/articleView.html?idxno=23766  \\xa0  이게 뭐냐면 서울 안의 특구지역에서 중국어를 필수교육으로 배우게 하는 거임.일제강점기도 아니고... 왜 중국어를 우리나라에서 필수적으로 배워야 해?  \\xa0  조희연 교육감 曰 “남부 3개구를 아예 이중언어특구로 지정해서 중국어를 자유롭게 익히고 쓸 수 있도록 하겠다.”  \\xa0  시민들이 반발하니까 설득중임ㅋㅋㅋㅋㅋㅋㅋㅋㅋhttps://news.naver.com/main/read.nhn?mode=LSD&mid=sec&sid1=102&oid=008&aid=0004318088  \\xa0    \\xa0    \\xa0    \\xa0  12. 양정철 민주연구원장이 중국 공산당과 당교 협약 맺음  \\xa0  http://www.newdaily.co.kr/site/data/html/2019/07/04/2019070400189.html  \\xa0  공산당교에 가서 중국 정책을 배워오겠다고... 독재정권 공산당에서 왜 정책을 배워와?  \\xa0    \\xa0    \\xa0    \\xa0    \\xa0  13. 차별금지법 추진  \\xa0  법안 통과되면 ‘중국인’ ‘이슬람’ ‘난민’ 싫다고하면 잡혀감 이게 나라냐  \\xa0  사실 이 법은 2012년부터 계속 추진되어왔는데 지금 정부라면 못할 것도 없다고 생각함  \\xa0    \\xa0    \\xa0    \\xa0    \\xa0    \\xa0  >>>요약<<<  \\xa0  1. 탈원전으로 세계최고 원전기술 가졌던 두산중공업 망함. 그리고 산 밀어버리고 태양광판 설치함. 근데 한국업체는 입찰 하나도 안되고 중국업체에만 100%입찰시킴. 1-1. 탈원전으로 에너지 수급 불안해지니 결국 중국이랑 러시아에서 전기 수입해올 계획 -> 사이 나빠져서 전기 끊어버리면 ㅈ됨ㅋ 우리나라 산업 싹 멈추는거임. 목줄 잡힘2. 한전 대형사업 중국입찰 시키려 함 -> 논란일자 중국업체 배제시킴3. 세계최대규모 선사유적지 부수고 레고랜드, 중국인 전용 초호화호텔 짓고 있음 (이 유적지는 중국 동북공정을 막을 수 있는 증거물임)4. 한국 내 차이나타운 조카 많다4-1. 중국인 유입 많아지면 보호명목으로 중국 공안 들어올 수 있음. 예시로 이탈리아는 이미 중국 공안이 돌아다니고 있음. 중국한테 뭐라고 하지도 못함. 코로나 사태도 중국의료진이 들어와서 전두지휘함4-2. 대한민국중국성개발 하려다 사드문제로 취소, 분쟁 중 (전세계 55개 차이나타운 모두 합친것보다 큼)5. 세종시 스마트시티 – 국민 감시 위험, 이미 중국에서는 그렇게 쓰이고 있음. 홍콩 시위대는 cctv가로등 부수는 중, 세종시 스마트시티 추진자는 중국 페이퍼컴퍼니임(서류상에만 존재하는 회사)6. 연예계 차이나머니7. 산안법 개정으로 삼성 반도체기술 중국에 팔려고 함8. 부산에서 한국 기업 제철소 일시중단 시키고 중국 거대 기업 제철소 들여옴9. 교과서에서 중국 동북공정 내용 삭제함 (추가로 우리나라 ‘자유민주주의’에서 ‘자유’삭제함)10. 네이버 메인에 중국 카테고리만 있음11. 서울지역 일부 이중언어특구지역 지정해서 중국어 필수교육 정책 추진 (서울시 교육감)12. 민주연구위원장이 중국 공산당교 가서 정책 배워옴. (?????)13. 2012년부터 추진중인 차별금지법. 통과되면 난민, 중국인, 이슬람 싫다고하면 잡혀감.  \\xa0    \\xa0    \\xa0  일베, 틀딱, 꼴통, 태극기부대, 극우, 토착왜구, 자한당 알바 뭐라 욕해도 상관 없어  \\xa0  난 그저 사실을 말하는 것 뿐이니까  \\xa0  이런것들을 뒤에서 슬쩍 조용하게 처리해버리게 내버려 두면 뭘해도 괜찮다고 저쪽에선 생각해버릴거야. 그러니까 제발 관심좀 갖자. 하다못해 이런 것들이 있다는것만 알아줬으면 좋겠어....  \\xa0  사실 이 글 올리는데도 진짜 많이 용기 냈어. 무섭지만 할말은 꼭 해야겠어.. 이런 것들을 대부분의 사람들이 모르고 있다는게 너무 화나고 답답해서..  \\xa0    \\xa0    \\xa0  청와대 국민청원 레고랜드 건립 반대 링크  \\xa0  https://www1.president.go.kr/petitions/588864  \\xa0    \\xa0  \\n'"
      ]
     },
     "execution_count": 169,
     "metadata": {},
     "output_type": "execute_result"
    }
   ],
   "source": [
    "str"
   ]
  },
  {
   "cell_type": "code",
   "execution_count": 170,
   "metadata": {},
   "outputs": [],
   "source": [
    "content = soup.find(\"meta\",{\"property\":\"og:description\"})\n",
    "content = content.get('content')"
   ]
  },
  {
   "cell_type": "code",
   "execution_count": 171,
   "metadata": {},
   "outputs": [
    {
     "data": {
      "text/plain": [
       "'제발 나가지말고 끝까지 읽어줘... 부탁이야..읽기 귀찮다면 마지막에 짧게 요약해놨으니 그거라도 읽어줘.     나 정말 무서워. 왜 이런것들이 언론에 집중적으로 다뤄지지 않는지, 분명히 실제로 일어나고 있는 일들인데 왜 쉬쉬하고 일부 소수언론에서만 다루는 건지....'"
      ]
     },
     "execution_count": 171,
     "metadata": {},
     "output_type": "execute_result"
    }
   ],
   "source": [
    "content"
   ]
  },
  {
   "cell_type": "code",
   "execution_count": null,
   "metadata": {},
   "outputs": [],
   "source": [
    "# 결론. 걍 150자로 하자 ^^"
   ]
  }
 ],
 "metadata": {
  "kernelspec": {
   "display_name": "Python 3",
   "language": "python",
   "name": "python3"
  },
  "language_info": {
   "codemirror_mode": {
    "name": "ipython",
    "version": 3
   },
   "file_extension": ".py",
   "mimetype": "text/x-python",
   "name": "python",
   "nbconvert_exporter": "python",
   "pygments_lexer": "ipython3",
   "version": "3.7.6"
  }
 },
 "nbformat": 4,
 "nbformat_minor": 4
}
